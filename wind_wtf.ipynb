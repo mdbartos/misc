{
 "metadata": {
  "name": "",
  "signature": "sha256:2d6010d3bf314b765bf308ae8101e93537fc6d6328df41ecce3d6af5646cd9d9"
 },
 "nbformat": 3,
 "nbformat_minor": 0,
 "worksheets": [
  {
   "cells": [
    {
     "cell_type": "code",
     "collapsed": false,
     "input": [
      "import numpy as np\n",
      "import pandas as pd\n",
      "import os\n",
      "import datetime\n",
      "from scipy import stats\n",
      "import random"
     ],
     "language": "python",
     "metadata": {},
     "outputs": [],
     "prompt_number": 28
    },
    {
     "cell_type": "code",
     "collapsed": false,
     "input": [
      "%matplotlib inline"
     ],
     "language": "python",
     "metadata": {},
     "outputs": [],
     "prompt_number": 8
    },
    {
     "cell_type": "code",
     "collapsed": false,
     "input": [
      "histo = pd.read_csv('/home/akagi/Desktop/wind_new/hist/data_39.8125_-104.8125', sep='\\t', names=['prcp', 'tmax', 'tmin', 'wspd'])\n",
      "echam_a1b = pd.read_csv('/home/akagi/Desktop/wind_new/mpi_echam5.3_a1b/data_39.8125_-104.8125', sep='\\t', names=['prcp', 'tmax', 'tmin', 'wspd'])\n",
      "ukmo_a1b = pd.read_csv('/home/akagi/Desktop/wind_new/ukmo_hadcm3.1_a1b/data_39.8125_-104.8125', sep='\\t', names=['prcp', 'tmax', 'tmin', 'wspd'])"
     ],
     "language": "python",
     "metadata": {},
     "outputs": [],
     "prompt_number": 9
    },
    {
     "cell_type": "code",
     "collapsed": false,
     "input": [
      "histo['date'] = pd.date_range(start=datetime.date(1949, 1, 1), end=datetime.date(2010,12,31))\n",
      "echam_a1b['date'] = pd.date_range(start=datetime.date(2010, 1, 1), end=datetime.date(2099,12,31))\n",
      "ukmo_a1b['date'] = pd.date_range(start=datetime.date(2010, 1, 1), end=datetime.date(2099,12,31))\n",
      "\n",
      "histo['month'] = [i.month for i in histo['date']]\n",
      "histo['day'] = [i.day for i in histo['date']]\n",
      "echam_a1b['month'] = [i.month for i in echam_a1b['date']]\n",
      "echam_a1b['day'] = [i.day for i in echam_a1b['date']]\n",
      "ukmo_a1b['month'] = [i.month for i in ukmo_a1b['date']]\n",
      "ukmo_a1b['day'] = [i.day for i in ukmo_a1b['date']]\n",
      "\n",
      "h = histo.groupby(['month', 'day']).mean().reset_index()\n",
      "u = ukmo_a1b.groupby(['month', 'day']).mean().reset_index()\n",
      "e = echam_a1b.groupby(['month', 'day']).mean().reset_index()\n",
      "c = pd.concat([h['wspd'], u['wspd'], e['wspd']], axis=1)"
     ],
     "language": "python",
     "metadata": {},
     "outputs": [],
     "prompt_number": 10
    },
    {
     "cell_type": "code",
     "collapsed": false,
     "input": [
      "quanthist = [histo['wspd'].quantile(float(i)/100) for i in range(1, 101)]\n",
      "quantukmo = [ukmo_a1b['wspd'].quantile(float(i)/100) for i in range(1, 101)]\n",
      "quantecham = [echam_a1b['wspd'].quantile(float(i)/100) for i in range(1, 101)]\n",
      "\n",
      "quanthistc = [c.iloc[:,0].quantile(float(i)/100) for i in range(1, 101)]\n",
      "quantukmoc = [c.iloc[:,1].quantile(float(i)/100) for i in range(1, 101)]\n",
      "quantechamc = [c.iloc[:,2].quantile(float(i)/100) for i in range(1, 101)]"
     ],
     "language": "python",
     "metadata": {},
     "outputs": [],
     "prompt_number": 11
    },
    {
     "cell_type": "code",
     "collapsed": false,
     "input": [
      "plot(range(len(quanthist)), quanthist)\n",
      "plot(range(len(quantukmo)), quantukmo)\n",
      "plot(range(len(quantecham)), quantecham)"
     ],
     "language": "python",
     "metadata": {},
     "outputs": [
      {
       "metadata": {},
       "output_type": "pyout",
       "prompt_number": 14,
       "text": [
        "[<matplotlib.lines.Line2D at 0x7f430d2bbf10>]"
       ]
      },
      {
       "metadata": {},
       "output_type": "display_data",
       "png": "[encoded data removed]",
       "text": [
        "<matplotlib.figure.Figure at 0x7f430f5c7190>"
       ]
      }
     ],
     "prompt_number": 14
    },
    {
     "cell_type": "code",
     "collapsed": false,
     "input": [
      "hist(histo['wspd'], bins=100, linewidth=0)\n",
      "hist(ukmo_a1b['wspd'].iloc[:22645], bins=100, alpha=0.75, linewidth=0)"
     ],
     "language": "python",
     "metadata": {},
     "outputs": [
      {
       "metadata": {},
       "output_type": "pyout",
       "prompt_number": 33,
       "text": [
        "(array([  23.,   68.,  148.,  154.,  242.,  273.,  263.,  335.,  415.,\n",
        "         459.,  462.,  602.,  556.,  652.,  722.,  681.,  694.,  729.,\n",
        "         753.,  796.,  792.,  684.,  716.,  794.,  666.,  741.,  660.,\n",
        "         617.,  601.,  528.,  532.,  478.,  517.,  507.,  433.,  372.,\n",
        "         374.,  263.,  381.,  278.,  273.,  259.,  234.,  196.,  187.,\n",
        "         207.,  140.,  206.,  103.,  101.,   96.,   96.,   91.,   65.,\n",
        "          66.,   44.,   29.,   55.,   44.,   30.,   27.,   24.,   13.,\n",
        "          10.,    7.,    9.,   14.,    3.,    0.,    5.,    9.,   10.,\n",
        "           3.,    0.,    7.,    6.,    4.,    4.,    0.,    0.,    0.,\n",
        "           2.,    0.,    0.,    0.,    0.,    0.,    2.,    0.,    0.,\n",
        "           0.,    0.,    0.,    1.,    0.,    0.,    0.,    0.,    0.,    2.]),\n",
        " array([  0.02  ,   0.1542,   0.2884,   0.4226,   0.5568,   0.691 ,\n",
        "          0.8252,   0.9594,   1.0936,   1.2278,   1.362 ,   1.4962,\n",
        "          1.6304,   1.7646,   1.8988,   2.033 ,   2.1672,   2.3014,\n",
        "          2.4356,   2.5698,   2.704 ,   2.8382,   2.9724,   3.1066,\n",
        "          3.2408,   3.375 ,   3.5092,   3.6434,   3.7776,   3.9118,\n",
        "          4.046 ,   4.1802,   4.3144,   4.4486,   4.5828,   4.717 ,\n",
        "          4.8512,   4.9854,   5.1196,   5.2538,   5.388 ,   5.5222,\n",
        "          5.6564,   5.7906,   5.9248,   6.059 ,   6.1932,   6.3274,\n",
        "          6.4616,   6.5958,   6.73  ,   6.8642,   6.9984,   7.1326,\n",
        "          7.2668,   7.401 ,   7.5352,   7.6694,   7.8036,   7.9378,\n",
        "          8.072 ,   8.2062,   8.3404,   8.4746,   8.6088,   8.743 ,\n",
        "          8.8772,   9.0114,   9.1456,   9.2798,   9.414 ,   9.5482,\n",
        "          9.6824,   9.8166,   9.9508,  10.085 ,  10.2192,  10.3534,\n",
        "         10.4876,  10.6218,  10.756 ,  10.8902,  11.0244,  11.1586,\n",
        "         11.2928,  11.427 ,  11.5612,  11.6954,  11.8296,  11.9638,\n",
        "         12.098 ,  12.2322,  12.3664,  12.5006,  12.6348,  12.769 ,\n",
        "         12.9032,  13.0374,  13.1716,  13.3058,  13.44  ]),\n",
        " <a list of 100 Patch objects>)"
       ]
      },
      {
       "metadata": {},
       "output_type": "display_data",
       "png": "[encoded data removed]",
       "text": [
        "<matplotlib.figure.Figure at 0x7f430330a690>"
       ]
      }
     ],
     "prompt_number": 33
    },
    {
     "cell_type": "heading",
     "level": 2,
     "metadata": {},
     "source": [
      "Distribution not normal; non-parametric test needed:"
     ]
    },
    {
     "cell_type": "code",
     "collapsed": false,
     "input": [
      "print histo['wspd'].skew()\n",
      "print histo['wspd'].kurtosis()"
     ],
     "language": "python",
     "metadata": {},
     "outputs": [
      {
       "output_type": "stream",
       "stream": "stdout",
       "text": [
        "0.6579004525\n",
        "0.495924866912\n"
       ]
      }
     ],
     "prompt_number": 25
    },
    {
     "cell_type": "heading",
     "level": 1,
     "metadata": {},
     "source": [
      "Wilcoxon Rank-Sum"
     ]
    },
    {
     "cell_type": "code",
     "collapsed": false,
     "input": [
      "z_stat, p_val = stats.ranksums(histo['wspd'], ukmo_a1b['wspd'].iloc[:22645])\n",
      "print z_stat, p_val"
     ],
     "language": "python",
     "metadata": {},
     "outputs": [
      {
       "output_type": "stream",
       "stream": "stdout",
       "text": [
        "-2.7151794357 0.00662398698395\n"
       ]
      }
     ],
     "prompt_number": 19
    },
    {
     "cell_type": "heading",
     "level": 1,
     "metadata": {},
     "source": [
      "Wilcoxon Signed-Rank"
     ]
    },
    {
     "cell_type": "code",
     "collapsed": false,
     "input": [
      "z_stat, p_val = stats.wilcoxon(histo['wspd'], ukmo_a1b['wspd'].iloc[:22645])\n",
      "print z_stat, p_val"
     ],
     "language": "python",
     "metadata": {},
     "outputs": [
      {
       "output_type": "stream",
       "stream": "stdout",
       "text": [
        "120788492.0 0.0005281821601\n"
       ]
      }
     ],
     "prompt_number": 26
    },
    {
     "cell_type": "heading",
     "level": 1,
     "metadata": {},
     "source": [
      "Wilcoxon Rank Sum with Random Sample of 1000"
     ]
    },
    {
     "cell_type": "code",
     "collapsed": false,
     "input": [
      "z_stat, p_val = stats.ranksums(random.sample(histo['wspd'], 1000), random.sample(ukmo_a1b['wspd'].iloc[:22645], 1000))\n",
      "print z_stat, p_val"
     ],
     "language": "python",
     "metadata": {},
     "outputs": [
      {
       "output_type": "stream",
       "stream": "stdout",
       "text": [
        "-0.292569488408 0.769851238457\n"
       ]
      }
     ],
     "prompt_number": 36
    },
    {
     "cell_type": "code",
     "collapsed": false,
     "input": [],
     "language": "python",
     "metadata": {},
     "outputs": []
    }
   ],
   "metadata": {}
  }
 ]
}