{
 "metadata": {
  "name": "",
  "signature": "sha256:871b5fffb1269671e93a3bb94ae76e79489d2ff2dea1c6ae5eb72640085e403c"
 },
 "nbformat": 3,
 "nbformat_minor": 0,
 "worksheets": []
}