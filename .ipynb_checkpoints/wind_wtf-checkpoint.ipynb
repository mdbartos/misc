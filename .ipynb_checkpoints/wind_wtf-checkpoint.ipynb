{
 "metadata": {
  "name": "",
<<<<<<< HEAD
  "signature": "sha256:0c0e03dab3bfa53701aa525f96b9d90867193b829c4b773fe65773066d3ee412"
=======
  "signature": "sha256:33a0ede7406ca502d049c5c7093e1e01975a8677d7c9a44f0adbb7ab2c6ef175"
>>>>>>> 2914dabec9672f7e8c5131b59e107107c72b20a4
 },
 "nbformat": 3,
 "nbformat_minor": 0,
 "worksheets": [
  {
   "cells": [
    {
     "cell_type": "code",
     "collapsed": false,
     "input": [
      "import numpy as np\n",
      "import pandas as pd\n",
      "import os\n",
      "import datetime\n",
<<<<<<< HEAD
      "from scipy import stats"
=======
      "from scipy import stats\n",
      "from scipy import integrate\n",
      "import random"
>>>>>>> 2914dabec9672f7e8c5131b59e107107c72b20a4
     ],
     "language": "python",
     "metadata": {},
     "outputs": [],
<<<<<<< HEAD
     "prompt_number": 19
=======
     "prompt_number": 34
>>>>>>> 2914dabec9672f7e8c5131b59e107107c72b20a4
    },
    {
     "cell_type": "code",
     "collapsed": false,
     "input": [
      "%pylab inline"
     ],
     "language": "python",
     "metadata": {},
     "outputs": [
      {
       "output_type": "stream",
       "stream": "stdout",
       "text": [
        "Populating the interactive namespace from numpy and matplotlib\n"
       ]
<<<<<<< HEAD
      }
     ],
     "prompt_number": 20
=======
      },
      {
       "output_type": "stream",
       "stream": "stderr",
       "text": [
        "WARNING: pylab import has clobbered these variables: ['random', 'e']\n",
        "`%matplotlib` prevents importing * from pylab and numpy\n"
       ]
      }
     ],
     "prompt_number": 8
>>>>>>> 2914dabec9672f7e8c5131b59e107107c72b20a4
    },
    {
     "cell_type": "code",
     "collapsed": false,
     "input": [
<<<<<<< HEAD
      "histo = pd.read_csv('/home/akagi/Desktop/wind_new/hist/data_39.8125_-104.8125', sep='\\t', names=['prcp', 'tmax', 'tmin', 'wspd'])\n",
      "echam_a1b = pd.read_csv('/home/akagi/Desktop/wind_new/mpi_echam5.3_a1b/data_39.8125_-104.8125', sep='\\t', names=['prcp', 'tmax', 'tmin', 'wspd'])\n",
      "ukmo_a1b = pd.read_csv('/home/akagi/Desktop/wind_new/ukmo_hadcm3.1_a1b/data_39.8125_-104.8125', sep='\\t', names=['prcp', 'tmax', 'tmin', 'wspd'])"
=======
      "histo = pd.read_csv('/home/tabris/Desktop/wind_new/hist/data_39.8125_-104.8125', sep='\\t', names=['prcp', 'tmax', 'tmin', 'wspd'])\n",
      "echam_a1b = pd.read_csv('/home/tabris/Desktop/wind_new/mpi_echam5.3_a1b/data_39.8125_-104.8125', sep='\\t', names=['prcp', 'tmax', 'tmin', 'wspd'])\n",
      "ukmo_a1b = pd.read_csv('/home/tabris/Desktop/wind_new/ukmo_hadcm3.1_a1b/data_39.8125_-104.8125', sep='\\t', names=['prcp', 'tmax', 'tmin', 'wspd'])"
>>>>>>> 2914dabec9672f7e8c5131b59e107107c72b20a4
     ],
     "language": "python",
     "metadata": {},
     "outputs": [],
<<<<<<< HEAD
     "prompt_number": 21
=======
     "prompt_number": 9
>>>>>>> 2914dabec9672f7e8c5131b59e107107c72b20a4
    },
    {
     "cell_type": "code",
     "collapsed": false,
     "input": [
      "histo['date'] = pd.date_range(start=datetime.date(1949, 1, 1), end=datetime.date(2010,12,31))\n",
      "echam_a1b['date'] = pd.date_range(start=datetime.date(2010, 1, 1), end=datetime.date(2099,12,31))\n",
      "ukmo_a1b['date'] = pd.date_range(start=datetime.date(2010, 1, 1), end=datetime.date(2099,12,31))\n",
      "\n",
      "histo['month'] = [i.month for i in histo['date']]\n",
      "histo['day'] = [i.day for i in histo['date']]\n",
      "echam_a1b['month'] = [i.month for i in echam_a1b['date']]\n",
      "echam_a1b['day'] = [i.day for i in echam_a1b['date']]\n",
      "ukmo_a1b['month'] = [i.month for i in ukmo_a1b['date']]\n",
      "ukmo_a1b['day'] = [i.day for i in ukmo_a1b['date']]\n",
      "\n",
      "h = histo.groupby(['month', 'day']).mean().reset_index()\n",
<<<<<<< HEAD
      "ukm = ukmo_a1b.groupby(['month', 'day']).mean().reset_index()\n",
      "ech = echam_a1b.groupby(['month', 'day']).mean().reset_index()\n",
      "c = pd.concat([h['wspd'], ukm['wspd'], ech['wspd']], axis=1)"
=======
      "u = ukmo_a1b.groupby(['month', 'day']).mean().reset_index()\n",
      "e = echam_a1b.groupby(['month', 'day']).mean().reset_index()\n",
      "c = pd.concat([h['wspd'], u['wspd'], e['wspd']], axis=1)"
>>>>>>> 2914dabec9672f7e8c5131b59e107107c72b20a4
     ],
     "language": "python",
     "metadata": {},
     "outputs": [],
<<<<<<< HEAD
     "prompt_number": 22
=======
     "prompt_number": 10
>>>>>>> 2914dabec9672f7e8c5131b59e107107c72b20a4
    },
    {
     "cell_type": "code",
     "collapsed": false,
     "input": [
      "quanthist = [histo['wspd'].quantile(float(i)/100) for i in range(1, 101)]\n",
      "quantukmo = [ukmo_a1b['wspd'].quantile(float(i)/100) for i in range(1, 101)]\n",
      "quantecham = [echam_a1b['wspd'].quantile(float(i)/100) for i in range(1, 101)]\n",
      "\n",
      "quanthistc = [c.iloc[:,0].quantile(float(i)/100) for i in range(1, 101)]\n",
      "quantukmoc = [c.iloc[:,1].quantile(float(i)/100) for i in range(1, 101)]\n",
      "quantechamc = [c.iloc[:,2].quantile(float(i)/100) for i in range(1, 101)]"
     ],
     "language": "python",
     "metadata": {},
     "outputs": [],
<<<<<<< HEAD
     "prompt_number": 23
=======
     "prompt_number": 11
>>>>>>> 2914dabec9672f7e8c5131b59e107107c72b20a4
    },
    {
     "cell_type": "code",
     "collapsed": false,
     "input": [
      "plot(range(len(quanthist)), quanthist)\n",
      "plot(range(len(quantukmo)), quantukmo)\n",
      "plot(range(len(quantecham)), quantecham)"
     ],
     "language": "python",
     "metadata": {},
     "outputs": [
      {
       "metadata": {},
       "output_type": "pyout",
<<<<<<< HEAD
       "prompt_number": 24,
       "text": [
        "[<matplotlib.lines.Line2D at 0x7f43999ab6d0>]"
=======
       "prompt_number": 12,
       "text": [
        "[<matplotlib.lines.Line2D at 0x7f13a0ce7950>]"
>>>>>>> 2914dabec9672f7e8c5131b59e107107c72b20a4
       ]
      },
      {
       "metadata": {},
       "output_type": "display_data",
       "png": "iVBORw0KGgoAAAANSUhEUgAAAXQAAAEACAYAAACj0I2EAAAABHNCSVQICAgIfAhkiAAAAAlwSFlz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\njYQCXUSkkVCgi4g0Ev8Lz4FPpYh0hjsAAAAASUVORK5CYII=\n",
       "text": [
<<<<<<< HEAD
        "<matplotlib.figure.Figure at 0x7f4399ea45d0>"
       ]
      }
     ],
     "prompt_number": 24
=======
        "<matplotlib.figure.Figure at 0x7f13a0ad5250>"
       ]
      }
     ],
     "prompt_number": 12
>>>>>>> 2914dabec9672f7e8c5131b59e107107c72b20a4
    },
    {
     "cell_type": "code",
     "collapsed": false,
     "input": [
      "hist(histo['wspd'], bins=100, linewidth=0)\n",
<<<<<<< HEAD
      "hist(ukmo_a1b['wspd'].iloc[:22645], color='r', bins=100, alpha=0.75, linewidth=0)"
=======
      "hist(ukmo_a1b['wspd'].iloc[:22645], bins=100, alpha=0.75, linewidth=0)"
>>>>>>> 2914dabec9672f7e8c5131b59e107107c72b20a4
     ],
     "language": "python",
     "metadata": {},
     "outputs": [
      {
       "metadata": {},
       "output_type": "pyout",
<<<<<<< HEAD
       "prompt_number": 36,
=======
       "prompt_number": 29,
>>>>>>> 2914dabec9672f7e8c5131b59e107107c72b20a4
       "text": [
        "(array([  23.,   68.,  148.,  154.,  242.,  273.,  263.,  335.,  415.,\n",
        "         459.,  462.,  602.,  556.,  652.,  722.,  681.,  694.,  729.,\n",
        "         753.,  796.,  792.,  684.,  716.,  794.,  666.,  741.,  660.,\n",
        "         617.,  601.,  528.,  532.,  478.,  517.,  507.,  433.,  372.,\n",
        "         374.,  263.,  381.,  278.,  273.,  259.,  234.,  196.,  187.,\n",
        "         207.,  140.,  206.,  103.,  101.,   96.,   96.,   91.,   65.,\n",
        "          66.,   44.,   29.,   55.,   44.,   30.,   27.,   24.,   13.,\n",
        "          10.,    7.,    9.,   14.,    3.,    0.,    5.,    9.,   10.,\n",
        "           3.,    0.,    7.,    6.,    4.,    4.,    0.,    0.,    0.,\n",
        "           2.,    0.,    0.,    0.,    0.,    0.,    2.,    0.,    0.,\n",
        "           0.,    0.,    0.,    1.,    0.,    0.,    0.,    0.,    0.,    2.]),\n",
        " array([  0.02  ,   0.1542,   0.2884,   0.4226,   0.5568,   0.691 ,\n",
        "          0.8252,   0.9594,   1.0936,   1.2278,   1.362 ,   1.4962,\n",
        "          1.6304,   1.7646,   1.8988,   2.033 ,   2.1672,   2.3014,\n",
        "          2.4356,   2.5698,   2.704 ,   2.8382,   2.9724,   3.1066,\n",
        "          3.2408,   3.375 ,   3.5092,   3.6434,   3.7776,   3.9118,\n",
        "          4.046 ,   4.1802,   4.3144,   4.4486,   4.5828,   4.717 ,\n",
        "          4.8512,   4.9854,   5.1196,   5.2538,   5.388 ,   5.5222,\n",
        "          5.6564,   5.7906,   5.9248,   6.059 ,   6.1932,   6.3274,\n",
        "          6.4616,   6.5958,   6.73  ,   6.8642,   6.9984,   7.1326,\n",
        "          7.2668,   7.401 ,   7.5352,   7.6694,   7.8036,   7.9378,\n",
        "          8.072 ,   8.2062,   8.3404,   8.4746,   8.6088,   8.743 ,\n",
        "          8.8772,   9.0114,   9.1456,   9.2798,   9.414 ,   9.5482,\n",
        "          9.6824,   9.8166,   9.9508,  10.085 ,  10.2192,  10.3534,\n",
        "         10.4876,  10.6218,  10.756 ,  10.8902,  11.0244,  11.1586,\n",
        "         11.2928,  11.427 ,  11.5612,  11.6954,  11.8296,  11.9638,\n",
        "         12.098 ,  12.2322,  12.3664,  12.5006,  12.6348,  12.769 ,\n",
        "         12.9032,  13.0374,  13.1716,  13.3058,  13.44  ]),\n",
        " <a list of 100 Patch objects>)"
       ]
      },
      {
       "metadata": {},
       "output_type": "display_data",
<<<<<<< HEAD
       "png": "iVBORw0KGgoAAAANSUhEUgAAAXgAAAEACAYAAAC57G0KAAAABHNCSVQICAgIfAhkiAAAAAlwSFlz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\nkHvaGl8nsgAAAABJRU5ErkJggg==\n",
       "text": [
        "<matplotlib.figure.Figure at 0x7f439997c210>"
       ]
      }
     ],
     "prompt_number": 36
=======
       "png": "iVBORw0KGgoAAAANSUhEUgAAAXgAAAEACAYAAAC57G0KAAAABHNCSVQICAgIfAhkiAAAAAlwSFlz\nAAALEgAACxIB0t1+/AAAFuhJREFUeJzt3W+QXXd93/H3BztOMKQ4HlLZljVYECtBTCjQoNDSDFep\n8biZxPIjbKakS/DwxEkgmU6KRKdl9UQ1dJKQaccPkvBnSbCChoBHTGkiYXQ76TDBEIzjeHFsd1Dj\nVaI1xRgKnbQS/vbBPZKuVtrde/fP/XP2/Zq5498995zd71q7n/u7v/M7v5OqQpLUPi8YdwGSpM1h\nwEtSSxnwktRSBrwktZQBL0ktZcBLUkutGvBJDiR5LMmjSe5P8oNJrk1yPMkTSY4luWbJ/k8meTzJ\nrZtbviRpOVlpHnySm4DPA6+sqv+b5BPAZ4FXAf+rqj6Q5D3Aj1TV/iS7gfuB1wPbgc8Bu6rq+c39\nMSRJS63Wg/8OcAa4OsmVwNXA3wK3A3PNPnPAHU17H3C4qs5U1UngKWDPRhctSVrdigFfVc8Cvwn8\nDb1gf66qjgPbqmqx2W0R2Na0bwAW+r7EAr2evCRpxFYM+CSvAH4NuIleeL84ydv696neGM9K6x24\nFoIkjcGVq7z+U8AXquqbAEk+BfwT4HSS66rqdJLrgWea/U8BO/qOv7HZdpEkhr4krUFVZdB9VxuD\nfxx4Q5IXJglwCzAPfAaYafaZAR5o2keBu5JclWQncDPw0DJFTu3jfe9730D79T68XHh0Pto5/xjo\n+JnORY9R1z+pj2muf5prt/7xP4a1Yg++qh5J8jHgy8DzwFeA3wV+GDiS5G7gJPCWZv/5JEeaN4Gz\nwD21lqq2gL1ze8+3T8ycGGMlktpqtSEaquoDwAeWbH6WXm/+cvsfAg6tvzRJ0nqsGvC6VKfTWdNx\n3b6Oemfv8vtttrXWPymmuf5prh2sf9qseKHTpn3TZEuM3GTpqZCZC6neH/DLDdHk7Re/C9RHHcqR\ntrIk1AaeZJUkTSkDXpJayoCXpJbyJOuY9J9wPX9FgSRtIHvwktRSBrwktZQBP2GSCw9JWg/H4DfT\nzBivZpK05RnwE8DeuqTN4BCNJLWUPfgp5WqUklZjD16SWsqAl6SWcohmgy1dAVKSxsUevCS1lD34\nIXhiU9I0sQe/Abz6VNIkWrUHn+THgT/q2/Ry4N8Bfwh8AngZzY23q+q55pgDwDuA7wPvqqpjG1t2\ni3n1q6QNMshNt/8aeC1AkhcAp4BPA/uB41X1gSTvaZ7vT7IbuBPYDWwHPpdkV1U9v0k/w8i4xK+k\naTLsEM0twFNV9TRwOzDXbJ8D7mja+4DDVXWmqk4CTwF7NqBWSdIQhg34u4DDTXtbVS027UVgW9O+\nAVjoO2aBXk9ekjRCA8+iSXIV8AvAe5a+VlWVpFY4fKXXtAYOF0lazTDTJP8F8BdV9Y3m+WKS66rq\ndJLrgWea7aeAHX3H3dhsu8js7Oz5dqfTodPpDFGKJLVft9ul2+2u+fhhAv6tXBieAThKr+/4/ua/\nD/Rtvz/Jb9EbmrkZeGjpF+sP+KnnzBdJm2Bp5/fgwYNDHT9QwCd5Eb0TrO/s23wvcCTJ3TTTJAGq\naj7JEWAeOAvcU1UO0UjSiA0U8FX1PeClS7Y9Sy/0L7f/IeDQuquTJK2ZSxVMAod4JG0CA36N+tel\nGbf+JRIcDJN0jmvRSFJLGfCS1FIGvCS1lGPwU2SSxv0lTT4Dfo263u9D0oQz4NvgommWvvNI6jHg\np4ifGiQNw4BfwbSPeS+9haBz5KWtxVk0ktRSBrwktZQBL0ktZcBLUksZ8JLUUga8JLWU0yRbZunU\nSElblwG/Ai8skjTNHKKRpJYaKOCTXJPkk0m+lmQ+yU8nuTbJ8SRPJDmW5Jq+/Q8keTLJ40lu3bzy\nN0Zy4TH1ZvZeeEja0gbtwf8O8NmqeiXwauBxYD9wvKp2AQ82z0myG7gT2A3cBtyXxE8KkjRiqwZv\nkpcAP1NVHwaoqrNV9W3gdmCu2W0OuKNp7wMOV9WZqjoJPAXs2ejCJUkrG6RnvRP4RpKPJPlKkt9L\n8iJgW1UtNvssAtua9g3AQt/xC8D2DatYkjSQQWbRXAm8DviVqvpSkg/SDMecU1WVZKW1Ci95bXZ2\n9ny70+nQ6XQGqXdztHU99UvG4Vv0s0lbQLfbpdvtrvn4QQJ+AVioqi81zz8JHABOJ7muqk4nuR54\npnn9FLCj7/gbm20X6Q94SdKllnZ+Dx48ONTxqw7RVNVp4Okku5pNtwCPAZ8BZpptM8ADTfsocFeS\nq5LsBG4GHhqqqjFq1YwaSVvaoBc6/Srw8SRXAf8D+CXgCuBIkruBk8BbAKpqPskRYB44C9xT5a0m\nJGnUBgr4qnoEeP1lXrplmf0PAYfWUZckaZ2cny5JLWXAS1JLGfCS1FIGvCS1lAEvSS1lwEtSSxnw\nktRSBrwktZS37FvKG2VIagl78JLUUga8JLWUAS9JLWXAS1JLeZJ1C1lujXsXc5bayYDfqtp6m0JJ\n5xnwW4lTQKUtxTF4SWopA16SWsqAl6SWGmgMPslJ4DvA94EzVbUnybXAJ4CX0dx0u6qea/Y/ALyj\n2f9dVXVs40vXZtg7d/E4/YkZT8BK02rQHnwBnap6bVXtabbtB45X1S7gweY5SXYDdwK7gduA+5L4\nSUGSRmyYWTRLZ1HfDrypac8BXXohvw84XFVngJNJngL2AH++vlI1Ct0lHfa9XOjR25uXpsswPfjP\nJflyknc227ZV1WLTXgS2Ne0bgIW+YxeA7euuVJsmufCQ1B6D9uDfWFV/l+RHgeNJHu9/saoqyUrX\nQ17y2uzs7Pl2p9Oh0+kMWIokbQ3dbpdut7vm4wcK+Kr6u+a/30jyaXpDLotJrquq00muB55pdj8F\n7Og7/MZm20X6A16SdKmlnd+DBw8OdfyqQzRJrk7yw037RcCtwKPAUWCm2W0GeKBpHwXuSnJVkp3A\nzcBDQ1UlSVq3QXrw24BPpzdAeyXw8ao6luTLwJEkd9NMkwSoqvkkR4B54CxwT5XLWUnSqK0a8FX1\ndeA1l9n+LHDLMsccAg6tuzpJ0po5P12SWmrLrCa5dAqgg0Z9XGVSaiV78JLUUga8JLXUlhmi0dpc\ntHTBzLK7SZpA9uAlqaW2bA9+6bK4ktQ2WyfgnSkiaYvZOgG/xNJlcSWpbRyDl6SWMuAlqaUMeElq\nKQNeklrKgJekltqys2g0vP5rB7wBtzT57MFLUksZ8JLUUga8JLWUAS9JLTXQSdYkVwBfBhaq6heS\nXAt8AngZzQ23q+q5Zt8DwDuA7wPvqqpjm1H4IFxQTNJWNmgP/t3APHDuRnf7geNVtQt4sHlOkt3A\nncBu4DbgviR+SpCkMVg1fJPcCPwc8PvAuTub3g7MNe054I6mvQ84XFVnquok8BSwZyMLHkb3xIWH\nJG01g/Sufxv4DeD5vm3bqmqxaS8C25r2DcBC334LwPb1FqnJk1x4SJpMK47BJ/l54JmqejhJ53L7\nVFUlqcu9dm6Xy22cnZ093+50OnQ6l/3ymiB+EpJGq9vt0u1213x8qpbP5iSHgF8EzgI/BPwD4FPA\n64FOVZ1Ocj1woqp+Isl+gKq6tzn+T4D3VdUXl3zdWun7bpS83ZOsm2buQtqP4J9SEpCEqhr4c/OK\nQzRV9d6q2lFVO4G7gM9X1S8CR7lwC+YZ4IGmfRS4K8lVSXYCNwMPDftDSJLWb9i1aM711e4FjiS5\nm2aaJEBVzSc5Qm/GzVngnpF01SVJl1hxiGbTvqlDNNPPIRpp5DZ0iEaSNL1cLlibyiWGpfFpXcBf\nNC97ZtndtIEMcWkytS7gNSIznt+QJp1j8JLUUga8JLWUAS9JLWXAS1JLGfCS1FIGvCS1lAEvSS1l\nwEtSS3mhk9btohuBePWwNDHaF/BeYTlRDH9pfByikaSWMuAlqaUMeElqKQNeklrKgJekllox4JP8\nUJIvJvlqkvkk/6HZfm2S40meSHIsyTV9xxxI8mSSx5Pcutk/gCTp8lYM+Kr6e2BvVb0GeDWwN8k/\nA/YDx6tqF/Bg85wku4E7gd3AbcB9SfyUIEljsGr4VtX/aZpXAVcA3wJuB+aa7XPAHU17H3C4qs5U\n1UngKWDPRhYsSRrMqgGf5AVJvgosAieq6jFgW1UtNrssAtua9g3AQt/hC8D2Dax3mRovPDRe/f8W\n/ntI47XqlaxV9TzwmiQvAf40yd4lr1eSWulLXG7j7Ozs+Xan06HT6QxSryRtGd1ul263u+bjB16q\noKq+neS/AP8YWExyXVWdTnI98Eyz2ylgR99hNzbbLtEf8JKkSy3t/B48eHCo41ebRfPSczNkkrwQ\neDPwMHCUCyuLzAAPNO2jwF1JrkqyE7gZeGioiiRJG2K1Hvz1wFwzE+YFwB9U1YNJHgaOJLkbOAm8\nBaCq5pMcAeaBs8A9VbXS8I0kaZOsGPBV9Sjwustsfxa4ZZljDgGHNqQ6SdKatW+5YE2s/lk1fq6T\nNp8Br9G5aK3+E8vuJmljTG3AO8d6utmblzbf1Ab8Rb3BOXuDU8fevLTpXCdGklpqenvw/bwP6+Tw\n30KaGPbgJaml2tGD11TbO3eh139ixvF4aaPYg5ekljLgJamlpibgXWdckoYzPWPwzs6QpKFMT8Cr\ntbr951Vnlt1N0pCmZohGkjQce/CaKP1TJsFpk9J62IOXpJayB6+J0l3aYXdMXloze/CS1FIGvCS1\n1KoBn2RHkhNJHkvyV0ne1Wy/NsnxJE8kOZbkmr5jDiR5MsnjSW7dzB9AknR5g/TgzwC/XlWvAt4A\n/HKSVwL7geNVtQt4sHlOkt3AncBu4DbgviR+UpCkEVv1JGtVnQZON+3vJvkasB24HXhTs9sc0KUX\n8vuAw1V1BjiZ5ClgD/DnG169tqzlVqB0mqV0wVA96yQ3Aa8Fvghsq6rF5qVFYFvTvgFY6Dtsgd4b\ngiRphAaeJpnkxcAfA++uqv+dvhW/qqqSrHTr5Etem52dPd/udDp0Op1BS5GkLaHb7dLtdtd8/EAB\nn+QH6IX7H1TVA83mxSTXVdXpJNcDzzTbTwE7+g6/sdl2kf6Al5bjzUC0lS3t/B48eHCo4weZRRPg\nQ8B8VX2w76WjXLgMZQZ4oG/7XUmuSrITuBl4aKiqJEnrNkgP/o3A24C/TPJws+0AcC9wJMndwEng\nLQBVNZ/kCDAPnAXuqaqVhm8kSZtgkFk0/53le/q3LHPMIeDQOuqSgIuXLtiL9wSQhuFaNJpKriEv\nrc4LkCSppezBa2pcstKkpBXZg5ekljLgJamlDHhJaqmJDvjkwkOSNJyJDnhJ0tpN9iyaGS9skaS1\nmuyAl4bkTbulCyYu4JfesEGStDaOwWvqeTJeuryJ68FLQ/NcjXRZExfwXo4uSRvDIRpJaikDXpJa\nauKGaKSN1H/i1fuKaauxBy9JLTXITbc/nGQxyaN9265NcjzJE0mOJbmm77UDSZ5M8niSWzercEnS\nygbpwX8EuG3Jtv3A8araBTzYPCfJbuBOYHdzzH1J/JQgSWOwavhW1Z8B31qy+XZgrmnPAXc07X3A\n4ao6U1UngaeAPRtTqiRpGGvtXW+rqsWmvQhsa9o3AAt9+y0A29f4PSRJ67DuWTRVVUlWmp/g3AWN\nz0VXuXoVnbaWtQb8YpLrqup0kuuBZ5rtp4Adffvd2Gy7xOzs7Pl2p9Oh0+mssRRpMP0L2Z2YMew1\n+brdLt1ud83HpwaYHJzkJuAzVfWTzfMPAN+sqvcn2Q9cU1X7m5Os99Mbd98OfA74sVryTZIs3XTh\ntbe7rog2R2eAXy2DX5MsCVU18LJ6q/bgkxwG3gS8NMnTwL8H7gWOJLkbOAm8BaCq5pMcAeaBs8A9\nyya5NIGWLldt4GuarRrwVfXWZV66ZZn9DwGH1lOUJGn9XKpAW8ZyK5UOMnQjTSMDXurjLf/UJhMR\n8Bfdicc/KI2Y9yBQW7mMgCS1lAEvSS01EUM03lNT08ALpTRtJiPgpQm1dF68NE0MeGlAF52MdTKA\npoABL20wh3I0KQx4aQVOodQ0cxaNJLWUAS9JLeUQjbQG/cta10cvHsfpH9bZi+PxGh8DXtpEzrzR\nODlEI0ktZQ9eGhGnT2rUxhbwtzS3C3n5y8dVgbQx1nK1q2GvURjonqwb/k2T4o3vB2D7NT/KqZd+\nbOQ1SKPWf2ORlebXLz1pK52z4fdk3TQ/9l8B+B47x1aCNEpeNKVR25STrEluS/J4kieTvGczvock\naWUb3oNPcgXwn+ndlPsU8KUkR6vqaxv9vcbm9Lfguh8ZdxVrZ/3jM0DtK82xv5yl5wA2c0y/2+3S\n6XQ27etvtmmvf1ibMUSzB3iqqk4CJPkjYB/QooB/bnoDBqx/nIasfbmTsf1vApcYYL79SieGV3qD\nmPaAnPb6h7UZAb8deLrv+QLw05vwfaTW6x+3z4nBZuv03+O4fw7Fim8K/ce/fYXjv/p1Dp78bxed\nMAZnAk2qzQj4gablvDS7ALjuRdt57rtf34QypC2q7w5pSV/wDnol7QDHLz1hvNybz6AzgjZy2uik\nTkEd5VDaORs+TTLJG4DZqrqteX4AeL6q3t+3z+jnZkpSCwwzTXIzAv5K4K+Bfw78LfAQ8NZWnWSV\npCmw4UM0VXU2ya8AfwpcAXzIcJek0RvLlaySpM038tUkp/kiqCQ7kpxI8liSv0ryrnHXNKwkVyR5\nOMlnxl3LsJJck+STSb6WZL453zM1khxofnceTXJ/kh8cd00rSfLhJItJHu3bdm2S40meSHIsyTXj\nrHEly9T/H5vfn0eSfCrJS8ZZ43IuV3vfa/86yfNJrl3t64w04PsugroN2A28NckrR1nDOp0Bfr2q\nXgW8AfjlKasf4N3APAPOdpowvwN8tqpeCbyaKbq2IslNwDuB11XVT9IbvrxrnDUN4CP0/lb77QeO\nV9Uu4MHm+aS6XP3HgFdV1T8CngAOjLyqwVyudpLsAN4M/M9Bvsioe/DnL4KqqjPAuYugpkJVna6q\nrzbt79ILmBvGW9XgktwI/Bzw+8DAZ+InQdPT+pmq+jD0zvVU1bfHXNYwvkOvg3B1MxHhanpXek+s\nqvoz4FtLNt8OzDXtOeCOkRY1hMvVX1XHq+r55ukXgRtHXtgAlvl/D/BbwL8Z9OuMOuAvdxHU9hHX\nsCGaHtlr6f2STIvfBn4DeH61HSfQTuAbST6S5CtJfi/J1eMualBV9Szwm8Df0Jtd9lxVfW68Va3J\ntqpabNqLwLZxFrNO7wA+O+4iBpVkH7BQVX856DGjDvhpHBa4RJIXA58E3t305Cdekp8Hnqmqh5my\n3nvjSuB1wH1V9Trge0z28MBFkrwC+DXgJnqf+l6c5F+Otah1qt4Mjan8m07yb4H/V1X3j7uWQTSd\nmfcC7+vfvNpxow74U8COvuc76PXip0aSHwD+GPjDqnpg3PUM4Z8Ctyf5OnAY+Nkk07QQ/wK93suX\nmuefpBf40+KngC9U1Ter6izwKXr/JtNmMcl1AEmuB54Zcz1DS/J2ekOV0/QG+wp6nYNHmr/hG4G/\nSPIPVzpo1AH/ZeDmJDcluQq4Ezg64hrWLEmADwHzVfXBcdczjKp6b1XtqKqd9E7ufb6q/tW46xpU\nVZ0Gnk6aNS56q5U+NsaShvU48IYkL2x+j26hd7J72hzlwqIFM8A0dXJIchu9Ycp9VfX3465nUFX1\naFVtq6qdzd/wAr0T9iu+wY404Juey7mLoOaBT0zZRVBvBN4G7G2mGj7c/MJMo2n8aP2rwMeTPEJv\nFs2hMdczsKp6BPgYvU7OuTHU3x1fRatLchj4AvDjSZ5O8kvAvcCbkzwB/GzzfCJdpv53AP8JeDFw\nvPn7vW+sRS6jr/Zdff/v+w309+uFTpLUUiO/0EmSNBoGvCS1lAEvSS1lwEtSSxnwktRSBrwktZQB\nL0ktZcBLUkv9f+r0RVzP9YAoAAAAAElFTkSuQmCC\n",
       "text": [
        "<matplotlib.figure.Figure at 0x7f139ce99950>"
       ]
      }
     ],
     "prompt_number": 29
>>>>>>> 2914dabec9672f7e8c5131b59e107107c72b20a4
    },
    {
     "cell_type": "heading",
     "level": 2,
     "metadata": {},
     "source": [
      "Distribution not normal; non-parametric test needed:"
     ]
    },
    {
     "cell_type": "code",
     "collapsed": false,
     "input": [
      "print histo['wspd'].skew()\n",
      "print histo['wspd'].kurtosis()"
     ],
     "language": "python",
     "metadata": {},
     "outputs": [
      {
       "output_type": "stream",
       "stream": "stdout",
       "text": [
        "0.6579004525\n",
        "0.495924866912\n"
       ]
      }
     ],
<<<<<<< HEAD
     "prompt_number": 26
=======
     "prompt_number": 14
>>>>>>> 2914dabec9672f7e8c5131b59e107107c72b20a4
    },
    {
     "cell_type": "heading",
     "level": 1,
     "metadata": {},
     "source": [
      "Wilcoxon Rank-Sum"
     ]
    },
    {
     "cell_type": "code",
     "collapsed": false,
     "input": [
      "z_stat, p_val = stats.ranksums(histo['wspd'], ukmo_a1b['wspd'].iloc[:22645])\n",
      "print z_stat, p_val"
     ],
     "language": "python",
     "metadata": {},
     "outputs": [
      {
       "output_type": "stream",
       "stream": "stdout",
       "text": [
        "-2.7151794357 0.00662398698395\n"
       ]
      }
     ],
<<<<<<< HEAD
     "prompt_number": 27
=======
     "prompt_number": 15
>>>>>>> 2914dabec9672f7e8c5131b59e107107c72b20a4
    },
    {
     "cell_type": "heading",
     "level": 1,
     "metadata": {},
     "source": [
      "Wilcoxon Signed-Rank"
     ]
    },
    {
     "cell_type": "code",
     "collapsed": false,
     "input": [
      "z_stat, p_val = stats.wilcoxon(histo['wspd'], ukmo_a1b['wspd'].iloc[:22645])\n",
      "print z_stat, p_val"
     ],
     "language": "python",
     "metadata": {},
     "outputs": [
      {
       "output_type": "stream",
       "stream": "stdout",
       "text": [
        "120788492.0 0.0005281821601\n"
       ]
      }
     ],
<<<<<<< HEAD
     "prompt_number": 28
=======
     "prompt_number": 16
>>>>>>> 2914dabec9672f7e8c5131b59e107107c72b20a4
    },
    {
     "cell_type": "heading",
     "level": 1,
     "metadata": {},
     "source": [
      "Wilcoxon Rank Sum with Random Sample of 1000"
     ]
    },
    {
     "cell_type": "code",
     "collapsed": false,
     "input": [
<<<<<<< HEAD
      "import random\n",
      "z_stat, p_val = stats.ranksums(random.sample(histo['wspd'], 1000), random.sample(ukmo_a1b['wspd'].iloc[:22645], 1000))\n",
      "print z_stat, p_val"
     ],
     "language": "python",
     "metadata": {},
     "outputs": [
      {
       "output_type": "stream",
       "stream": "stdout",
       "text": [
        "-0.581073360579 0.56119101188\n"
       ]
      }
     ],
     "prompt_number": 33
=======
      "#z_stat, p_val = stats.ranksums(random.sample(histo['wspd'], 1000), random.sample(ukmo_a1b['wspd'].iloc[:22645], 1000))\n",
      "#print z_stat, p_val"
     ],
     "language": "python",
     "metadata": {},
     "outputs": [],
     "prompt_number": 25
    },
    {
     "cell_type": "heading",
     "level": 1,
     "metadata": {},
     "source": [
      "Effect Size"
     ]
>>>>>>> 2914dabec9672f7e8c5131b59e107107c72b20a4
    },
    {
     "cell_type": "code",
     "collapsed": false,
     "input": [
<<<<<<< HEAD
      "z_stat, p_val = stats.ks_2samp(histo['wspd'], ukmo_a1b['wspd'].iloc[:22645])\n",
      "print z_stat, p_val"
=======
      "print histo['wspd'].std(), ukmo_a1b['wspd'].iloc[:22645].std()"
>>>>>>> 2914dabec9672f7e8c5131b59e107107c72b20a4
     ],
     "language": "python",
     "metadata": {},
     "outputs": [
      {
       "output_type": "stream",
       "stream": "stdout",
       "text": [
<<<<<<< HEAD
        "0.0153234709649 0.00969446163259\n"
       ]
      }
     ],
     "prompt_number": 38
=======
        "1.63105738592 1.66233905123\n"
       ]
      }
     ],
     "prompt_number": 26
>>>>>>> 2914dabec9672f7e8c5131b59e107107c72b20a4
    },
    {
     "cell_type": "code",
     "collapsed": false,
     "input": [
<<<<<<< HEAD
      "print histo['wspd'].describe()\n",
      "print ukmo_a1b['wspd'].iloc[:22645].describe()"
=======
      "(histo['wspd'].mean() - ukmo_a1b['wspd'].iloc[:22645].mean())/(((histo['wspd'].std()**2 + ukmo_a1b['wspd'].std()**2)/2)**0.5)"
>>>>>>> 2914dabec9672f7e8c5131b59e107107c72b20a4
     ],
     "language": "python",
     "metadata": {},
     "outputs": [
      {
<<<<<<< HEAD
       "output_type": "stream",
       "stream": "stdout",
       "text": [
        "count    22645.000000\n",
        "mean         3.269955\n",
        "std          1.631057\n",
        "min          0.020000\n",
        "25%          2.070000\n",
        "50%          3.080000\n",
        "75%          4.280000\n",
        "max         13.440000\n",
        "dtype: float64\n",
        "count    22645.000000\n",
        "mean         3.319963\n",
        "std          1.662339\n",
        "min          0.020000\n",
        "25%          2.090000\n",
        "50%          3.120000\n",
        "75%          4.360000\n",
        "max         13.440000\n",
        "dtype: float64\n"
       ]
      }
     ],
     "prompt_number": 42
=======
       "metadata": {},
       "output_type": "pyout",
       "prompt_number": 24,
       "text": [
        "-0.030345538178915658"
       ]
      }
     ],
     "prompt_number": 24
>>>>>>> 2914dabec9672f7e8c5131b59e107107c72b20a4
    },
    {
     "cell_type": "code",
     "collapsed": false,
     "input": [
<<<<<<< HEAD
      "z_stat, p_val = stats.ranksums(c.iloc[:,0], c.iloc[:,1])\n",
      "print z_stat, p_val"
=======
      "print histo['wspd'].mean(), ukmo_a1b['wspd'].mean(), echam_a1b['wspd'].mean()"
>>>>>>> 2914dabec9672f7e8c5131b59e107107c72b20a4
     ],
     "language": "python",
     "metadata": {},
     "outputs": [
      {
       "output_type": "stream",
       "stream": "stdout",
       "text": [
<<<<<<< HEAD
        "-0.94319066904 0.345583385272\n"
       ]
      }
     ],
     "prompt_number": 46
=======
        "3.26995495694 3.32009369676 3.30376521051\n"
       ]
      }
     ],
     "prompt_number": 21
>>>>>>> 2914dabec9672f7e8c5131b59e107107c72b20a4
    },
    {
     "cell_type": "code",
     "collapsed": false,
<<<<<<< HEAD
     "input": [
      "c"
     ],
     "language": "python",
     "metadata": {},
     "outputs": [
      {
       "html": [
        "<div style=\"max-height:1000px;max-width:1500px;overflow:auto;\">\n",
        "<table border=\"1\" class=\"dataframe\">\n",
        "  <thead>\n",
        "    <tr style=\"text-align: right;\">\n",
        "      <th></th>\n",
        "      <th>wspd</th>\n",
        "      <th>wspd</th>\n",
        "      <th>wspd</th>\n",
        "    </tr>\n",
        "  </thead>\n",
        "  <tbody>\n",
        "    <tr>\n",
        "      <th>0  </th>\n",
        "      <td> 4.270645</td>\n",
        "      <td> 4.217556</td>\n",
        "      <td> 4.117111</td>\n",
        "    </tr>\n",
        "    <tr>\n",
        "      <th>1  </th>\n",
        "      <td> 4.447258</td>\n",
        "      <td> 4.914667</td>\n",
        "      <td> 4.759556</td>\n",
        "    </tr>\n",
        "    <tr>\n",
        "      <th>2  </th>\n",
        "      <td> 4.381935</td>\n",
        "      <td> 4.337444</td>\n",
        "      <td> 4.275778</td>\n",
        "    </tr>\n",
        "    <tr>\n",
        "      <th>3  </th>\n",
        "      <td> 4.199032</td>\n",
        "      <td> 3.938778</td>\n",
        "      <td> 3.724444</td>\n",
        "    </tr>\n",
        "    <tr>\n",
        "      <th>4  </th>\n",
        "      <td> 4.505806</td>\n",
        "      <td> 4.305111</td>\n",
        "      <td> 4.285556</td>\n",
        "    </tr>\n",
        "    <tr>\n",
        "      <th>5  </th>\n",
        "      <td> 4.192419</td>\n",
        "      <td> 4.325333</td>\n",
        "      <td> 4.199222</td>\n",
        "    </tr>\n",
        "    <tr>\n",
        "      <th>6  </th>\n",
        "      <td> 4.309516</td>\n",
        "      <td> 4.208333</td>\n",
        "      <td> 4.334889</td>\n",
        "    </tr>\n",
        "    <tr>\n",
        "      <th>7  </th>\n",
        "      <td> 4.468710</td>\n",
        "      <td> 4.460667</td>\n",
        "      <td> 4.343111</td>\n",
        "    </tr>\n",
        "    <tr>\n",
        "      <th>8  </th>\n",
        "      <td> 4.195968</td>\n",
        "      <td> 4.344444</td>\n",
        "      <td> 4.293333</td>\n",
        "    </tr>\n",
        "    <tr>\n",
        "      <th>9  </th>\n",
        "      <td> 4.135000</td>\n",
        "      <td> 4.354778</td>\n",
        "      <td> 3.648111</td>\n",
        "    </tr>\n",
        "    <tr>\n",
        "      <th>10 </th>\n",
        "      <td> 4.257903</td>\n",
        "      <td> 4.189111</td>\n",
        "      <td> 4.240000</td>\n",
        "    </tr>\n",
        "    <tr>\n",
        "      <th>11 </th>\n",
        "      <td> 4.244516</td>\n",
        "      <td> 4.477222</td>\n",
        "      <td> 4.300111</td>\n",
        "    </tr>\n",
        "    <tr>\n",
        "      <th>12 </th>\n",
        "      <td> 4.426452</td>\n",
        "      <td> 4.460222</td>\n",
        "      <td> 4.316111</td>\n",
        "    </tr>\n",
        "    <tr>\n",
        "      <th>13 </th>\n",
        "      <td> 4.319516</td>\n",
        "      <td> 4.463111</td>\n",
        "      <td> 4.613889</td>\n",
        "    </tr>\n",
        "    <tr>\n",
        "      <th>14 </th>\n",
        "      <td> 4.015000</td>\n",
        "      <td> 4.385667</td>\n",
        "      <td> 4.267778</td>\n",
        "    </tr>\n",
        "    <tr>\n",
        "      <th>15 </th>\n",
        "      <td> 4.010484</td>\n",
        "      <td> 3.492111</td>\n",
        "      <td> 3.972111</td>\n",
        "    </tr>\n",
        "    <tr>\n",
        "      <th>16 </th>\n",
        "      <td> 3.994516</td>\n",
        "      <td> 4.102667</td>\n",
        "      <td> 4.493444</td>\n",
        "    </tr>\n",
        "    <tr>\n",
        "      <th>17 </th>\n",
        "      <td> 3.854677</td>\n",
        "      <td> 3.626333</td>\n",
        "      <td> 3.578333</td>\n",
        "    </tr>\n",
        "    <tr>\n",
        "      <th>18 </th>\n",
        "      <td> 4.064516</td>\n",
        "      <td> 3.815444</td>\n",
        "      <td> 4.071889</td>\n",
        "    </tr>\n",
        "    <tr>\n",
        "      <th>19 </th>\n",
        "      <td> 4.015000</td>\n",
        "      <td> 4.137333</td>\n",
        "      <td> 4.262111</td>\n",
        "    </tr>\n",
        "    <tr>\n",
        "      <th>20 </th>\n",
        "      <td> 3.858065</td>\n",
        "      <td> 4.067778</td>\n",
        "      <td> 4.530667</td>\n",
        "    </tr>\n",
        "    <tr>\n",
        "      <th>21 </th>\n",
        "      <td> 4.267903</td>\n",
        "      <td> 4.294111</td>\n",
        "      <td> 4.820444</td>\n",
        "    </tr>\n",
        "    <tr>\n",
        "      <th>22 </th>\n",
        "      <td> 4.302097</td>\n",
        "      <td> 4.575889</td>\n",
        "      <td> 4.411667</td>\n",
        "    </tr>\n",
        "    <tr>\n",
        "      <th>23 </th>\n",
        "      <td> 4.464194</td>\n",
        "      <td> 4.851556</td>\n",
        "      <td> 4.166778</td>\n",
        "    </tr>\n",
        "    <tr>\n",
        "      <th>24 </th>\n",
        "      <td> 4.153548</td>\n",
        "      <td> 3.793889</td>\n",
        "      <td> 3.657000</td>\n",
        "    </tr>\n",
        "    <tr>\n",
        "      <th>25 </th>\n",
        "      <td> 3.894516</td>\n",
        "      <td> 3.998556</td>\n",
        "      <td> 3.379333</td>\n",
        "    </tr>\n",
        "    <tr>\n",
        "      <th>26 </th>\n",
        "      <td> 3.939032</td>\n",
        "      <td> 3.939778</td>\n",
        "      <td> 4.040333</td>\n",
        "    </tr>\n",
        "    <tr>\n",
        "      <th>27 </th>\n",
        "      <td> 4.239355</td>\n",
        "      <td> 4.351111</td>\n",
        "      <td> 4.010000</td>\n",
        "    </tr>\n",
        "    <tr>\n",
        "      <th>28 </th>\n",
        "      <td> 3.905323</td>\n",
        "      <td> 3.848667</td>\n",
        "      <td> 3.831889</td>\n",
        "    </tr>\n",
        "    <tr>\n",
        "      <th>29 </th>\n",
        "      <td> 3.832097</td>\n",
        "      <td> 3.783111</td>\n",
        "      <td> 4.092778</td>\n",
        "    </tr>\n",
        "    <tr>\n",
        "      <th>...</th>\n",
        "      <td>...</td>\n",
        "      <td>...</td>\n",
        "      <td>...</td>\n",
        "    </tr>\n",
        "    <tr>\n",
        "      <th>336</th>\n",
        "      <td> 3.948710</td>\n",
        "      <td> 3.683778</td>\n",
        "      <td> 3.969000</td>\n",
        "    </tr>\n",
        "    <tr>\n",
        "      <th>337</th>\n",
        "      <td> 4.143548</td>\n",
        "      <td> 4.261111</td>\n",
        "      <td> 3.874889</td>\n",
        "    </tr>\n",
        "    <tr>\n",
        "      <th>338</th>\n",
        "      <td> 4.184839</td>\n",
        "      <td> 4.256111</td>\n",
        "      <td> 4.216778</td>\n",
        "    </tr>\n",
        "    <tr>\n",
        "      <th>339</th>\n",
        "      <td> 3.921774</td>\n",
        "      <td> 3.870889</td>\n",
        "      <td> 4.060556</td>\n",
        "    </tr>\n",
        "    <tr>\n",
        "      <th>340</th>\n",
        "      <td> 4.032581</td>\n",
        "      <td> 4.656778</td>\n",
        "      <td> 4.459556</td>\n",
        "    </tr>\n",
        "    <tr>\n",
        "      <th>341</th>\n",
        "      <td> 3.904355</td>\n",
        "      <td> 3.864222</td>\n",
        "      <td> 3.863556</td>\n",
        "    </tr>\n",
        "    <tr>\n",
        "      <th>342</th>\n",
        "      <td> 3.624516</td>\n",
        "      <td> 3.900333</td>\n",
        "      <td> 3.478889</td>\n",
        "    </tr>\n",
        "    <tr>\n",
        "      <th>343</th>\n",
        "      <td> 4.148548</td>\n",
        "      <td> 4.017556</td>\n",
        "      <td> 4.088556</td>\n",
        "    </tr>\n",
        "    <tr>\n",
        "      <th>344</th>\n",
        "      <td> 4.069355</td>\n",
        "      <td> 4.106111</td>\n",
        "      <td> 4.083000</td>\n",
        "    </tr>\n",
        "    <tr>\n",
        "      <th>345</th>\n",
        "      <td> 4.333226</td>\n",
        "      <td> 4.945333</td>\n",
        "      <td> 4.457444</td>\n",
        "    </tr>\n",
        "    <tr>\n",
        "      <th>346</th>\n",
        "      <td> 4.087742</td>\n",
        "      <td> 4.559444</td>\n",
        "      <td> 4.254111</td>\n",
        "    </tr>\n",
        "    <tr>\n",
        "      <th>347</th>\n",
        "      <td> 4.197258</td>\n",
        "      <td> 4.475222</td>\n",
        "      <td> 4.463111</td>\n",
        "    </tr>\n",
        "    <tr>\n",
        "      <th>348</th>\n",
        "      <td> 4.202258</td>\n",
        "      <td> 4.363556</td>\n",
        "      <td> 4.441444</td>\n",
        "    </tr>\n",
        "    <tr>\n",
        "      <th>349</th>\n",
        "      <td> 4.170645</td>\n",
        "      <td> 3.949889</td>\n",
        "      <td> 3.711778</td>\n",
        "    </tr>\n",
        "    <tr>\n",
        "      <th>350</th>\n",
        "      <td> 4.355645</td>\n",
        "      <td> 3.976000</td>\n",
        "      <td> 4.056778</td>\n",
        "    </tr>\n",
        "    <tr>\n",
        "      <th>351</th>\n",
        "      <td> 4.319355</td>\n",
        "      <td> 3.938667</td>\n",
        "      <td> 4.323333</td>\n",
        "    </tr>\n",
        "    <tr>\n",
        "      <th>352</th>\n",
        "      <td> 4.312903</td>\n",
        "      <td> 4.192556</td>\n",
        "      <td> 4.169778</td>\n",
        "    </tr>\n",
        "    <tr>\n",
        "      <th>353</th>\n",
        "      <td> 4.392742</td>\n",
        "      <td> 4.398111</td>\n",
        "      <td> 4.546667</td>\n",
        "    </tr>\n",
        "    <tr>\n",
        "      <th>354</th>\n",
        "      <td> 4.451129</td>\n",
        "      <td> 4.836556</td>\n",
        "      <td> 4.655333</td>\n",
        "    </tr>\n",
        "    <tr>\n",
        "      <th>355</th>\n",
        "      <td> 4.299677</td>\n",
        "      <td> 4.849000</td>\n",
        "      <td> 5.134222</td>\n",
        "    </tr>\n",
        "    <tr>\n",
        "      <th>356</th>\n",
        "      <td> 4.827742</td>\n",
        "      <td> 5.179444</td>\n",
        "      <td> 5.373000</td>\n",
        "    </tr>\n",
        "    <tr>\n",
        "      <th>357</th>\n",
        "      <td> 4.084677</td>\n",
        "      <td> 4.565889</td>\n",
        "      <td> 4.285556</td>\n",
        "    </tr>\n",
        "    <tr>\n",
        "      <th>358</th>\n",
        "      <td> 4.496774</td>\n",
        "      <td> 4.863000</td>\n",
        "      <td> 4.600444</td>\n",
        "    </tr>\n",
        "    <tr>\n",
        "      <th>359</th>\n",
        "      <td> 4.380161</td>\n",
        "      <td> 4.239000</td>\n",
        "      <td> 4.269000</td>\n",
        "    </tr>\n",
        "    <tr>\n",
        "      <th>360</th>\n",
        "      <td> 4.203226</td>\n",
        "      <td> 3.371444</td>\n",
        "      <td> 3.689667</td>\n",
        "    </tr>\n",
        "    <tr>\n",
        "      <th>361</th>\n",
        "      <td> 4.545161</td>\n",
        "      <td> 4.118556</td>\n",
        "      <td> 4.044556</td>\n",
        "    </tr>\n",
        "    <tr>\n",
        "      <th>362</th>\n",
        "      <td> 4.719516</td>\n",
        "      <td> 4.424667</td>\n",
        "      <td> 4.578222</td>\n",
        "    </tr>\n",
        "    <tr>\n",
        "      <th>363</th>\n",
        "      <td> 4.154516</td>\n",
        "      <td> 3.882000</td>\n",
        "      <td> 3.711111</td>\n",
        "    </tr>\n",
        "    <tr>\n",
        "      <th>364</th>\n",
        "      <td> 4.463387</td>\n",
        "      <td> 3.808556</td>\n",
        "      <td> 3.960000</td>\n",
        "    </tr>\n",
        "    <tr>\n",
        "      <th>365</th>\n",
        "      <td> 3.900645</td>\n",
        "      <td> 3.944667</td>\n",
        "      <td> 3.662889</td>\n",
        "    </tr>\n",
        "  </tbody>\n",
        "</table>\n",
        "<p>366 rows \u00d7 3 columns</p>\n",
        "</div>"
       ],
       "metadata": {},
       "output_type": "pyout",
       "prompt_number": 47,
       "text": [
        "         wspd      wspd      wspd\n",
        "0    4.270645  4.217556  4.117111\n",
        "1    4.447258  4.914667  4.759556\n",
        "2    4.381935  4.337444  4.275778\n",
        "3    4.199032  3.938778  3.724444\n",
        "4    4.505806  4.305111  4.285556\n",
        "5    4.192419  4.325333  4.199222\n",
        "6    4.309516  4.208333  4.334889\n",
        "7    4.468710  4.460667  4.343111\n",
        "8    4.195968  4.344444  4.293333\n",
        "9    4.135000  4.354778  3.648111\n",
        "10   4.257903  4.189111  4.240000\n",
        "11   4.244516  4.477222  4.300111\n",
        "12   4.426452  4.460222  4.316111\n",
        "13   4.319516  4.463111  4.613889\n",
        "14   4.015000  4.385667  4.267778\n",
        "15   4.010484  3.492111  3.972111\n",
        "16   3.994516  4.102667  4.493444\n",
        "17   3.854677  3.626333  3.578333\n",
        "18   4.064516  3.815444  4.071889\n",
        "19   4.015000  4.137333  4.262111\n",
        "20   3.858065  4.067778  4.530667\n",
        "21   4.267903  4.294111  4.820444\n",
        "22   4.302097  4.575889  4.411667\n",
        "23   4.464194  4.851556  4.166778\n",
        "24   4.153548  3.793889  3.657000\n",
        "25   3.894516  3.998556  3.379333\n",
        "26   3.939032  3.939778  4.040333\n",
        "27   4.239355  4.351111  4.010000\n",
        "28   3.905323  3.848667  3.831889\n",
        "29   3.832097  3.783111  4.092778\n",
        "..        ...       ...       ...\n",
        "336  3.948710  3.683778  3.969000\n",
        "337  4.143548  4.261111  3.874889\n",
        "338  4.184839  4.256111  4.216778\n",
        "339  3.921774  3.870889  4.060556\n",
        "340  4.032581  4.656778  4.459556\n",
        "341  3.904355  3.864222  3.863556\n",
        "342  3.624516  3.900333  3.478889\n",
        "343  4.148548  4.017556  4.088556\n",
        "344  4.069355  4.106111  4.083000\n",
        "345  4.333226  4.945333  4.457444\n",
        "346  4.087742  4.559444  4.254111\n",
        "347  4.197258  4.475222  4.463111\n",
        "348  4.202258  4.363556  4.441444\n",
        "349  4.170645  3.949889  3.711778\n",
        "350  4.355645  3.976000  4.056778\n",
        "351  4.319355  3.938667  4.323333\n",
        "352  4.312903  4.192556  4.169778\n",
        "353  4.392742  4.398111  4.546667\n",
        "354  4.451129  4.836556  4.655333\n",
        "355  4.299677  4.849000  5.134222\n",
        "356  4.827742  5.179444  5.373000\n",
        "357  4.084677  4.565889  4.285556\n",
        "358  4.496774  4.863000  4.600444\n",
        "359  4.380161  4.239000  4.269000\n",
        "360  4.203226  3.371444  3.689667\n",
        "361  4.545161  4.118556  4.044556\n",
        "362  4.719516  4.424667  4.578222\n",
        "363  4.154516  3.882000  3.711111\n",
        "364  4.463387  3.808556  3.960000\n",
        "365  3.900645  3.944667  3.662889\n",
        "\n",
        "[366 rows x 3 columns]"
       ]
      }
     ],
     "prompt_number": 47
=======
     "input": [],
     "language": "python",
     "metadata": {},
     "outputs": []
    },
    {
     "cell_type": "heading",
     "level": 1,
     "metadata": {},
     "source": [
      "Quantile Absolute Deviation"
     ]
>>>>>>> 2914dabec9672f7e8c5131b59e107107c72b20a4
    },
    {
     "cell_type": "code",
     "collapsed": false,
     "input": [
<<<<<<< HEAD
      "hist(c.iloc[:,0], bins=100)\n",
      "hist(c.iloc[:,1], bins=100)"
=======
      "result = integrate.quad(lambda x: abs(histo['wspd'].quantile(x) - ukmo_a1b['wspd'].quantile(x)), 0, 1)\n",
      "print result[0]"
>>>>>>> 2914dabec9672f7e8c5131b59e107107c72b20a4
     ],
     "language": "python",
     "metadata": {},
     "outputs": [
      {
<<<<<<< HEAD
       "metadata": {},
       "output_type": "pyout",
       "prompt_number": 51,
       "text": [
        "(array([  2.,   0.,   0.,   0.,   1.,   4.,   0.,   1.,   2.,   5.,   3.,\n",
        "          9.,   9.,   8.,   4.,   3.,   6.,   9.,  16.,   4.,   8.,   8.,\n",
        "          6.,   8.,  11.,   5.,   9.,   3.,   6.,   4.,   3.,   2.,   7.,\n",
        "          2.,   6.,   6.,   4.,   2.,   3.,   9.,   5.,   4.,   7.,   4.,\n",
        "          4.,   5.,   3.,   4.,   4.,   6.,   4.,   4.,   5.,   3.,   4.,\n",
        "          4.,   5.,   7.,   4.,   6.,   6.,   6.,   4.,   4.,   3.,   4.,\n",
        "          3.,   3.,   3.,   2.,   2.,   2.,   5.,   4.,   3.,   2.,   4.,\n",
        "          2.,   1.,   1.,   2.,   0.,   1.,   1.,   1.,   0.,   0.,   0.,\n",
        "          1.,   3.,   0.,   1.,   1.,   0.,   0.,   0.,   0.,   0.,   0.,\n",
        "          1.]),\n",
        " array([ 2.10722222,  2.13794444,  2.16866667,  2.19938889,  2.23011111,\n",
        "         2.26083333,  2.29155556,  2.32227778,  2.353     ,  2.38372222,\n",
        "         2.41444444,  2.44516667,  2.47588889,  2.50661111,  2.53733333,\n",
        "         2.56805556,  2.59877778,  2.6295    ,  2.66022222,  2.69094444,\n",
        "         2.72166667,  2.75238889,  2.78311111,  2.81383333,  2.84455556,\n",
        "         2.87527778,  2.906     ,  2.93672222,  2.96744444,  2.99816667,\n",
        "         3.02888889,  3.05961111,  3.09033333,  3.12105556,  3.15177778,\n",
        "         3.1825    ,  3.21322222,  3.24394444,  3.27466667,  3.30538889,\n",
        "         3.33611111,  3.36683333,  3.39755556,  3.42827778,  3.459     ,\n",
        "         3.48972222,  3.52044444,  3.55116667,  3.58188889,  3.61261111,\n",
        "         3.64333333,  3.67405556,  3.70477778,  3.7355    ,  3.76622222,\n",
        "         3.79694444,  3.82766667,  3.85838889,  3.88911111,  3.91983333,\n",
        "         3.95055556,  3.98127778,  4.012     ,  4.04272222,  4.07344444,\n",
        "         4.10416667,  4.13488889,  4.16561111,  4.19633333,  4.22705556,\n",
        "         4.25777778,  4.2885    ,  4.31922222,  4.34994444,  4.38066667,\n",
        "         4.41138889,  4.44211111,  4.47283333,  4.50355556,  4.53427778,\n",
        "         4.565     ,  4.59572222,  4.62644444,  4.65716667,  4.68788889,\n",
        "         4.71861111,  4.74933333,  4.78005556,  4.81077778,  4.8415    ,\n",
        "         4.87222222,  4.90294444,  4.93366667,  4.96438889,  4.99511111,\n",
        "         5.02583333,  5.05655556,  5.08727778,  5.118     ,  5.14872222,\n",
        "         5.17944444]),\n",
        " <a list of 100 Patch objects>)"
       ]
      },
      {
       "metadata": {},
       "output_type": "display_data",
       "png": "iVBORw0KGgoAAAANSUhEUgAAAXMAAAEACAYAAABBDJb9AAAABHNCSVQICAgIfAhkiAAAAAlwSFlz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\n",
       "text": [
        "<matplotlib.figure.Figure at 0x7f43988f00d0>"
       ]
      }
     ],
     "prompt_number": 51
=======
       "output_type": "stream",
       "stream": "stdout",
       "text": [
        "0.0505313885924\n"
       ]
      }
     ],
     "prompt_number": 36
>>>>>>> 2914dabec9672f7e8c5131b59e107107c72b20a4
    },
    {
     "cell_type": "code",
     "collapsed": false,
     "input": [],
     "language": "python",
     "metadata": {},
     "outputs": []
    }
   ],
   "metadata": {}
  }
 ]
}