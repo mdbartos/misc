{
 "metadata": {
  "name": "",
  "signature": "sha256:491d06872b16cd1ca7cccc0a4aba713789bf35c27d0744c01165160e740a2b9a"
 },
 "nbformat": 3,
 "nbformat_minor": 0,
 "worksheets": [
  {
   "cells": [
    {
     "cell_type": "code",
     "collapsed": false,
     "input": [
      "import numpy as np\n",
      "import pandas as pd\n",
      "import os\n",
      "import datetime\n",
      "from scipy import stats\n",
      "from scipy import integrate\n",
      "import random"
     ],
     "language": "python",
     "metadata": {},
     "outputs": [],
     "prompt_number": 1
    },
    {
     "cell_type": "code",
     "collapsed": false,
     "input": [
      "%pylab inline"
     ],
     "language": "python",
     "metadata": {},
     "outputs": [
      {
       "output_type": "stream",
       "stream": "stdout",
       "text": [
        "Populating the interactive namespace from numpy and matplotlib\n"
       ]
      },
      {
       "output_type": "stream",
       "stream": "stderr",
       "text": [
        "WARNING: pylab import has clobbered these variables: ['random']\n",
        "`%matplotlib` prevents importing * from pylab and numpy\n"
       ]
      }
     ],
     "prompt_number": 2
    },
    {
     "cell_type": "code",
     "collapsed": false,
     "input": [
      "histo = pd.read_csv('/home/tabris/Desktop/Old Desktop/wind_new/hist/data_39.8125_-104.8125', sep='\\t', names=['prcp', 'tmax', 'tmin', 'wspd'])\n",
      "echam_a1b = pd.read_csv('/home/tabris/Desktop/Old Desktop/wind_new/mpi_echam5.3_a1b/data_39.8125_-104.8125', sep='\\t', names=['prcp', 'tmax', 'tmin', 'wspd'])\n",
      "ukmo_a1b = pd.read_csv('/home/tabris/Desktop/Old Desktop/wind_new/ukmo_hadcm3.1_a1b/data_39.8125_-104.8125', sep='\\t', names=['prcp', 'tmax', 'tmin', 'wspd'])"
     ],
     "language": "python",
     "metadata": {},
     "outputs": [],
     "prompt_number": 3
    },
    {
     "cell_type": "code",
     "collapsed": false,
     "input": [
      "histo['date'] = pd.date_range(start=datetime.date(1949, 1, 1), end=datetime.date(2010,12,31))\n",
      "echam_a1b['date'] = pd.date_range(start=datetime.date(2010, 1, 1), end=datetime.date(2099,12,31))\n",
      "ukmo_a1b['date'] = pd.date_range(start=datetime.date(2010, 1, 1), end=datetime.date(2099,12,31))\n",
      "\n",
      "histo['month'] = [i.month for i in histo['date']]\n",
      "histo['day'] = [i.day for i in histo['date']]\n",
      "echam_a1b['month'] = [i.month for i in echam_a1b['date']]\n",
      "echam_a1b['day'] = [i.day for i in echam_a1b['date']]\n",
      "ukmo_a1b['month'] = [i.month for i in ukmo_a1b['date']]\n",
      "ukmo_a1b['day'] = [i.day for i in ukmo_a1b['date']]\n",
      "\n",
      "h = histo.groupby(['month', 'day']).mean().reset_index()\n",
      "u = ukmo_a1b.groupby(['month', 'day']).mean().reset_index()\n",
      "e = echam_a1b.groupby(['month', 'day']).mean().reset_index()\n",
      "c = pd.concat([h['wspd'], u['wspd'], e['wspd']], axis=1)"
     ],
     "language": "python",
     "metadata": {},
     "outputs": [],
     "prompt_number": 4
    },
    {
     "cell_type": "code",
     "collapsed": false,
     "input": [
      "quanthist = [histo['wspd'].quantile(float(i)/100) for i in range(1, 101)]\n",
      "quantukmoa1b = [ukmo_a1b['wspd'].quantile(float(i)/100) for i in range(1, 101)]\n",
      "quantechama1b = [echam_a1b['wspd'].quantile(float(i)/100) for i in range(1, 101)]\n",
      "\n",
      "quanthistc = [c.iloc[:,0].quantile(float(i)/100) for i in range(1, 101)]\n",
      "quantukmoa1bc = [c.iloc[:,1].quantile(float(i)/100) for i in range(1, 101)]\n",
      "quantechama1bc = [c.iloc[:,2].quantile(float(i)/100) for i in range(1, 101)]"
     ],
     "language": "python",
     "metadata": {},
     "outputs": [],
     "prompt_number": 5
    },
    {
     "cell_type": "code",
     "collapsed": false,
     "input": [
      "effectsize_ukmo = integrate.quad(lambda x: abs(histo['wspd'].quantile(x) - ukmo_a1b['wspd'].quantile(x)), 0, 1)[0]\n",
      "\n",
      "effectsize_echam = integrate.quad(lambda x: abs(histo['wspd'].quantile(x) - echam_a1b['wspd'].quantile(x)), 0, 1)[0]"
     ],
     "language": "python",
     "metadata": {},
     "outputs": [
      {
       "output_type": "stream",
       "stream": "stderr",
       "text": [
        "/usr/lib/python2.7/dist-packages/scipy/integrate/quadpack.py:295: UserWarning: The maximum number of subdivisions (50) has been achieved.\n",
        "  If increasing the limit yields no improvement it is advised to analyze \n",
        "  the integrand in order to determine the difficulties.  If the position of a \n",
        "  local difficulty can be determined (singularity, discontinuity) one will \n",
        "  probably gain from splitting up the interval and calling the integrator \n",
        "  on the subranges.  Perhaps a special-purpose integrator should be used.\n",
        "  warnings.warn(msg)\n"
       ]
      }
     ],
     "prompt_number": 6
    },
    {
     "cell_type": "code",
     "collapsed": false,
     "input": [
      "effectsize_ukmo"
     ],
     "language": "python",
     "metadata": {},
     "outputs": [
      {
       "metadata": {},
       "output_type": "pyout",
       "prompt_number": 7,
       "text": [
        "0.05053138859243372"
       ]
      }
     ],
     "prompt_number": 7
    },
    {
     "cell_type": "code",
     "collapsed": false,
     "input": [
      "plot(range(len(quanthist)), quanthist, label='hist')\n",
      "plot(range(len(quantukmoa1b)), quantukmoa1b, label='ukmo a1b', linestyle='--')\n",
      "plot(range(len(quantechama1b)), quantechama1b, label='echam a1b', linestyle='--')\n",
      "\n",
      "title('Wind Speed Percentiles')\n",
      "xlabel('Percentile')\n",
      "ylabel('Wind Speed (m/s)')\n",
      "legend(loc=2)\n",
      "text(3,8,'QAD, ukmo-a1b:     %.3f\\nQAD, echam-a1b:   %.3f' % (effectsize_ukmo, effectsize_echam))"
     ],
     "language": "python",
     "metadata": {},
     "outputs": [
      {
       "metadata": {},
       "output_type": "pyout",
       "prompt_number": 8,
       "text": [
        "<matplotlib.text.Text at 0x7f7557a02e50>"
       ]
      },
      {
       "metadata": {},
       "output_type": "display_data",
       "png": "[encoded data removed]",
       "text": [
        "<matplotlib.figure.Figure at 0x7f7557c4b1d0>"
       ]
      }
     ],
     "prompt_number": 8
    },
    {
     "cell_type": "code",
     "collapsed": false,
     "input": [
      "hist(histo['wspd'], bins=100, linewidth=0, label='hist')\n",
      "hist(ukmo_a1b['wspd'].iloc[:22645], bins=100, alpha=0.75, linewidth=0, label='ukmo-a1b')\n",
      "title('Histogram of historical vs. projected (ukmo-a1b) wind speed', y=1.05)\n",
      "legend()\n",
      "\n",
      "z_stat, p_val = stats.ranksums(histo['wspd'], ukmo_a1b['wspd'].iloc[:22645])\n",
      "\n",
      "text(9.5, 520, 'Z:     %.2f\\np:      %.4f' % (z_stat, p_val))\n",
      "ylabel('Count')\n",
      "xlabel('Wind speed (m/s)')"
     ],
     "language": "python",
     "metadata": {},
     "outputs": [
      {
       "metadata": {},
       "output_type": "pyout",
       "prompt_number": 10,
       "text": [
        "<matplotlib.text.Text at 0x7f755775da90>"
       ]
      },
      {
       "metadata": {},
       "output_type": "display_data",
       "png": "[encoded data removed]",
       "text": [
        "<matplotlib.figure.Figure at 0x7f755780f210>"
       ]
      }
     ],
     "prompt_number": 10
    },
    {
     "cell_type": "heading",
     "level": 2,
     "metadata": {},
     "source": [
      "Distribution not normal; non-parametric test needed:"
     ]
    },
    {
     "cell_type": "code",
     "collapsed": false,
     "input": [
      "print histo['wspd'].skew()\n",
      "print histo['wspd'].kurtosis()"
     ],
     "language": "python",
     "metadata": {},
     "outputs": [
      {
       "output_type": "stream",
       "stream": "stdout",
       "text": [
        "0.6579004525\n",
        "0.495924866912\n"
       ]
      }
     ],
     "prompt_number": 14
    },
    {
     "cell_type": "heading",
     "level": 1,
     "metadata": {},
     "source": [
      "Wilcoxon Rank-Sum"
     ]
    },
    {
     "cell_type": "code",
     "collapsed": false,
     "input": [
      "z_stat, p_val = stats.ranksums(histo['wspd'], ukmo_a1b['wspd'].iloc[:22645])\n",
      "print z_stat, p_val"
     ],
     "language": "python",
     "metadata": {},
     "outputs": [
      {
       "output_type": "stream",
       "stream": "stdout",
       "text": [
        "-2.7151794357 0.00662398698395\n"
       ]
      }
     ],
     "prompt_number": 15
    },
    {
     "cell_type": "heading",
     "level": 1,
     "metadata": {},
     "source": [
      "Wilcoxon Signed-Rank"
     ]
    },
    {
     "cell_type": "code",
     "collapsed": false,
     "input": [
      "z_stat, p_val = stats.wilcoxon(histo['wspd'], ukmo_a1b['wspd'].iloc[:22645])\n",
      "print z_stat, p_val"
     ],
     "language": "python",
     "metadata": {},
     "outputs": [
      {
       "output_type": "stream",
       "stream": "stdout",
       "text": [
        "120788492.0 0.0005281821601\n"
       ]
      }
     ],
     "prompt_number": 16
    },
    {
     "cell_type": "heading",
     "level": 1,
     "metadata": {},
     "source": [
      "Wilcoxon Rank Sum with Random Sample of 1000"
     ]
    },
    {
     "cell_type": "code",
     "collapsed": false,
     "input": [
      "#z_stat, p_val = stats.ranksums(random.sample(histo['wspd'], 1000), random.sample(ukmo_a1b['wspd'].iloc[:22645], 1000))\n",
      "#print z_stat, p_val"
     ],
     "language": "python",
     "metadata": {},
     "outputs": [],
     "prompt_number": 25
    },
    {
     "cell_type": "heading",
     "level": 1,
     "metadata": {},
     "source": [
      "Effect Size"
     ]
    },
    {
     "cell_type": "code",
     "collapsed": false,
     "input": [
      "print histo['wspd'].std(), ukmo_a1b['wspd'].iloc[:22645].std()"
     ],
     "language": "python",
     "metadata": {},
     "outputs": [
      {
       "output_type": "stream",
       "stream": "stdout",
       "text": [
        "1.63105738592 1.66233905123\n"
       ]
      }
     ],
     "prompt_number": 26
    },
    {
     "cell_type": "code",
     "collapsed": false,
     "input": [
      "(histo['wspd'].mean() - ukmo_a1b['wspd'].iloc[:22645].mean())/(((histo['wspd'].std()**2 + ukmo_a1b['wspd'].std()**2)/2)**0.5)"
     ],
     "language": "python",
     "metadata": {},
     "outputs": [
      {
       "metadata": {},
       "output_type": "pyout",
       "prompt_number": 24,
       "text": [
        "-0.030345538178915658"
       ]
      }
     ],
     "prompt_number": 24
    },
    {
     "cell_type": "code",
     "collapsed": false,
     "input": [
      "print histo['wspd'].mean(), ukmo_a1b['wspd'].mean(), echam_a1b['wspd'].mean()"
     ],
     "language": "python",
     "metadata": {},
     "outputs": [
      {
       "output_type": "stream",
       "stream": "stdout",
       "text": [
        "3.26995495694 3.32009369676 3.30376521051\n"
       ]
      }
     ],
     "prompt_number": 21
    },
    {
     "cell_type": "code",
     "collapsed": false,
     "input": [],
     "language": "python",
     "metadata": {},
     "outputs": []
    },
    {
     "cell_type": "heading",
     "level": 1,
     "metadata": {},
     "source": [
      "Quantile Absolute Deviation"
     ]
    },
    {
     "cell_type": "code",
     "collapsed": false,
     "input": [
      "result = integrate.quad(lambda x: abs(histo['wspd'].quantile(x) - ukmo_a1b['wspd'].quantile(x)), 0, 1)\n",
      "print result[0]"
     ],
     "language": "python",
     "metadata": {},
     "outputs": [
      {
       "output_type": "stream",
       "stream": "stdout",
       "text": [
        "0.0505313885924\n"
       ]
      }
     ],
     "prompt_number": 36
    },
    {
     "cell_type": "code",
     "collapsed": false,
     "input": [],
     "language": "python",
     "metadata": {},
     "outputs": []
    }
   ],
   "metadata": {}
  }
 ]
}