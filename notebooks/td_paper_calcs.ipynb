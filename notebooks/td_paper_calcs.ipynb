{
 "metadata": {
  "name": "",
  "signature": "sha256:33535890c045c1cdff7ea9a1459d8bbc662acb50bc6726ad9951d15a4b55da09"
 },
 "nbformat": 3,
 "nbformat_minor": 0,
 "worksheets": [
  {
   "cells": [
    {
     "cell_type": "code",
     "collapsed": false,
     "input": [
      "import numpy as np\n",
      "import pandas as pd\n",
      "import geopandas as gpd\n",
      "from geopandas import tools\n",
      "import os\n",
      "import netCDF4\n",
      "import datetime\n",
      "import sys\n",
      "import psutil"
     ],
     "language": "python",
     "metadata": {},
     "outputs": [],
     "prompt_number": 1
    },
    {
     "cell_type": "heading",
     "level": 1,
     "metadata": {},
     "source": [
      "0. Primary Results"
     ]
    },
    {
     "cell_type": "heading",
     "level": 3,
     "metadata": {},
     "source": [
      "Primary transmission results"
     ]
    },
    {
     "cell_type": "code",
     "collapsed": false,
     "input": [
      "#for fn in os.listdir('/home/tabris/github/RIPS/output/transmission/impacts'):\n",
      "#    if fn.endswith('shp'):\n",
      "#        fnbase = fn.split('.')[0]\n",
      "#        df = gpd.read_file('/home/tabris/github/RIPS/output/transmission/impacts/%s' % fn)\n",
      "#        expcols = [i for i in df.columns if i != 'geometry']\n",
      "#        df[expcols].to_csv('/home/tabris/github/RIPS/output/transmission/impacts/csv/%s.csv' % fnbase)"
     ],
     "language": "python",
     "metadata": {},
     "outputs": []
    },
    {
     "cell_type": "code",
     "collapsed": false,
     "input": [
      "impact_dir = '%s/github/RIPS/output/transmission/impacts/csv' % homedir\n",
      "\n",
      "file_list = [i for i in os.listdir(impact_dir) if i.endswith('csv')]\n",
      "\n",
      "model_d = {}\n",
      "\n",
      "for fn in file_list:\n",
      "    model = fn.split('.')[0].split('_')[2]\n",
      "    scen = fn.split('.')[0].split('_')[3]\n",
      "    df = pd.read_csv('%s/%s' % (impact_dir, fn))\n",
      "    df = df[['pd_d2040', 'pd_d2050', 'pd_d2060']].mean(axis=1).median()\n",
      "    model_d.update({ '%s-%s' % (model, scen) : df})"
     ],
     "language": "python",
     "metadata": {},
     "outputs": [],
     "prompt_number": 9
    },
    {
     "cell_type": "code",
     "collapsed": false,
     "input": [
      "model_s = pd.Series(model_d.values(), index=model_d.keys()).order()"
     ],
     "language": "python",
     "metadata": {},
     "outputs": [],
     "prompt_number": 10
    },
    {
     "cell_type": "code",
     "collapsed": false,
     "input": [
      "model_s"
     ],
     "language": "python",
     "metadata": {},
     "outputs": [
      {
       "metadata": {},
       "output_type": "pyout",
       "prompt_number": 11,
       "text": [
        "gfdl-esm2m-rcp26       1.915525\n",
        "mpi-esm-mr-rcp26       2.030048\n",
        "gfdl-esm2m-rcp45       2.222320\n",
        "ccsm4-rcp26            2.320811\n",
        "gfdl-esm2g-rcp26       2.327929\n",
        "mpi-esm-lr-rcp26       2.406454\n",
        "cnrm-cm5-rcp45         2.649800\n",
        "gfdl-esm2g-rcp45       2.751622\n",
        "ipsl-cm5a-mr-rcp26     2.875185\n",
        "miroc5-rcp26           2.940507\n",
        "mpi-esm-mr-rcp45       3.157832\n",
        "csiro-mk3-6-0-rcp26    3.210772\n",
        "mpi-esm-lr-rcp45       3.430628\n",
        "gfdl-esm2m-rcp85       3.557628\n",
        "cesm1-bgc-rcp45        3.646994\n",
        "miroc5-rcp45           3.817805\n",
        "ccsm4-rcp45            3.834725\n",
        "canesm2-rcp26          3.883283\n",
        "cnrm-cm5-rcp85         3.893701\n",
        "gfdl-esm2g-rcp85       3.965228\n",
        "csiro-mk3-6-0-rcp45    4.131583\n",
        "canesm2-rcp45          4.291296\n",
        "ipsl-cm5a-mr-rcp45     4.329213\n",
        "mpi-esm-mr-rcp85       4.488898\n",
        "miroc5-rcp85           4.544967\n",
        "mpi-esm-lr-rcp85       4.566477\n",
        "cesm1-bgc-rcp85        4.624502\n",
        "ccsm4-rcp85            4.650424\n",
        "csiro-mk3-6-0-rcp85    5.201403\n",
        "ipsl-cm5a-mr-rcp85     5.593153\n",
        "canesm2-rcp85          5.832967\n",
        "dtype: float64"
       ]
      }
     ],
     "prompt_number": 11
    },
    {
     "cell_type": "heading",
     "level": 4,
     "metadata": {},
     "source": [
      "RCP2.6"
     ]
    },
    {
     "cell_type": "code",
     "collapsed": false,
     "input": [
      "model_s[model_s.index.str.contains('rcp26')]"
     ],
     "language": "python",
     "metadata": {},
     "outputs": [
      {
       "metadata": {},
       "output_type": "pyout",
       "prompt_number": 17,
       "text": [
        "gfdl-esm2m-rcp26       1.915525\n",
        "mpi-esm-mr-rcp26       2.030048\n",
        "ccsm4-rcp26            2.320811\n",
        "gfdl-esm2g-rcp26       2.327929\n",
        "mpi-esm-lr-rcp26       2.406454\n",
        "ipsl-cm5a-mr-rcp26     2.875185\n",
        "miroc5-rcp26           2.940507\n",
        "csiro-mk3-6-0-rcp26    3.210772\n",
        "canesm2-rcp26          3.883283\n",
        "dtype: float64"
       ]
      }
     ],
     "prompt_number": 17
    },
    {
     "cell_type": "code",
     "collapsed": false,
     "input": [
      "print model_s[model_s.index.str.contains('rcp26')].mean()\n",
      "print model_s[model_s.index.str.contains('rcp26')].median()"
     ],
     "language": "python",
     "metadata": {},
     "outputs": [
      {
       "output_type": "stream",
       "stream": "stdout",
       "text": [
        "2.65672376518\n",
        "2.40645360137\n"
       ]
      }
     ],
     "prompt_number": 33
    },
    {
     "cell_type": "heading",
     "level": 4,
     "metadata": {},
     "source": [
      "RCP4.5"
     ]
    },
    {
     "cell_type": "code",
     "collapsed": false,
     "input": [
      "model_s[model_s.index.str.contains('rcp45')]"
     ],
     "language": "python",
     "metadata": {},
     "outputs": [
      {
       "metadata": {},
       "output_type": "pyout",
       "prompt_number": 20,
       "text": [
        "gfdl-esm2m-rcp45       2.222320\n",
        "cnrm-cm5-rcp45         2.649800\n",
        "gfdl-esm2g-rcp45       2.751622\n",
        "mpi-esm-mr-rcp45       3.157832\n",
        "mpi-esm-lr-rcp45       3.430628\n",
        "cesm1-bgc-rcp45        3.646994\n",
        "miroc5-rcp45           3.817805\n",
        "ccsm4-rcp45            3.834725\n",
        "csiro-mk3-6-0-rcp45    4.131583\n",
        "canesm2-rcp45          4.291296\n",
        "ipsl-cm5a-mr-rcp45     4.329213\n",
        "dtype: float64"
       ]
      }
     ],
     "prompt_number": 20
    },
    {
     "cell_type": "code",
     "collapsed": false,
     "input": [
      "print model_s[model_s.index.str.contains('rcp45')].mean()\n",
      "print model_s[model_s.index.str.contains('rcp45')].median()"
     ],
     "language": "python",
     "metadata": {},
     "outputs": [
      {
       "output_type": "stream",
       "stream": "stdout",
       "text": [
        "3.47852895801\n",
        "3.64699384559\n"
       ]
      }
     ],
     "prompt_number": 32
    },
    {
     "cell_type": "heading",
     "level": 4,
     "metadata": {},
     "source": [
      "RCP8.5"
     ]
    },
    {
     "cell_type": "code",
     "collapsed": false,
     "input": [
      "model_s[model_s.index.str.contains('rcp85')]"
     ],
     "language": "python",
     "metadata": {},
     "outputs": [
      {
       "metadata": {},
       "output_type": "pyout",
       "prompt_number": 22,
       "text": [
        "gfdl-esm2m-rcp85       3.557628\n",
        "cnrm-cm5-rcp85         3.893701\n",
        "gfdl-esm2g-rcp85       3.965228\n",
        "mpi-esm-mr-rcp85       4.488898\n",
        "miroc5-rcp85           4.544967\n",
        "mpi-esm-lr-rcp85       4.566477\n",
        "cesm1-bgc-rcp85        4.624502\n",
        "ccsm4-rcp85            4.650424\n",
        "csiro-mk3-6-0-rcp85    5.201403\n",
        "ipsl-cm5a-mr-rcp85     5.593153\n",
        "canesm2-rcp85          5.832967\n",
        "dtype: float64"
       ]
      }
     ],
     "prompt_number": 22
    },
    {
     "cell_type": "code",
     "collapsed": false,
     "input": [
      "print model_s[model_s.index.str.contains('rcp85')].mean()\n",
      "print model_s[model_s.index.str.contains('rcp85')].median()"
     ],
     "language": "python",
     "metadata": {},
     "outputs": [
      {
       "output_type": "stream",
       "stream": "stdout",
       "text": [
        "4.62903160272\n",
        "4.56647696769\n"
       ]
      }
     ],
     "prompt_number": 34
    },
    {
     "cell_type": "heading",
     "level": 3,
     "metadata": {},
     "source": [
      "Primary demand results"
     ]
    },
    {
     "cell_type": "code",
     "collapsed": false,
     "input": [
      "homedir = os.path.expanduser('~')\n",
      "reg_dir = '%s/github/RIPS/output/demand/regress' % homedir\n",
      "\n",
      "d = {}\n",
      "\n",
      "for fn in os.listdir(reg_dir):\n",
      "    name = fn.split('demand_')[1]\n",
      "    df = pd.read_csv('%s/%s' % (reg_dir, fn), index_col=0, parse_dates=True)\n",
      "    df = df.groupby(level=0).mean()\n",
      "#    df.drop(pd.Series(df.index)[pd.Series(df.index).duplicated()], inplace=True)\n",
      "    df.columns = [int(i) for i in df.columns]\n",
      "    d.update({ name : df})\n",
      "    del df\n",
      "\n",
      "d = pd.Panel(d)"
     ],
     "language": "python",
     "metadata": {},
     "outputs": [],
     "prompt_number": 2
    },
    {
     "cell_type": "code",
     "collapsed": false,
     "input": [
      "rcp26_labels = d.items[pd.Series(d.items).str.contains('rcp26')]\n",
      "rcp45_labels = d.items[pd.Series(d.items).str.contains('rcp45')]\n",
      "rcp85_labels = d.items[pd.Series(d.items).str.contains('rcp85')]"
     ],
     "language": "python",
     "metadata": {},
     "outputs": [],
     "prompt_number": 3
    },
    {
     "cell_type": "code",
     "collapsed": false,
     "input": [
      "shpdir = '%s/github/RIPS/output/demand/post/shp' % homedir\n",
      "captured_util = gpd.read_file('%s/captured_util.shp' % shpdir)\n",
      "\n",
      "summerpeak = captured_util.set_index('eia_id')['SUMMERPEAK'].astype(float)\n",
      "scenarios = d.to_frame().unstack().loc['1990':].interpolate().resample('A')\n",
      "trend = (scenarios.div(scenarios.loc['1990':'2010'].mean()).stack(level=0) - 1) * 100\n",
      "\n",
      "trend2 = (trend.multiply(summerpeak, axis=1).sum(axis=1)/summerpeak.sum()).unstack()\n",
      "trend2 = trend2.loc['2040':'2060'].median().order()"
     ],
     "language": "python",
     "metadata": {},
     "outputs": [],
     "prompt_number": 4
    },
    {
     "cell_type": "markdown",
     "metadata": {},
     "source": [
      "Range of demand increases"
     ]
    },
    {
     "cell_type": "code",
     "collapsed": false,
     "input": [
      "trend2"
     ],
     "language": "python",
     "metadata": {},
     "outputs": [
      {
       "metadata": {},
       "output_type": "pyout",
       "prompt_number": 5,
       "text": [
        "gfdl-esm2g_rcp26        4.160086\n",
        "gfdl-esm2m_rcp26        4.641436\n",
        "mpi-esm-mr_rcp26        4.703331\n",
        "gfdl-esm2m_rcp45        4.976900\n",
        "ccsm4_rcp26             5.389050\n",
        "cnrm-cm5_rcp45          5.826310\n",
        "gfdl-esm2g_rcp45        6.183277\n",
        "ipsl-cm5a-mr_rcp26      6.216772\n",
        "mpi-esm-lr_rcp26        6.555358\n",
        "mpi-esm-mr_rcp45        7.586932\n",
        "miroc5_rcp26            7.651395\n",
        "gfdl-esm2m_rcp85        7.857576\n",
        "csiro-mk3-6-0_rcp26     8.120162\n",
        "gfdl-esm2g_rcp85        8.654018\n",
        "cesm1-bgc_rcp45         8.941483\n",
        "csiro-mk3-6-0_rcp45     9.002113\n",
        "canesm2_rcp26           9.194029\n",
        "mpi-esm-lr_rcp45        9.281429\n",
        "miroc5_rcp45            9.335460\n",
        "mpi-esm-mr_rcp85        9.392659\n",
        "cnrm-cm5_rcp85          9.552687\n",
        "ccsm4_rcp45            10.285478\n",
        "ipsl-cm5a-mr_rcp45     10.292266\n",
        "cesm1-bgc_rcp85        10.384541\n",
        "ccsm4_rcp85            10.505621\n",
        "canesm2_rcp45          10.591132\n",
        "mpi-esm-lr_rcp85       10.902338\n",
        "miroc5_rcp85           11.209760\n",
        "csiro-mk3-6-0_rcp85    12.263486\n",
        "ipsl-cm5a-mr_rcp85     13.405034\n",
        "canesm2_rcp85          14.628563\n",
        "dtype: float64"
       ]
      }
     ],
     "prompt_number": 5
    },
    {
     "cell_type": "heading",
     "level": 4,
     "metadata": {},
     "source": [
      "RCP2.6"
     ]
    },
    {
     "cell_type": "code",
     "collapsed": false,
     "input": [
      "trend2.loc[rcp26_labels].order()"
     ],
     "language": "python",
     "metadata": {},
     "outputs": [
      {
       "metadata": {},
       "output_type": "pyout",
       "prompt_number": 25,
       "text": [
        "gfdl-esm2g_rcp26       4.160086\n",
        "gfdl-esm2m_rcp26       4.641436\n",
        "mpi-esm-mr_rcp26       4.703331\n",
        "ccsm4_rcp26            5.389050\n",
        "ipsl-cm5a-mr_rcp26     6.216772\n",
        "mpi-esm-lr_rcp26       6.555358\n",
        "miroc5_rcp26           7.651395\n",
        "csiro-mk3-6-0_rcp26    8.120162\n",
        "canesm2_rcp26          9.194029\n",
        "dtype: float64"
       ]
      }
     ],
     "prompt_number": 25
    },
    {
     "cell_type": "code",
     "collapsed": false,
     "input": [
      "print trend2.loc[rcp26_labels].mean()\n",
      "print trend2.loc[rcp26_labels].median()"
     ],
     "language": "python",
     "metadata": {},
     "outputs": [
      {
       "output_type": "stream",
       "stream": "stdout",
       "text": [
        "6.29240218881\n",
        "6.21677190518\n"
       ]
      }
     ],
     "prompt_number": 27
    },
    {
     "cell_type": "heading",
     "level": 4,
     "metadata": {},
     "source": [
      "RCP4.5"
     ]
    },
    {
     "cell_type": "code",
     "collapsed": false,
     "input": [
      "trend2.loc[rcp45_labels].order()"
     ],
     "language": "python",
     "metadata": {},
     "outputs": [
      {
       "metadata": {},
       "output_type": "pyout",
       "prompt_number": 28,
       "text": [
        "gfdl-esm2m_rcp45        4.976900\n",
        "cnrm-cm5_rcp45          5.826310\n",
        "gfdl-esm2g_rcp45        6.183277\n",
        "mpi-esm-mr_rcp45        7.586932\n",
        "cesm1-bgc_rcp45         8.941483\n",
        "csiro-mk3-6-0_rcp45     9.002113\n",
        "mpi-esm-lr_rcp45        9.281429\n",
        "miroc5_rcp45            9.335460\n",
        "ccsm4_rcp45            10.285478\n",
        "ipsl-cm5a-mr_rcp45     10.292266\n",
        "canesm2_rcp45          10.591132\n",
        "dtype: float64"
       ]
      }
     ],
     "prompt_number": 28
    },
    {
     "cell_type": "code",
     "collapsed": false,
     "input": [
      "print trend2.loc[rcp45_labels].mean()\n",
      "print trend2.loc[rcp45_labels].median()"
     ],
     "language": "python",
     "metadata": {},
     "outputs": [
      {
       "output_type": "stream",
       "stream": "stdout",
       "text": [
        "8.39116176834\n",
        "9.00211347697\n"
       ]
      }
     ],
     "prompt_number": 29
    },
    {
     "cell_type": "code",
     "collapsed": false,
     "input": [
      "trend2.loc[rcp85_labels].order()"
     ],
     "language": "python",
     "metadata": {},
     "outputs": [
      {
       "metadata": {},
       "output_type": "pyout",
       "prompt_number": 30,
       "text": [
        "gfdl-esm2m_rcp85        7.857576\n",
        "gfdl-esm2g_rcp85        8.654018\n",
        "mpi-esm-mr_rcp85        9.392659\n",
        "cnrm-cm5_rcp85          9.552687\n",
        "cesm1-bgc_rcp85        10.384541\n",
        "ccsm4_rcp85            10.505621\n",
        "mpi-esm-lr_rcp85       10.902338\n",
        "miroc5_rcp85           11.209760\n",
        "csiro-mk3-6-0_rcp85    12.263486\n",
        "ipsl-cm5a-mr_rcp85     13.405034\n",
        "canesm2_rcp85          14.628563\n",
        "dtype: float64"
       ]
      }
     ],
     "prompt_number": 30
    },
    {
     "cell_type": "code",
     "collapsed": false,
     "input": [
      "print trend2.loc[rcp85_labels].mean()\n",
      "print trend2.loc[rcp85_labels].median()"
     ],
     "language": "python",
     "metadata": {},
     "outputs": [
      {
       "output_type": "stream",
       "stream": "stdout",
       "text": [
        "10.7960257482\n",
        "10.5056214439\n"
       ]
      }
     ],
     "prompt_number": 31
    },
    {
     "cell_type": "heading",
     "level": 3,
     "metadata": {},
     "source": [
      "Planning reserve margin"
     ]
    },
    {
     "cell_type": "code",
     "collapsed": false,
     "input": [
      "(118 - 100)/100.0"
     ],
     "language": "python",
     "metadata": {},
     "outputs": [
      {
       "metadata": {},
       "output_type": "pyout",
       "prompt_number": 43,
       "text": [
        "0.18"
       ]
      }
     ],
     "prompt_number": 43
    },
    {
     "cell_type": "code",
     "collapsed": false,
     "input": [
      "#Average Reductions\n",
      "\n",
      "# 0.026077333931\n",
      "# 0.0296758814905\n",
      "# 0.0180824710891\n",
      "# 0.0142455817568\n",
      "# 0.0113792731197\n",
      "# 0.0160506294259\n",
      "\n",
      "# 91611.2915262\n",
      "# 89222.3132852\n",
      "# 88892.6456957\n",
      "# 89954.7329957\n",
      "# 90306.2353829\n",
      "# 90568.8216191\n",
      "# 90140.8726347"
     ],
     "language": "python",
     "metadata": {},
     "outputs": [],
     "prompt_number": 46
    },
    {
     "cell_type": "code",
     "collapsed": false,
     "input": [
      "# Modeled gen vs. Total gen\n",
      "\n",
      "# 0.4596192193"
     ],
     "language": "python",
     "metadata": {},
     "outputs": [],
     "prompt_number": 47
    },
    {
     "cell_type": "code",
     "collapsed": false,
     "input": [
      "lo = (273238*(1-0.01137) -(0.083*0.41*(273238 - 201000)))/273238"
     ],
     "language": "python",
     "metadata": {},
     "outputs": [],
     "prompt_number": 52
    },
    {
     "cell_type": "code",
     "collapsed": false,
     "input": [
      "hi = (273238*(1-0.02968) -(0.083*0.41*(273238 - 201000)))/273238"
     ],
     "language": "python",
     "metadata": {},
     "outputs": [],
     "prompt_number": 53
    },
    {
     "cell_type": "heading",
     "level": 3,
     "metadata": {},
     "source": [
      "PRM - Low Impacts"
     ]
    },
    {
     "cell_type": "code",
     "collapsed": false,
     "input": [
      "(1.18*lo - 1.046)/1.046"
     ],
     "language": "python",
     "metadata": {},
     "outputs": [
      {
       "metadata": {},
       "output_type": "pyout",
       "prompt_number": 55,
       "text": [
        "0.10513117849045427"
       ]
      }
     ],
     "prompt_number": 55
    },
    {
     "cell_type": "heading",
     "level": 3,
     "metadata": {},
     "source": [
      "PRM - High Impacts"
     ]
    },
    {
     "cell_type": "code",
     "collapsed": false,
     "input": [
      "(1.18*hi - 1.146)/1.146"
     ],
     "language": "python",
     "metadata": {},
     "outputs": [
      {
       "metadata": {},
       "output_type": "pyout",
       "prompt_number": 56,
       "text": [
        "-0.010155835339428286"
       ]
      }
     ],
     "prompt_number": 56
    },
    {
     "cell_type": "heading",
     "level": 1,
     "metadata": {},
     "source": [
      "1. Uncertainty"
     ]
    },
    {
     "cell_type": "heading",
     "level": 2,
     "metadata": {},
     "source": [
      "Transmission"
     ]
    },
    {
     "cell_type": "code",
     "collapsed": false,
     "input": [
      "#for fn in os.listdir('/home/tabris/github/RIPS/output/transmission/post/uncertainty/c85'):\n",
      "#    if (fn.endswith('shp') and ('avg' not in fn)):\n",
      "#        fnbase = fn.split('.')[0]\n",
      "#        df = gpd.read_file('/home/tabris/github/RIPS/output/transmission/post/uncertainty/c85/%s' % fn)\n",
      "#        expcols = [i for i in df.columns if i != 'geometry']\n",
      "#        df[expcols].to_csv('/home/tabris/github/RIPS/output/transmission/post/uncertainty/c85/csv/%s.csv' % fnbase)"
     ],
     "language": "python",
     "metadata": {},
     "outputs": []
    },
    {
     "cell_type": "code",
     "collapsed": false,
     "input": [
      "#for fn in os.listdir('/home/tabris/github/RIPS/output/transmission/post/uncertainty/c100'):\n",
      "#    if (fn.endswith('shp') and ('avg' not in fn)):\n",
      "#        fnbase = fn.split('.')[0]\n",
      "#        df = gpd.read_file('/home/tabris/github/RIPS/output/transmission/post/uncertainty/c100/%s' % fn)\n",
      "#        expcols = [i for i in df.columns if i != 'geometry']\n",
      "#        df[expcols].to_csv('/home/tabris/github/RIPS/output/transmission/post/uncertainty/c100/csv/%s.csv' % fnbase)"
     ],
     "language": "python",
     "metadata": {},
     "outputs": []
    },
    {
     "cell_type": "code",
     "collapsed": false,
     "input": [
      "#for fn in os.listdir('/home/tabris/github/RIPS/output/transmission/post/uncertainty/c140'):\n",
      "#    if (fn.endswith('shp') and ('avg' not in fn)):\n",
      "#        fnbase = fn.split('.')[0]\n",
      "#        df = gpd.read_file('/home/tabris/github/RIPS/output/transmission/post/uncertainty/c140/%s' % fn)\n",
      "#        expcols = [i for i in df.columns if i != 'geometry']\n",
      "#        df[expcols].to_csv('/home/tabris/github/RIPS/output/transmission/post/uncertainty/c140/csv/%s.csv' % fnbase)"
     ],
     "language": "python",
     "metadata": {},
     "outputs": []
    },
    {
     "cell_type": "heading",
     "level": 3,
     "metadata": {},
     "source": [
      "85 C"
     ]
    },
    {
     "cell_type": "code",
     "collapsed": false,
     "input": [
      "impact_dir = '%s/github/RIPS/output/transmission/post/uncertainty/c85/csv' % homedir\n",
      "\n",
      "file_list = [i for i in os.listdir(impact_dir) if i.endswith('csv')]\n",
      "\n",
      "model_d = {}\n",
      "\n",
      "for fn in file_list:\n",
      "    model = fn.split('.')[0].split('_')[2]\n",
      "    scen = fn.split('.')[0].split('_')[3]\n",
      "    df = pd.read_csv('%s/%s' % (impact_dir, fn))\n",
      "    df = df[['pd_d2040', 'pd_d2050', 'pd_d2060']].mean(axis=1).median()\n",
      "    model_d.update({ '%s-%s' % (model, scen) : df})"
     ],
     "language": "python",
     "metadata": {},
     "outputs": [],
     "prompt_number": 58
    },
    {
     "cell_type": "code",
     "collapsed": false,
     "input": [
      "model_s = pd.Series(model_d.values(), index=model_d.keys()).order()\n",
      "model_s"
     ],
     "language": "python",
     "metadata": {},
     "outputs": [
      {
       "metadata": {},
       "output_type": "pyout",
       "prompt_number": 59,
       "text": [
        "gfdl-esm2m-rcp26       1.493223\n",
        "mpi-esm-mr-rcp26       1.576705\n",
        "gfdl-esm2m-rcp45       1.732953\n",
        "ccsm4-rcp26            1.811439\n",
        "gfdl-esm2g-rcp26       1.812518\n",
        "mpi-esm-lr-rcp26       1.869375\n",
        "cnrm-cm5-rcp45         2.054905\n",
        "gfdl-esm2g-rcp45       2.145560\n",
        "ipsl-cm5a-mr-rcp26     2.234153\n",
        "miroc5-rcp26           2.283034\n",
        "mpi-esm-mr-rcp45       2.444254\n",
        "csiro-mk3-6-0-rcp26    2.488172\n",
        "mpi-esm-lr-rcp45       2.662855\n",
        "gfdl-esm2m-rcp85       2.765888\n",
        "cesm1-bgc-rcp45        2.838555\n",
        "miroc5-rcp45           2.966151\n",
        "ccsm4-rcp45            2.981922\n",
        "cnrm-cm5-rcp85         3.006135\n",
        "canesm2-rcp26          3.008328\n",
        "gfdl-esm2g-rcp85       3.079919\n",
        "csiro-mk3-6-0-rcp45    3.202327\n",
        "canesm2-rcp45          3.335681\n",
        "ipsl-cm5a-mr-rcp45     3.351594\n",
        "mpi-esm-mr-rcp85       3.479202\n",
        "miroc5-rcp85           3.530045\n",
        "mpi-esm-lr-rcp85       3.543402\n",
        "cesm1-bgc-rcp85        3.558204\n",
        "ccsm4-rcp85            3.602214\n",
        "csiro-mk3-6-0-rcp85    4.006721\n",
        "ipsl-cm5a-mr-rcp85     4.325643\n",
        "canesm2-rcp85          4.525917\n",
        "dtype: float64"
       ]
      }
     ],
     "prompt_number": 59
    },
    {
     "cell_type": "code",
     "collapsed": false,
     "input": [
      "print model_s[model_s.index.str.contains('rcp26')]\n",
      "print '\\n'\n",
      "print model_s[model_s.index.str.contains('rcp26')].mean()\n",
      "print model_s[model_s.index.str.contains('rcp26')].median()"
     ],
     "language": "python",
     "metadata": {},
     "outputs": [
      {
       "output_type": "stream",
       "stream": "stdout",
       "text": [
        "gfdl-esm2m-rcp26       1.493223\n",
        "mpi-esm-mr-rcp26       1.576705\n",
        "ccsm4-rcp26            1.811439\n",
        "gfdl-esm2g-rcp26       1.812518\n",
        "mpi-esm-lr-rcp26       1.869375\n",
        "ipsl-cm5a-mr-rcp26     2.234153\n",
        "miroc5-rcp26           2.283034\n",
        "csiro-mk3-6-0-rcp26    2.488172\n",
        "canesm2-rcp26          3.008328\n",
        "dtype: float64\n",
        "\n",
        "\n",
        "2.06410511165\n",
        "1.86937537934\n"
       ]
      }
     ],
     "prompt_number": 63
    },
    {
     "cell_type": "code",
     "collapsed": false,
     "input": [
      "print model_s[model_s.index.str.contains('rcp45')]\n",
      "print '\\n'\n",
      "print model_s[model_s.index.str.contains('rcp45')].mean()\n",
      "print model_s[model_s.index.str.contains('rcp45')].median()"
     ],
     "language": "python",
     "metadata": {},
     "outputs": [
      {
       "output_type": "stream",
       "stream": "stdout",
       "text": [
        "gfdl-esm2m-rcp45       1.732953\n",
        "cnrm-cm5-rcp45         2.054905\n",
        "gfdl-esm2g-rcp45       2.145560\n",
        "mpi-esm-mr-rcp45       2.444254\n",
        "mpi-esm-lr-rcp45       2.662855\n",
        "cesm1-bgc-rcp45        2.838555\n",
        "miroc5-rcp45           2.966151\n",
        "ccsm4-rcp45            2.981922\n",
        "csiro-mk3-6-0-rcp45    3.202327\n",
        "canesm2-rcp45          3.335681\n",
        "ipsl-cm5a-mr-rcp45     3.351594\n",
        "dtype: float64\n",
        "\n",
        "\n",
        "2.70152339666\n",
        "2.8385546791\n"
       ]
      }
     ],
     "prompt_number": 64
    },
    {
     "cell_type": "code",
     "collapsed": false,
     "input": [
      "print model_s[model_s.index.str.contains('rcp85')]\n",
      "print '\\n'\n",
      "print model_s[model_s.index.str.contains('rcp85')].mean()\n",
      "print model_s[model_s.index.str.contains('rcp85')].median()"
     ],
     "language": "python",
     "metadata": {},
     "outputs": [
      {
       "output_type": "stream",
       "stream": "stdout",
       "text": [
        "gfdl-esm2m-rcp85       2.765888\n",
        "cnrm-cm5-rcp85         3.006135\n",
        "gfdl-esm2g-rcp85       3.079919\n",
        "mpi-esm-mr-rcp85       3.479202\n",
        "miroc5-rcp85           3.530045\n",
        "mpi-esm-lr-rcp85       3.543402\n",
        "cesm1-bgc-rcp85        3.558204\n",
        "ccsm4-rcp85            3.602214\n",
        "csiro-mk3-6-0-rcp85    4.006721\n",
        "ipsl-cm5a-mr-rcp85     4.325643\n",
        "canesm2-rcp85          4.525917\n",
        "dtype: float64\n",
        "\n",
        "\n",
        "3.58393531833\n",
        "3.54340160403\n"
       ]
      }
     ],
     "prompt_number": 65
    },
    {
     "cell_type": "heading",
     "level": 3,
     "metadata": {},
     "source": [
      "100 C"
     ]
    },
    {
     "cell_type": "code",
     "collapsed": false,
     "input": [
      "impact_dir = '%s/github/RIPS/output/transmission/post/uncertainty/c100/csv' % homedir\n",
      "\n",
      "file_list = [i for i in os.listdir(impact_dir) if i.endswith('csv')]\n",
      "\n",
      "model_d = {}\n",
      "\n",
      "for fn in file_list:\n",
      "    model = fn.split('.')[0].split('_')[2]\n",
      "    scen = fn.split('.')[0].split('_')[3]\n",
      "    df = pd.read_csv('%s/%s' % (impact_dir, fn))\n",
      "    df = df[['pd_d2040', 'pd_d2050', 'pd_d2060']].mean(axis=1).median()\n",
      "    model_d.update({ '%s-%s' % (model, scen) : df})"
     ],
     "language": "python",
     "metadata": {},
     "outputs": [],
     "prompt_number": 66
    },
    {
     "cell_type": "code",
     "collapsed": false,
     "input": [
      "model_s = pd.Series(model_d.values(), index=model_d.keys()).order()\n",
      "model_s"
     ],
     "language": "python",
     "metadata": {},
     "outputs": [
      {
       "metadata": {},
       "output_type": "pyout",
       "prompt_number": 67,
       "text": [
        "gfdl-esm2m-rcp26       1.122428\n",
        "mpi-esm-mr-rcp26       1.177889\n",
        "gfdl-esm2m-rcp45       1.298674\n",
        "gfdl-esm2g-rcp26       1.357700\n",
        "ccsm4-rcp26            1.361483\n",
        "mpi-esm-lr-rcp26       1.396956\n",
        "cnrm-cm5-rcp45         1.533056\n",
        "gfdl-esm2g-rcp45       1.609814\n",
        "ipsl-cm5a-mr-rcp26     1.669393\n",
        "miroc5-rcp26           1.706585\n",
        "mpi-esm-mr-rcp45       1.826275\n",
        "csiro-mk3-6-0-rcp26    1.857362\n",
        "mpi-esm-lr-rcp45       1.989817\n",
        "gfdl-esm2m-rcp85       2.077751\n",
        "cesm1-bgc-rcp45        2.124233\n",
        "miroc5-rcp45           2.225767\n",
        "ccsm4-rcp45            2.241449\n",
        "cnrm-cm5-rcp85         2.244583\n",
        "canesm2-rcp26          2.245793\n",
        "gfdl-esm2g-rcp85       2.304582\n",
        "csiro-mk3-6-0-rcp45    2.389080\n",
        "ipsl-cm5a-mr-rcp45     2.494991\n",
        "canesm2-rcp45          2.495696\n",
        "mpi-esm-mr-rcp85       2.600703\n",
        "miroc5-rcp85           2.641810\n",
        "cesm1-bgc-rcp85        2.654107\n",
        "mpi-esm-lr-rcp85       2.654490\n",
        "ccsm4-rcp85            2.696651\n",
        "csiro-mk3-6-0-rcp85    2.975332\n",
        "ipsl-cm5a-mr-rcp85     3.222708\n",
        "canesm2-rcp85          3.379165\n",
        "dtype: float64"
       ]
      }
     ],
     "prompt_number": 67
    },
    {
     "cell_type": "code",
     "collapsed": false,
     "input": [
      "print model_s[model_s.index.str.contains('rcp26')]\n",
      "print '\\n'\n",
      "print model_s[model_s.index.str.contains('rcp26')].mean()\n",
      "print model_s[model_s.index.str.contains('rcp26')].median()"
     ],
     "language": "python",
     "metadata": {},
     "outputs": [
      {
       "output_type": "stream",
       "stream": "stdout",
       "text": [
        "gfdl-esm2m-rcp26       1.122428\n",
        "mpi-esm-mr-rcp26       1.177889\n",
        "gfdl-esm2g-rcp26       1.357700\n",
        "ccsm4-rcp26            1.361483\n",
        "mpi-esm-lr-rcp26       1.396956\n",
        "ipsl-cm5a-mr-rcp26     1.669393\n",
        "miroc5-rcp26           1.706585\n",
        "csiro-mk3-6-0-rcp26    1.857362\n",
        "canesm2-rcp26          2.245793\n",
        "dtype: float64\n",
        "\n",
        "\n",
        "1.54395408608\n",
        "1.3969555575\n"
       ]
      }
     ],
     "prompt_number": 68
    },
    {
     "cell_type": "code",
     "collapsed": false,
     "input": [
      "print model_s[model_s.index.str.contains('rcp45')]\n",
      "print '\\n'\n",
      "print model_s[model_s.index.str.contains('rcp45')].mean()\n",
      "print model_s[model_s.index.str.contains('rcp45')].median()"
     ],
     "language": "python",
     "metadata": {},
     "outputs": [
      {
       "output_type": "stream",
       "stream": "stdout",
       "text": [
        "gfdl-esm2m-rcp45       1.298674\n",
        "cnrm-cm5-rcp45         1.533056\n",
        "gfdl-esm2g-rcp45       1.609814\n",
        "mpi-esm-mr-rcp45       1.826275\n",
        "mpi-esm-lr-rcp45       1.989817\n",
        "cesm1-bgc-rcp45        2.124233\n",
        "miroc5-rcp45           2.225767\n",
        "ccsm4-rcp45            2.241449\n",
        "csiro-mk3-6-0-rcp45    2.389080\n",
        "ipsl-cm5a-mr-rcp45     2.494991\n",
        "canesm2-rcp45          2.495696\n",
        "dtype: float64\n",
        "\n",
        "\n",
        "2.02080460395\n",
        "2.12423279229\n"
       ]
      }
     ],
     "prompt_number": 69
    },
    {
     "cell_type": "code",
     "collapsed": false,
     "input": [
      "print model_s[model_s.index.str.contains('rcp85')]\n",
      "print '\\n'\n",
      "print model_s[model_s.index.str.contains('rcp85')].mean()\n",
      "print model_s[model_s.index.str.contains('rcp85')].median()"
     ],
     "language": "python",
     "metadata": {},
     "outputs": [
      {
       "output_type": "stream",
       "stream": "stdout",
       "text": [
        "gfdl-esm2m-rcp85       2.077751\n",
        "cnrm-cm5-rcp85         2.244583\n",
        "gfdl-esm2g-rcp85       2.304582\n",
        "mpi-esm-mr-rcp85       2.600703\n",
        "miroc5-rcp85           2.641810\n",
        "cesm1-bgc-rcp85        2.654107\n",
        "mpi-esm-lr-rcp85       2.654490\n",
        "ccsm4-rcp85            2.696651\n",
        "csiro-mk3-6-0-rcp85    2.975332\n",
        "ipsl-cm5a-mr-rcp85     3.222708\n",
        "canesm2-rcp85          3.379165\n",
        "dtype: float64\n",
        "\n",
        "\n",
        "2.67744379809\n",
        "2.65410713712\n"
       ]
      }
     ],
     "prompt_number": 70
    },
    {
     "cell_type": "heading",
     "level": 3,
     "metadata": {},
     "source": [
      "140 C"
     ]
    },
    {
     "cell_type": "code",
     "collapsed": false,
     "input": [
      "impact_dir = '%s/github/RIPS/output/transmission/post/uncertainty/c140/csv' % homedir\n",
      "\n",
      "file_list = [i for i in os.listdir(impact_dir) if i.endswith('csv')]\n",
      "\n",
      "model_d = {}\n",
      "\n",
      "for fn in file_list:\n",
      "    model = fn.split('.')[0].split('_')[2]\n",
      "    scen = fn.split('.')[0].split('_')[3]\n",
      "    df = pd.read_csv('%s/%s' % (impact_dir, fn))\n",
      "    df = df[['pd_d2040', 'pd_d2050', 'pd_d2060']].mean(axis=1).median()\n",
      "    model_d.update({ '%s-%s' % (model, scen) : df})"
     ],
     "language": "python",
     "metadata": {},
     "outputs": [],
     "prompt_number": 71
    },
    {
     "cell_type": "code",
     "collapsed": false,
     "input": [
      "model_s = pd.Series(model_d.values(), index=model_d.keys()).order()\n",
      "model_s"
     ],
     "language": "python",
     "metadata": {},
     "outputs": [
      {
       "metadata": {},
       "output_type": "pyout",
       "prompt_number": 72,
       "text": [
        "gfdl-esm2m-rcp26       0.660987\n",
        "mpi-esm-mr-rcp26       0.691510\n",
        "gfdl-esm2m-rcp45       0.764653\n",
        "gfdl-esm2g-rcp26       0.797498\n",
        "ccsm4-rcp26            0.800479\n",
        "mpi-esm-lr-rcp26       0.822041\n",
        "cnrm-cm5-rcp45         0.899893\n",
        "gfdl-esm2g-rcp45       0.946538\n",
        "ipsl-cm5a-mr-rcp26     0.984004\n",
        "miroc5-rcp26           1.004239\n",
        "mpi-esm-mr-rcp45       1.071346\n",
        "csiro-mk3-6-0-rcp26    1.090572\n",
        "mpi-esm-lr-rcp45       1.170654\n",
        "gfdl-esm2m-rcp85       1.220083\n",
        "cesm1-bgc-rcp45        1.250731\n",
        "miroc5-rcp45           1.310471\n",
        "cnrm-cm5-rcp85         1.312861\n",
        "ccsm4-rcp45            1.316886\n",
        "canesm2-rcp26          1.319138\n",
        "gfdl-esm2g-rcp85       1.354332\n",
        "csiro-mk3-6-0-rcp45    1.393860\n",
        "ipsl-cm5a-mr-rcp45     1.461248\n",
        "canesm2-rcp45          1.465774\n",
        "mpi-esm-mr-rcp85       1.526604\n",
        "miroc5-rcp85           1.550778\n",
        "mpi-esm-lr-rcp85       1.559458\n",
        "cesm1-bgc-rcp85        1.560602\n",
        "ccsm4-rcp85            1.585185\n",
        "csiro-mk3-6-0-rcp85    1.742001\n",
        "ipsl-cm5a-mr-rcp85     1.878097\n",
        "canesm2-rcp85          1.981481\n",
        "dtype: float64"
       ]
      }
     ],
     "prompt_number": 72
    },
    {
     "cell_type": "code",
     "collapsed": false,
     "input": [
      "print model_s[model_s.index.str.contains('rcp26')]\n",
      "print '\\n'\n",
      "print model_s[model_s.index.str.contains('rcp26')].mean()\n",
      "print model_s[model_s.index.str.contains('rcp26')].median()"
     ],
     "language": "python",
     "metadata": {},
     "outputs": [
      {
       "output_type": "stream",
       "stream": "stdout",
       "text": [
        "gfdl-esm2m-rcp26       0.660987\n",
        "mpi-esm-mr-rcp26       0.691510\n",
        "gfdl-esm2g-rcp26       0.797498\n",
        "ccsm4-rcp26            0.800479\n",
        "mpi-esm-lr-rcp26       0.822041\n",
        "ipsl-cm5a-mr-rcp26     0.984004\n",
        "miroc5-rcp26           1.004239\n",
        "csiro-mk3-6-0-rcp26    1.090572\n",
        "canesm2-rcp26          1.319138\n",
        "dtype: float64\n",
        "\n",
        "\n",
        "0.907829654395\n",
        "0.822040766122\n"
       ]
      }
     ],
     "prompt_number": 73
    },
    {
     "cell_type": "code",
     "collapsed": false,
     "input": [
      "print model_s[model_s.index.str.contains('rcp45')]\n",
      "print '\\n'\n",
      "print model_s[model_s.index.str.contains('rcp45')].mean()\n",
      "print model_s[model_s.index.str.contains('rcp45')].median()"
     ],
     "language": "python",
     "metadata": {},
     "outputs": [
      {
       "output_type": "stream",
       "stream": "stdout",
       "text": [
        "gfdl-esm2m-rcp45       0.764653\n",
        "cnrm-cm5-rcp45         0.899893\n",
        "gfdl-esm2g-rcp45       0.946538\n",
        "mpi-esm-mr-rcp45       1.071346\n",
        "mpi-esm-lr-rcp45       1.170654\n",
        "cesm1-bgc-rcp45        1.250731\n",
        "miroc5-rcp45           1.310471\n",
        "ccsm4-rcp45            1.316886\n",
        "csiro-mk3-6-0-rcp45    1.393860\n",
        "ipsl-cm5a-mr-rcp45     1.461248\n",
        "canesm2-rcp45          1.465774\n",
        "dtype: float64\n",
        "\n",
        "\n",
        "1.18655037652\n",
        "1.2507307233\n"
       ]
      }
     ],
     "prompt_number": 74
    },
    {
     "cell_type": "code",
     "collapsed": false,
     "input": [
      "print model_s[model_s.index.str.contains('rcp85')]\n",
      "print '\\n'\n",
      "print model_s[model_s.index.str.contains('rcp85')].mean()\n",
      "print model_s[model_s.index.str.contains('rcp85')].median()"
     ],
     "language": "python",
     "metadata": {},
     "outputs": [
      {
       "output_type": "stream",
       "stream": "stdout",
       "text": [
        "gfdl-esm2m-rcp85       1.220083\n",
        "cnrm-cm5-rcp85         1.312861\n",
        "gfdl-esm2g-rcp85       1.354332\n",
        "mpi-esm-mr-rcp85       1.526604\n",
        "miroc5-rcp85           1.550778\n",
        "mpi-esm-lr-rcp85       1.559458\n",
        "cesm1-bgc-rcp85        1.560602\n",
        "ccsm4-rcp85            1.585185\n",
        "csiro-mk3-6-0-rcp85    1.742001\n",
        "ipsl-cm5a-mr-rcp85     1.878097\n",
        "canesm2-rcp85          1.981481\n",
        "dtype: float64\n",
        "\n",
        "\n",
        "1.57013472571\n",
        "1.55945751952\n"
       ]
      }
     ],
     "prompt_number": 75
    },
    {
     "cell_type": "heading",
     "level": 2,
     "metadata": {},
     "source": [
      "Demand"
     ]
    },
    {
     "cell_type": "heading",
     "level": 3,
     "metadata": {},
     "source": [
      "Linear model"
     ]
    },
    {
     "cell_type": "code",
     "collapsed": false,
     "input": [
      "homedir = os.path.expanduser('~')\n",
      "reg_dir = '%s/github/RIPS/output/demand/post/uncertainty/lin/regress' % homedir\n",
      "\n",
      "d = {}\n",
      "\n",
      "for fn in os.listdir(reg_dir):\n",
      "    name = fn.split('demand_')[1]\n",
      "    df = pd.read_csv('%s/%s' % (reg_dir, fn), index_col=0, parse_dates=True)\n",
      "    df = df.groupby(level=0).mean()\n",
      "#    df.drop(pd.Series(df.index)[pd.Series(df.index).duplicated()], inplace=True)\n",
      "    df.columns = [int(i) for i in df.columns]\n",
      "    d.update({ name : df})\n",
      "    del df\n",
      "\n",
      "d = pd.Panel(d)"
     ],
     "language": "python",
     "metadata": {},
     "outputs": [],
     "prompt_number": 76
    },
    {
     "cell_type": "code",
     "collapsed": false,
     "input": [
      "shpdir = '%s/github/RIPS/output/demand/post/shp' % homedir\n",
      "captured_util = gpd.read_file('%s/captured_util.shp' % shpdir)\n",
      "\n",
      "summerpeak = captured_util.set_index('eia_id')['SUMMERPEAK'].astype(float)\n",
      "scenarios = d.to_frame().unstack().loc['1990':].interpolate().resample('A')\n",
      "trend = (scenarios.div(scenarios.loc['1990':'2010'].mean()).stack(level=0) - 1) * 100\n",
      "\n",
      "trend2 = (trend.multiply(summerpeak, axis=1).sum(axis=1)/summerpeak.sum()).unstack()\n",
      "trend2 = trend2.loc['2040':'2060'].median().order()"
     ],
     "language": "python",
     "metadata": {},
     "outputs": [],
     "prompt_number": 77
    },
    {
     "cell_type": "code",
     "collapsed": false,
     "input": [
      "trend2"
     ],
     "language": "python",
     "metadata": {},
     "outputs": [
      {
       "metadata": {},
       "output_type": "pyout",
       "prompt_number": 78,
       "text": [
        "gfdl-esm2g_rcp26        4.170785\n",
        "mpi-esm-mr_rcp26        4.293219\n",
        "gfdl-esm2m_rcp26        4.503653\n",
        "gfdl-esm2m_rcp45        4.902818\n",
        "ccsm4_rcp26             5.198959\n",
        "cnrm-cm5_rcp45          5.478913\n",
        "ipsl-cm5a-mr_rcp26      5.696072\n",
        "gfdl-esm2g_rcp45        6.003623\n",
        "mpi-esm-lr_rcp26        6.220229\n",
        "mpi-esm-mr_rcp45        6.889793\n",
        "miroc5_rcp26            6.958114\n",
        "csiro-mk3-6-0_rcp26     7.231567\n",
        "gfdl-esm2m_rcp85        7.344812\n",
        "gfdl-esm2g_rcp85        8.168239\n",
        "canesm2_rcp26           8.259824\n",
        "cesm1-bgc_rcp45         8.292696\n",
        "mpi-esm-mr_rcp85        8.429490\n",
        "csiro-mk3-6-0_rcp45     8.516216\n",
        "mpi-esm-lr_rcp45        8.520653\n",
        "cnrm-cm5_rcp85          8.576881\n",
        "miroc5_rcp45            8.648758\n",
        "ccsm4_rcp45             9.187326\n",
        "cesm1-bgc_rcp85         9.251334\n",
        "ipsl-cm5a-mr_rcp45      9.413552\n",
        "ccsm4_rcp85             9.444874\n",
        "canesm2_rcp45           9.735132\n",
        "mpi-esm-lr_rcp85        9.790928\n",
        "miroc5_rcp85           10.075288\n",
        "csiro-mk3-6-0_rcp85    11.019322\n",
        "ipsl-cm5a-mr_rcp85     11.966121\n",
        "canesm2_rcp85          13.027170\n",
        "dtype: float64"
       ]
      }
     ],
     "prompt_number": 78
    },
    {
     "cell_type": "heading",
     "level": 3,
     "metadata": {},
     "source": [
      "Cubic model"
     ]
    },
    {
     "cell_type": "code",
     "collapsed": false,
     "input": [
      "homedir = os.path.expanduser('~')\n",
      "reg_dir = '%s/github/RIPS/output/demand/post/uncertainty/cub/regress' % homedir\n",
      "\n",
      "d = {}\n",
      "\n",
      "for fn in os.listdir(reg_dir):\n",
      "    name = fn.split('demand_')[1]\n",
      "    df = pd.read_csv('%s/%s' % (reg_dir, fn), index_col=0, parse_dates=True)\n",
      "    df = df.groupby(level=0).mean()\n",
      "#    df.drop(pd.Series(df.index)[pd.Series(df.index).duplicated()], inplace=True)\n",
      "    df.columns = [int(i) for i in df.columns]\n",
      "    d.update({ name : df})\n",
      "    del df\n",
      "\n",
      "d = pd.Panel(d)"
     ],
     "language": "python",
     "metadata": {},
     "outputs": [],
     "prompt_number": 79
    },
    {
     "cell_type": "code",
     "collapsed": false,
     "input": [
      "shpdir = '%s/github/RIPS/output/demand/post/shp' % homedir\n",
      "captured_util = gpd.read_file('%s/captured_util.shp' % shpdir)\n",
      "\n",
      "summerpeak = captured_util.set_index('eia_id')['SUMMERPEAK'].astype(float)\n",
      "scenarios = d.to_frame().unstack().loc['1990':].interpolate().resample('A')\n",
      "trend = (scenarios.div(scenarios.loc['1990':'2010'].mean()).stack(level=0) - 1) * 100\n",
      "\n",
      "trend2 = (trend.multiply(summerpeak, axis=1).sum(axis=1)/summerpeak.sum()).unstack()\n",
      "trend2 = trend2.loc['2040':'2060'].median().order()"
     ],
     "language": "python",
     "metadata": {},
     "outputs": [],
     "prompt_number": 80
    },
    {
     "cell_type": "code",
     "collapsed": false,
     "input": [
      "trend2"
     ],
     "language": "python",
     "metadata": {},
     "outputs": [
      {
       "metadata": {},
       "output_type": "pyout",
       "prompt_number": 81,
       "text": [
        "gfdl-esm2g_rcp26       11.242381\n",
        "gfdl-esm2m_rcp26       12.390272\n",
        "mpi-esm-mr_rcp26       12.620899\n",
        "gfdl-esm2m_rcp45       13.508378\n",
        "ccsm4_rcp26            14.972333\n",
        "gfdl-esm2g_rcp45       15.635511\n",
        "cnrm-cm5_rcp45         16.027805\n",
        "ipsl-cm5a-mr_rcp26     17.274634\n",
        "mpi-esm-lr_rcp26       18.570233\n",
        "miroc5_rcp26           20.472364\n",
        "gfdl-esm2m_rcp85       20.900412\n",
        "mpi-esm-mr_rcp45       21.175535\n",
        "csiro-mk3-6-0_rcp26    22.231541\n",
        "gfdl-esm2g_rcp85       22.524743\n",
        "canesm2_rcp26          24.182369\n",
        "cesm1-bgc_rcp45        24.671715\n",
        "csiro-mk3-6-0_rcp45    24.683648\n",
        "miroc5_rcp45           25.357508\n",
        "mpi-esm-lr_rcp45       25.859640\n",
        "cnrm-cm5_rcp85         26.020033\n",
        "mpi-esm-mr_rcp85       26.236375\n",
        "ipsl-cm5a-mr_rcp45     28.364682\n",
        "ccsm4_rcp45            28.388078\n",
        "ccsm4_rcp85            29.050284\n",
        "cesm1-bgc_rcp85        29.253882\n",
        "canesm2_rcp45          29.281462\n",
        "mpi-esm-lr_rcp85       29.747581\n",
        "miroc5_rcp85           30.652616\n",
        "csiro-mk3-6-0_rcp85    33.665799\n",
        "ipsl-cm5a-mr_rcp85     36.173341\n",
        "canesm2_rcp85          40.449263\n",
        "dtype: float64"
       ]
      }
     ],
     "prompt_number": 81
    },
    {
     "cell_type": "code",
     "collapsed": false,
     "input": [],
     "language": "python",
     "metadata": {},
     "outputs": []
    }
   ],
   "metadata": {}
  }
 ]
}
