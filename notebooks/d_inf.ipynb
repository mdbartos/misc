{
 "cells": [
  {
   "cell_type": "markdown",
   "metadata": {},
   "source": [
    "# Import modules"
   ]
  },
  {
   "cell_type": "code",
   "execution_count": 1,
   "metadata": {},
   "outputs": [],
   "source": [
    "import numpy as np\n",
    "import pandas as pd\n",
    "import matplotlib.pyplot as plt\n",
    "import matplotlib.colors as colors\n",
    "from pysheds.grid import Grid\n",
    "import seaborn as sns\n",
    "import warnings\n",
    "warnings.filterwarnings('ignore')\n",
    "\n",
    "%matplotlib inline"
   ]
  },
  {
   "cell_type": "code",
   "execution_count": 2,
   "metadata": {},
   "outputs": [],
   "source": [
    "grid = Grid.from_raster('../data/n30w100_con', data_name='dem')"
   ]
  },
  {
   "cell_type": "code",
   "execution_count": 3,
   "metadata": {},
   "outputs": [],
   "source": [
    "         #N    NE    E    SE    S    SW    W    NW\n",
    "dirmap = (64,  128,  1,   2,    4,   8,    16,  32)"
   ]
  },
  {
   "cell_type": "code",
   "execution_count": 4,
   "metadata": {},
   "outputs": [],
   "source": [
    "grid.read_raster('../data/n30w100_dir', data_name='dir')"
   ]
  },
  {
   "cell_type": "code",
   "execution_count": 5,
   "metadata": {},
   "outputs": [],
   "source": [
    "# Specify pour point\n",
    "x, y = -97.294167, 32.73750\n",
    "\n",
    "# Delineate the catchment\n",
    "grid.catchment(data='dir', x=x, y=y, dirmap=dirmap, out_name='catch',\n",
    "               recursionlimit=15000, xytype='label', nodata_out=0)"
   ]
  },
  {
   "cell_type": "code",
   "execution_count": 6,
   "metadata": {},
   "outputs": [],
   "source": [
    "# Clip the bounding box to the catchment\n",
    "grid.clip_to('catch')"
   ]
  },
  {
   "cell_type": "code",
   "execution_count": 7,
   "metadata": {},
   "outputs": [],
   "source": [
    "grid.resolve_flats('dem', out_name='inflated_dem')"
   ]
  },
  {
   "cell_type": "code",
   "execution_count": 8,
   "metadata": {},
   "outputs": [],
   "source": [
    "dem = grid.view('inflated_dem', apply_mask=False, dtype=float)"
   ]
  },
  {
   "cell_type": "code",
   "execution_count": 9,
   "metadata": {},
   "outputs": [],
   "source": [
    "def facet_flow(e0, e1, e2, d1=1, d2=1):\n",
    "    s1 = (e0 - e1)/d1\n",
    "    s2 = (e1 - e2)/d2\n",
    "    r = np.arctan2(s2, s1)\n",
    "    s = np.hypot(s1, s2)\n",
    "    diag_angle    = np.arctan2(d2, d1)\n",
    "    diag_distance = np.hypot(d1, d2)\n",
    "    r[r < 0] = 0\n",
    "    s[r < 0] = s1[r < 0]\n",
    "    r[r > diag_angle] = diag_angle\n",
    "    s[r > diag_angle] = ((e0 - e2)/diag_distance)[r > diag_angle]\n",
    "    return r, s"
   ]
  },
  {
   "cell_type": "code",
   "execution_count": 10,
   "metadata": {},
   "outputs": [],
   "source": [
    "inside = grid._inside_indices(dem)"
   ]
  },
  {
   "cell_type": "code",
   "execution_count": 11,
   "metadata": {},
   "outputs": [],
   "source": [
    "inner_neighbors = grid._select_surround_ravel(inside, dem.shape).T"
   ]
  },
  {
   "cell_type": "code",
   "execution_count": 12,
   "metadata": {},
   "outputs": [],
   "source": [
    "inner_neighbors = inner_neighbors[[2, 1, 0, 7, 6, 5, 4, 3]]"
   ]
  },
  {
   "cell_type": "code",
   "execution_count": 13,
   "metadata": {},
   "outputs": [],
   "source": [
    "R = np.zeros((8, inside.size))\n",
    "S = np.zeros((8, inside.size))"
   ]
  },
  {
   "cell_type": "code",
   "execution_count": 14,
   "metadata": {},
   "outputs": [],
   "source": [
    "# I think the ordering of these might not be right\n",
    "dirs = range(8)\n",
    "e1s = [0, 2, 2, 4, 4, 6, 6, 0]\n",
    "e2s = [1, 1, 3, 3, 5, 5, 7, 7]\n",
    "\n",
    "for i, e1, e2 in zip(dirs, e1s, e2s):\n",
    "    r, s = facet_flow(dem.flat[inside], dem.flat[inner_neighbors[e1, :]], dem.flat[inner_neighbors[e2, :]],\n",
    "                      d1=78.0, d2=92.5)\n",
    "    R[i] = r\n",
    "    S[i] = s"
   ]
  },
  {
   "cell_type": "code",
   "execution_count": 15,
   "metadata": {},
   "outputs": [],
   "source": [
    "S_max = np.max(S, axis=0)\n",
    "k_max = np.argmax(S, axis=0)"
   ]
  },
  {
   "cell_type": "code",
   "execution_count": 16,
   "metadata": {},
   "outputs": [],
   "source": [
    "ac = np.asarray([0, 1, 1, 2, 2, 3, 3, 4])\n",
    "af = np.asarray([1, -1, 1, -1, 1, -1, 1, -1])"
   ]
  },
  {
   "cell_type": "code",
   "execution_count": 17,
   "metadata": {},
   "outputs": [],
   "source": [
    "nR = np.zeros(inside.size)\n",
    "nR = (af[k_max] * R[k_max, np.arange(R.shape[-1])]) + (ac[k_max] * np.pi / 2)\n",
    "nR[S_max <= 0] = np.nan"
   ]
  },
  {
   "cell_type": "code",
   "execution_count": 18,
   "metadata": {},
   "outputs": [],
   "source": [
    "z = np.zeros(dem.shape)\n",
    "z[:] = np.nan"
   ]
  },
  {
   "cell_type": "code",
   "execution_count": 19,
   "metadata": {},
   "outputs": [],
   "source": [
    "z[1:-1, 1:-1] = nR.reshape(dem.shape[0] - 2, dem.shape[1] - 2)"
   ]
  },
  {
   "cell_type": "code",
   "execution_count": 20,
   "metadata": {},
   "outputs": [],
   "source": [
    "import cmocean"
   ]
  },
  {
   "cell_type": "code",
   "execution_count": 21,
   "metadata": {},
   "outputs": [],
   "source": [
    "mapping = {\n",
    "    64 : np.pi/2,\n",
    "    128 : np.pi/4,\n",
    "    1 : 0,\n",
    "    2 : 7*np.pi/4,\n",
    "    4 : 3*np.pi/2,\n",
    "    8 : 5*np.pi/4,\n",
    "    16 : np.pi,\n",
    "    32 : 3*np.pi/4,\n",
    "    255 : np.nan\n",
    "}\n",
    "\n",
    "s = pd.Series(grid.view('dir').ravel()).map(mapping)"
   ]
  },
  {
   "cell_type": "code",
   "execution_count": 22,
   "metadata": {},
   "outputs": [
    {
     "data": {
      "image/png": "[encoded data removed]",
      "text/plain": [
       "<matplotlib.figure.Figure at 0x1286f0e10>"
      ]
     },
     "metadata": {},
     "output_type": "display_data"
    }
   ],
   "source": [
    "fig, ax = plt.subplots(1, 2, figsize=(12, 4.5))\n",
    "im0 = ax[0].imshow(np.where(grid.mask, z, np.nan), vmin=0, vmax=2*np.pi, cmap=cmocean.cm.phase, zorder=1)\n",
    "im1 = ax[1].imshow(s.values.reshape(grid.shape), vmin=0, vmax=2*np.pi, cmap=cmocean.cm.phase, zorder=1)\n",
    "plt.colorbar(im0, ax=ax[0], label='Angle (rad)')\n",
    "plt.colorbar(im1, ax=ax[1], label='Angle (rad)')\n",
    "ax[0].set_title('D-infinity')\n",
    "ax[1].set_title('D8')\n",
    "plt.tight_layout()"
   ]
  },
  {
   "cell_type": "code",
   "execution_count": 23,
   "metadata": {},
   "outputs": [],
   "source": [
    "angles = [0, np.pi/4, np.pi/2, 3*np.pi/4, np.pi, 5*np.pi/4, 3*np.pi/2, 7*np.pi/4, 2*np.pi]\n",
    "dig = np.digitize(z, angles)"
   ]
  },
  {
   "cell_type": "code",
   "execution_count": 24,
   "metadata": {},
   "outputs": [],
   "source": [
    "def components(theta, offset=0):\n",
    "    a = np.cos(theta - offset) - np.sin(theta - offset)\n",
    "    b = np.sqrt(2) * np.sin(theta - offset)\n",
    "    return a, b"
   ]
  },
  {
   "cell_type": "code",
   "execution_count": 25,
   "metadata": {},
   "outputs": [],
   "source": [
    "a, b = components(np.pi/6)"
   ]
  },
  {
   "cell_type": "code",
   "execution_count": 26,
   "metadata": {},
   "outputs": [
    {
     "data": {
      "text/plain": [
       "1.0"
      ]
     },
     "execution_count": 26,
     "metadata": {},
     "output_type": "execute_result"
    }
   ],
   "source": [
    "# Verify using law of cosines\n",
    "np.sqrt(a**2 + b**2 - 2*a*b*np.cos(3*np.pi/4))"
   ]
  },
  {
   "cell_type": "code",
   "execution_count": 27,
   "metadata": {},
   "outputs": [],
   "source": [
    "c0 = np.asarray([0, 1, 128, 64, 32, 16, 8, 4, 2, 0])\n",
    "c1 = np.asarray([0, 128, 64, 32, 16, 8, 4, 2, 1, 0])"
   ]
  },
  {
   "cell_type": "code",
   "execution_count": 28,
   "metadata": {},
   "outputs": [],
   "source": [
    "fdir_0 = c0.flat[dig]\n",
    "fdir_1 = c1.flat[dig]"
   ]
  },
  {
   "cell_type": "code",
   "execution_count": 29,
   "metadata": {},
   "outputs": [],
   "source": [
    "self = grid\n",
    "padshape = grid.shape\n",
    "x, y = -97.294167, 32.73750\n",
    "x, y = self.nearest_cell(x, y, grid.affine, grid.shape)\n",
    "pour_point = np.ravel_multi_index(np.array([y, x]), grid.shape)\n",
    "r_dirmap = np.array(dirmap)[[4, 5, 6, 7, 0, 1, 2, 3]].tolist()\n",
    "pour_point = np.array([pour_point])"
   ]
  },
  {
   "cell_type": "code",
   "execution_count": 30,
   "metadata": {},
   "outputs": [],
   "source": [
    "def catchment_search_dinf(cells):\n",
    "    global collect\n",
    "    global visited\n",
    "    global fdir_0\n",
    "    global fdir_1\n",
    "    collect.extend(cells)\n",
    "    visited.flat[cells] = True\n",
    "    selection = self._select_surround_ravel(cells, padshape)\n",
    "    next_idx = selection[np.where((~visited.flat[selection]) & \n",
    "                                  ((fdir_0.flat[selection] == r_dirmap) |\n",
    "                                   (fdir_1.flat[selection] == r_dirmap)))]\n",
    "    if next_idx.any():\n",
    "        return catchment_search_dinf(next_idx)"
   ]
  },
  {
   "cell_type": "code",
   "execution_count": 31,
   "metadata": {},
   "outputs": [],
   "source": [
    "grid.accumulation(data='dir', dirmap=dirmap, out_name='acc')"
   ]
  },
  {
   "cell_type": "code",
   "execution_count": 32,
   "metadata": {},
   "outputs": [],
   "source": [
    "accsort = np.argsort(grid.acc.ravel())[::-1]"
   ]
  },
  {
   "cell_type": "code",
   "execution_count": 33,
   "metadata": {},
   "outputs": [],
   "source": [
    "n = []\n",
    "\n",
    "for i in inside:\n",
    "    collect = []\n",
    "    visited = np.zeros(grid.shape, dtype=np.bool)\n",
    "    pour_point = np.array([i])\n",
    "    catchment_search_dinf(pour_point)\n",
    "    numcells = np.unique(collect).size\n",
    "    n.append(numcells)"
   ]
  },
  {
   "cell_type": "code",
   "execution_count": 34,
   "metadata": {},
   "outputs": [
    {
     "data": {
      "text/plain": [
       "228"
      ]
     },
     "execution_count": 34,
     "metadata": {},
     "output_type": "execute_result"
    }
   ],
   "source": [
    "max(n)"
   ]
  },
  {
   "cell_type": "code",
   "execution_count": 35,
   "metadata": {},
   "outputs": [
    {
     "data": {
      "text/plain": [
       "10848"
      ]
     },
     "execution_count": 35,
     "metadata": {},
     "output_type": "execute_result"
    }
   ],
   "source": [
    "# Highest acc\n",
    "inside[np.argmax(np.asarray(n))]"
   ]
  },
  {
   "cell_type": "code",
   "execution_count": 36,
   "metadata": {},
   "outputs": [],
   "source": [
    "collect = []\n",
    "visited = np.zeros(grid.shape, dtype=np.bool)\n",
    "pour_point = np.array([10848])\n",
    "catchment_search_dinf(pour_point)"
   ]
  },
  {
   "cell_type": "code",
   "execution_count": 37,
   "metadata": {},
   "outputs": [],
   "source": [
    "out = np.zeros(grid.shape)\n",
    "out.flat[collect] = 1"
   ]
  },
  {
   "cell_type": "code",
   "execution_count": 38,
   "metadata": {},
   "outputs": [
    {
     "data": {
      "text/plain": [
       "<matplotlib.image.AxesImage at 0x135308c50>"
      ]
     },
     "execution_count": 38,
     "metadata": {},
     "output_type": "execute_result"
    },
    {
     "data": {
      "image/png": "[encoded data removed]",
      "text/plain": [
       "<matplotlib.figure.Figure at 0x129a6e908>"
      ]
     },
     "metadata": {},
     "output_type": "display_data"
    }
   ],
   "source": [
    "plt.imshow(out)"
   ]
  },
  {
   "cell_type": "code",
   "execution_count": null,
   "metadata": {},
   "outputs": [],
   "source": []
  }
 ],
 "metadata": {
  "kernelspec": {
   "display_name": "Python 3",
   "language": "python",
   "name": "python3"
  },
  "language_info": {
   "codemirror_mode": {
    "name": "ipython",
    "version": 3
   },
   "file_extension": ".py",
   "mimetype": "text/x-python",
   "name": "python",
   "nbconvert_exporter": "python",
   "pygments_lexer": "ipython3",
   "version": "3.6.0"
  }
 },
 "nbformat": 4,
 "nbformat_minor": 2
}
