{
 "cells": [
  {
   "cell_type": "code",
   "execution_count": 1,
   "metadata": {
    "collapsed": true
   },
   "outputs": [],
   "source": [
    "import os\n",
    "import numpy as np\n",
    "import pandas as pd\n",
    "import matplotlib.pyplot as plt\n",
    "import fiona\n",
    "import geopandas as gpd\n",
    "from scipy import spatial\n",
    "%matplotlib inline"
   ]
  },
  {
   "cell_type": "code",
   "execution_count": 85,
   "metadata": {
    "collapsed": true
   },
   "outputs": [],
   "source": [
    "pd.options.display.max_rows = 10"
   ]
  },
  {
   "cell_type": "markdown",
   "metadata": {},
   "source": [
    "## Read SWMM shapefiles as geopandas dataframes"
   ]
  },
  {
   "cell_type": "code",
   "execution_count": 48,
   "metadata": {
    "collapsed": true
   },
   "outputs": [],
   "source": [
    "junctions = gpd.read_file('/Users/mdbartos/Data/GIS/Ann Arbor/full ann arbor 090216/junctions.shp')\n",
    "conduits = gpd.read_file('/Users/mdbartos/Data/GIS/Ann Arbor/full ann arbor 090216/conduits.shp')\n",
    "orifices = gpd.read_file('/Users/mdbartos/Data/GIS/Ann Arbor/full ann arbor 090216/orifices.shp')\n",
    "outfalls = gpd.read_file('/Users/mdbartos/Data/GIS/Ann Arbor/full ann arbor 090216/outfalls.shp')\n",
    "outlets = gpd.read_file('/Users/mdbartos/Data/GIS/Ann Arbor/full ann arbor 090216/outlets.shp')\n",
    "pumps = gpd.read_file('/Users/mdbartos/Data/GIS/Ann Arbor/full ann arbor 090216/pumps.shp')\n",
    "storages = gpd.read_file('/Users/mdbartos/Data/GIS/Ann Arbor/full ann arbor 090216/storages.shp')\n",
    "weirs = gpd.read_file('/Users/mdbartos/Data/GIS/Ann Arbor/full ann arbor 090216/weirs.shp')"
   ]
  },
  {
   "cell_type": "markdown",
   "metadata": {},
   "source": [
    "## Combine all \"junction-like\" objects into a single table"
   ]
  },
  {
   "cell_type": "code",
   "execution_count": 49,
   "metadata": {},
   "outputs": [],
   "source": [
    "vertices = pd.concat([junctions, storages, outfalls], join='inner').reset_index(drop=True)"
   ]
  },
  {
   "cell_type": "markdown",
   "metadata": {
    "collapsed": true
   },
   "source": [
    "## Combine all \"link-like\" objects into a single table"
   ]
  },
  {
   "cell_type": "code",
   "execution_count": 50,
   "metadata": {
    "collapsed": true
   },
   "outputs": [],
   "source": [
    "links = pd.concat([conduits, orifices, pumps, outlets, weirs], join='inner').reset_index(drop=True)"
   ]
  },
  {
   "cell_type": "markdown",
   "metadata": {},
   "source": [
    "## Extract the xy coordinates of the junctions"
   ]
  },
  {
   "cell_type": "code",
   "execution_count": 51,
   "metadata": {},
   "outputs": [
    {
     "data": {
      "text/plain": [
       "array([[ 13298391.508,    291805.924],\n",
       "       [ 13285267.384,    295525.859],\n",
       "       [ 13286184.797,    296973.833],\n",
       "       ..., \n",
       "       [ 13296802.986,    287114.311],\n",
       "       [ 13296710.542,    286709.607],\n",
       "       [ 13302477.603,    302519.355]])"
      ]
     },
     "execution_count": 51,
     "metadata": {},
     "output_type": "execute_result"
    }
   ],
   "source": [
    "vertices_xy = np.vstack(vertices.geometry.apply(lambda x: np.concatenate(x.coords.xy)).values)\n",
    "vertices_xy"
   ]
  },
  {
   "cell_type": "markdown",
   "metadata": {},
   "source": [
    "## Extract the xy coordinates of the start and end of each link"
   ]
  },
  {
   "cell_type": "code",
   "execution_count": 63,
   "metadata": {},
   "outputs": [
    {
     "data": {
      "text/plain": [
       "(array([[ 13285267.384,    295525.859],\n",
       "        [ 13286184.797,    296973.833],\n",
       "        [ 13286258.426,    297011.181],\n",
       "        ..., \n",
       "        [ 13303639.458,    271883.141],\n",
       "        [ 13303502.242,    295524.371],\n",
       "        [ 13298405.603,    296030.644]]),\n",
       " array([[ 13285467.258,    295720.392],\n",
       "        [ 13286258.426,    297011.181],\n",
       "        [ 13286314.052,    297045.973],\n",
       "        ..., \n",
       "        [ 13303589.857,    271838.652],\n",
       "        [ 13303195.531,    295268.687],\n",
       "        [ 13298289.976,    295867.246]]))"
      ]
     },
     "execution_count": 63,
     "metadata": {},
     "output_type": "execute_result"
    }
   ],
   "source": [
    "link_inlets = np.vstack(links.geometry.apply(lambda x: np.column_stack(x.coords.xy)[0, :]).values)\n",
    "link_outlets = np.vstack(links.geometry.apply(lambda x: np.column_stack(x.coords.xy)[-1, :]).values)\n",
    "link_inlets, link_outlets"
   ]
  },
  {
   "cell_type": "markdown",
   "metadata": {
    "collapsed": true
   },
   "source": [
    "## Construct a spatial index on the junction coordinates"
   ]
  },
  {
   "cell_type": "code",
   "execution_count": 54,
   "metadata": {},
   "outputs": [],
   "source": [
    "tree = spatial.cKDTree(vertices_xy)"
   ]
  },
  {
   "cell_type": "markdown",
   "metadata": {},
   "source": [
    "## Query the spatial index for the link start and end coordinates"
   ]
  },
  {
   "cell_type": "code",
   "execution_count": 55,
   "metadata": {
    "collapsed": true
   },
   "outputs": [],
   "source": [
    "inlet_dist, inlet_ix = tree.query(link_inlets)\n",
    "outlet_dist, outlet_ix = tree.query(link_outlets)"
   ]
  },
  {
   "cell_type": "markdown",
   "metadata": {},
   "source": [
    "## Check the max distance between the paired junction and link coordinates;"
   ]
  },
  {
   "cell_type": "code",
   "execution_count": 69,
   "metadata": {},
   "outputs": [
    {
     "data": {
      "text/plain": [
       "(0.0, 0.0)"
      ]
     },
     "execution_count": 69,
     "metadata": {},
     "output_type": "execute_result"
    }
   ],
   "source": [
    "# Turns out the max distance is zero, which means they matched exactly\n",
    "# (as they should in this case)\n",
    "\n",
    "inlet_dist.max(), outlet_dist.max()"
   ]
  },
  {
   "cell_type": "markdown",
   "metadata": {},
   "source": [
    "## Use the computed indices from the query to get the junctions for each link"
   ]
  },
  {
   "cell_type": "code",
   "execution_count": 71,
   "metadata": {},
   "outputs": [
    {
     "data": {
      "text/plain": [
       "(array([    1,     2,     3, ..., 12292, 12223, 12218]),\n",
       " array([ 2541,     3,     4, ..., 11863,    89, 11758]))"
      ]
     },
     "execution_count": 71,
     "metadata": {},
     "output_type": "execute_result"
    }
   ],
   "source": [
    "inlet_ix, outlet_ix"
   ]
  },
  {
   "cell_type": "code",
   "execution_count": 86,
   "metadata": {},
   "outputs": [
    {
     "data": {
      "text/plain": [
       "1         36504_1\n",
       "2         37026_1\n",
       "3         37026_2\n",
       "4         37026_3\n",
       "5         37035_1\n",
       "           ...   \n",
       "12216    93-50415\n",
       "12211    93-50407\n",
       "12292     RITEAID\n",
       "12223    93-50432\n",
       "12218    93-50423\n",
       "Name: NAME, dtype: object"
      ]
     },
     "execution_count": 86,
     "metadata": {},
     "output_type": "execute_result"
    }
   ],
   "source": [
    "# The junctions for each inlet are:\n",
    "vertices['NAME'].iloc[inlet_ix]"
   ]
  },
  {
   "cell_type": "code",
   "execution_count": 87,
   "metadata": {},
   "outputs": [
    {
     "data": {
      "text/plain": [
       "2541       91-51831\n",
       "3           37026_2\n",
       "4           37026_3\n",
       "1931       91-50042\n",
       "1934       91-50047\n",
       "            ...    \n",
       "11741      98-50088\n",
       "733        88-56287\n",
       "11863    RITEAIDOUT\n",
       "89         88-50353\n",
       "11758      98-50108\n",
       "Name: NAME, dtype: object"
      ]
     },
     "execution_count": 87,
     "metadata": {},
     "output_type": "execute_result"
    }
   ],
   "source": [
    "# The junctions for each outlet are:\n",
    "vertices['NAME'].iloc[outlet_ix]"
   ]
  },
  {
   "cell_type": "markdown",
   "metadata": {},
   "source": [
    "## Check that the computed junctions match the ones listed under 'INLETNODE' and 'OUTLETNODE'"
   ]
  },
  {
   "cell_type": "code",
   "execution_count": 79,
   "metadata": {},
   "outputs": [
    {
     "data": {
      "text/plain": [
       "True"
      ]
     },
     "execution_count": 79,
     "metadata": {},
     "output_type": "execute_result"
    }
   ],
   "source": [
    "(links['INLETNODE'].values == vertices['NAME'].iloc[inlet_ix].values).all()"
   ]
  },
  {
   "cell_type": "code",
   "execution_count": 80,
   "metadata": {},
   "outputs": [
    {
     "data": {
      "text/plain": [
       "True"
      ]
     },
     "execution_count": 80,
     "metadata": {},
     "output_type": "execute_result"
    }
   ],
   "source": [
    "(links['OUTLETNODE'].values == vertices['NAME'].iloc[outlet_ix].values).all()"
   ]
  },
  {
   "cell_type": "code",
   "execution_count": null,
   "metadata": {
    "collapsed": true
   },
   "outputs": [],
   "source": []
  }
 ],
 "metadata": {
  "kernelspec": {
   "display_name": "Python 3",
   "language": "python",
   "name": "python3"
  },
  "language_info": {
   "codemirror_mode": {
    "name": "ipython",
    "version": 3
   },
   "file_extension": ".py",
   "mimetype": "text/x-python",
   "name": "python",
   "nbconvert_exporter": "python",
   "pygments_lexer": "ipython3",
   "version": "3.6.0"
  }
 },
 "nbformat": 4,
 "nbformat_minor": 2
}
