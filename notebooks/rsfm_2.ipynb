{
 "cells": [
  {
   "cell_type": "code",
   "execution_count": 1,
   "metadata": {},
   "outputs": [],
   "source": [
    "import numpy as np\n",
    "import pandas as pd\n",
    "import matplotlib.pyplot as plt\n",
    "import matplotlib.colors as colors\n",
    "from pysheds.grid import Grid\n",
    "from pysheds.view import Raster\n",
    "import skimage.morphology\n",
    "import skimage.segmentation\n",
    "from itertools import zip_longest, cycle, permutations\n",
    "from scipy import ndimage\n",
    "import seaborn as sns\n",
    "import warnings\n",
    "\n",
    "warnings.filterwarnings('ignore')\n",
    "\n",
    "%matplotlib inline"
   ]
  },
  {
   "cell_type": "code",
   "execution_count": 2,
   "metadata": {},
   "outputs": [],
   "source": [
    "class Node:\n",
    "    def __init__(self, name=None, parent=None, l=None, r=None, level=None, elev=None, comm=None):\n",
    "        self.name = name\n",
    "        self.parent = parent\n",
    "        self.l = l\n",
    "        self.r = r\n",
    "        self.level = level\n",
    "\n",
    "def enumerate_leaves(node, level=0, stack=[]):\n",
    "    if node.level >= level:\n",
    "        if node.name:\n",
    "            stack.append(node.name)\n",
    "        if node.l:\n",
    "            enumerate_leaves(node.l, level=level, stack=stack)\n",
    "        if node.r:\n",
    "            enumerate_leaves(node.r, level=level, stack=stack)\n",
    "\n",
    "def get_root(node):\n",
    "    if node.parent:\n",
    "        return get_root(node.parent)\n",
    "    else:\n",
    "        return node\n",
    "\n",
    "def show_tree(tree):\n",
    "    depth = \"\"\n",
    "    treestr = \"\"\n",
    "\n",
    "    def print_push(char):\n",
    "        nonlocal depth\n",
    "        branch_str = ' {}  '.format(char)\n",
    "        depth += branch_str\n",
    "\n",
    "    def print_pop():\n",
    "        nonlocal depth\n",
    "        depth = depth[:-4]\n",
    "\n",
    "    def print_tree(node):\n",
    "        nonlocal depth\n",
    "        nonlocal treestr\n",
    "        if (node.l or node.r):\n",
    "            if (node.name):\n",
    "                treestr += '({0}-{1})\\n'.format(node.level, node.name)\n",
    "            else:\n",
    "                treestr += '{0}{1}\\n'.format(chr(9472), '+')\n",
    "            treestr += '{0} {1}{2}{2}'.format(depth, chr(9500), chr(9472))\n",
    "            print_push(chr(9474))\n",
    "            print_tree(node.l)\n",
    "            print_pop()\n",
    "            treestr += '{0} {1}{2}{2}'.format(depth, chr(9492), chr(9472))\n",
    "            print_push(' ')\n",
    "            print_tree(node.r)\n",
    "            print_pop()\n",
    "        else:\n",
    "            treestr += '({0}-{1})\\n'.format(node.level, node.name)\n",
    "\n",
    "    print_tree(tree)\n",
    "    return treestr"
   ]
  },
  {
   "cell_type": "code",
   "execution_count": 3,
   "metadata": {},
   "outputs": [],
   "source": [
    "grid = Grid.from_raster('../data/roi_10m', data_name='dem')"
   ]
  },
  {
   "cell_type": "code",
   "execution_count": 4,
   "metadata": {},
   "outputs": [],
   "source": [
    "dem = grid.view('dem')[30:130, 280:350]"
   ]
  },
  {
   "cell_type": "code",
   "execution_count": 5,
   "metadata": {},
   "outputs": [],
   "source": [
    "ix = np.arange(dem.size).reshape(dem.shape)\n",
    "top = ix[0, :]\n",
    "bottom = ix[-1, :]\n",
    "left = ix[:, 0]\n",
    "right = ix[:, -1]\n",
    "\n",
    "holes = np.zeros(dem.shape)\n",
    "for permutation in permutations([top, bottom, left, right], 3):\n",
    "    mask = np.copy(dem)\n",
    "    exterior = np.concatenate(permutation)\n",
    "    mask.flat[exterior] = dem.max()\n",
    "    seed = np.copy(mask)\n",
    "    seed[1:-1, 1:-1] = dem.max()\n",
    "    rec = skimage.morphology.reconstruction(seed, mask, method='erosion')\n",
    "    holes[(rec - dem) > 0] = dem[(rec - dem) > 0]\n",
    "\n",
    "# Not sure if this is needed\n",
    "holes[0, :] = 0\n",
    "holes[-1, :] = 0\n",
    "holes[:, 0] = 0\n",
    "holes[:, -1] = 0"
   ]
  },
  {
   "cell_type": "code",
   "execution_count": 6,
   "metadata": {},
   "outputs": [],
   "source": [
    "max_levels = 100\n",
    "levels = []\n",
    "mask = np.where(holes == 0, holes.min(), holes)\n",
    "seed = np.where(holes == 0, mask, holes.max())\n",
    "rec = skimage.morphology.reconstruction(seed, mask, method='erosion')\n",
    "levels.append(rec)\n",
    "\n",
    "for _ in range(max_levels):\n",
    "    diff = rec - mask\n",
    "    holes = np.where(diff, holes, 0)\n",
    "    mask = np.where(holes == 0, holes.min(), holes)\n",
    "    seed = np.where(holes == 0, mask, holes.max())\n",
    "    rec = skimage.morphology.reconstruction(seed, mask, method='erosion')\n",
    "    if not rec.any():\n",
    "        break\n",
    "    levels.append(rec)\n",
    "    \n",
    "levels = levels[::-1]\n",
    "levels.append(np.ones(dem.shape))"
   ]
  },
  {
   "cell_type": "code",
   "execution_count": 7,
   "metadata": {},
   "outputs": [],
   "source": [
    "struct = np.ones((3,3), dtype=bool)\n",
    "\n",
    "ns = []\n",
    "\n",
    "for index, level in enumerate(levels):\n",
    "    _level, _n = ndimage.label(level, structure=struct)\n",
    "    levels[index] = _level\n",
    "    ns.append(_n)"
   ]
  },
  {
   "cell_type": "code",
   "execution_count": 8,
   "metadata": {},
   "outputs": [],
   "source": [
    "lup = {}\n",
    "ct = {}\n",
    "\n",
    "has_lower = []\n",
    "for n in ns:\n",
    "    has_lower.append(np.zeros(n + 1, dtype=bool))\n",
    "\n",
    "for index in range(len(levels) - 1):\n",
    "    labelmap = pd.Series(levels[index + 1][levels[index] != 0],\n",
    "                         index=levels[index][levels[index] != 0]).groupby(level=0).first()\n",
    "    lup[index] = dict(labelmap)\n",
    "    ct[index] = dict(labelmap.value_counts())\n",
    "    has_lower[index + 1][labelmap.unique()] = True"
   ]
  },
  {
   "cell_type": "code",
   "execution_count": 9,
   "metadata": {},
   "outputs": [],
   "source": [
    "ws = []\n",
    "\n",
    "for index in range(len(levels) - 1):\n",
    "    mask = (has_lower[index + 1][levels[index + 1]])\n",
    "    w = skimage.morphology.watershed(dem, levels[index],\n",
    "                                     mask=mask, watershed_line=True)\n",
    "    w = np.where(mask, w, -1)\n",
    "    ws.append(w)\n",
    "ws.append(levels[-1])"
   ]
  },
  {
   "cell_type": "code",
   "execution_count": 10,
   "metadata": {},
   "outputs": [],
   "source": [
    "c = {}\n",
    "\n",
    "inside = np.zeros(dem.shape, dtype=bool)\n",
    "inside[1:-1, 1:-1] = True\n",
    "\n",
    "for index in range(len(levels) - 1):\n",
    "    c[index] = {}\n",
    "    comm = np.flatnonzero((ws[index] == 0) & inside)\n",
    "    neighbors = ws[index].flat[grid._select_surround_ravel(comm, ws[index].shape)]\n",
    "    comms = dict(zip(comm, [set() for i in comm]))\n",
    "    for region in lup[index].keys():\n",
    "        for elem in comm[(neighbors == region).any(axis=1)]:\n",
    "            comms[elem].add(region)       \n",
    "    for elem in comms:\n",
    "        comms[elem] = tuple(comms[elem])\n",
    "    for comm, pair in comms.items():\n",
    "        if len(pair) > 2:\n",
    "            for permutation in permutations(pair, 2):\n",
    "                subpair = tuple(sorted(permutation))\n",
    "                if subpair in c[index]:\n",
    "                    if dem.flat[comm] < dem.flat[c[index][subpair]]:\n",
    "                        c[index][subpair] = comm\n",
    "                else:\n",
    "                    c[index][subpair] = comm\n",
    "        else:\n",
    "            if pair in c[index]:\n",
    "                if dem.flat[comm] < dem.flat[c[index][pair]]:\n",
    "                    c[index][pair] = comm\n",
    "            else:\n",
    "                c[index][pair] = comm"
   ]
  },
  {
   "cell_type": "code",
   "execution_count": 11,
   "metadata": {},
   "outputs": [],
   "source": [
    "nodes = []\n",
    "\n",
    "for index in range(len(levels)):\n",
    "    nodes.append({})\n",
    "    for i in range(1, ns[index] + 1):\n",
    "        nodes[index][i] = Node(name=i, level=index)"
   ]
  },
  {
   "cell_type": "code",
   "execution_count": 12,
   "metadata": {},
   "outputs": [],
   "source": [
    "for index in range(len(levels) - 1):\n",
    "    g = set(range(1, ns[index] + 1))\n",
    "    s = pd.DataFrame(pd.Series(c[index]))\n",
    "    s[0] = s[0].astype(int)\n",
    "    s[1] = dem.flat[s[0].values]\n",
    "    s[2] = [lup[index][i] for i in s.index.get_level_values(0)]\n",
    "    s = s.sort_values(1)\n",
    "    num_connections = dict(s.groupby(2).size())\n",
    "    \n",
    "    for i in s.index:\n",
    "        l = nodes[index][i[0]]\n",
    "        r = nodes[index][i[1]]\n",
    "        # Kind of ugly, but need to make sure both haven't been added already\n",
    "        if not (get_root(l) is get_root(r)):\n",
    "            parent = Node()\n",
    "            parent.comm = s.loc[i, 0]\n",
    "            parent.elev = s.loc[i, 1]\n",
    "            parent.level = index\n",
    "            upper_label = int(s.loc[i, 2])\n",
    "            # Join watersheds at same level\n",
    "            for j, d in zip(i, ('l', 'r')):\n",
    "                g.discard(j)\n",
    "                child = get_root(nodes[index][j])\n",
    "                child.parent = parent\n",
    "                setattr(parent, d, child)\n",
    "            num_connections[upper_label] -= 1\n",
    "            # If all watersheds in the depressions have been joined, move up\n",
    "            if num_connections[upper_label] == 0:\n",
    "                parent.level = (index + 1)\n",
    "                parent.name = upper_label\n",
    "                nodes[index + 1][parent.name] = parent\n",
    "        else:\n",
    "            num_connections[upper_label] -= 1\n",
    "    if g:\n",
    "        for j in g:\n",
    "            upper_label = lup[index][j]\n",
    "            child = nodes[index][j]\n",
    "            parent = nodes[index + 1][upper_label]\n",
    "            parent.elev = np.asscalar(dem[levels[index + 1] == upper_label].min())\n",
    "            child.parent = parent\n",
    "            parent.l = child\n",
    "            parent.r = child\n",
    "            nodes[index][j] = child\n",
    "            nodes[index + 1][parent.name] = parent"
   ]
  },
  {
   "cell_type": "code",
   "execution_count": 13,
   "metadata": {},
   "outputs": [
    {
     "name": "stdout",
     "output_type": "stream",
     "text": [
      "(5-1)\n",
      " ├──(4-1)\n",
      " └───+\n",
      "     ├──(4-3)\n",
      "     └───+\n",
      "         ├───+\n",
      "         │   ├──(4-5)\n",
      "         │   └───+\n",
      "         │       ├──(4-2)\n",
      "         │       │   ├───+\n",
      "         │       │   │   ├──(3-2)\n",
      "         │       │   │   └──(3-3)\n",
      "         │       │   └───+\n",
      "         │       │       ├──(3-1)\n",
      "         │       │       │   ├──(2-1)\n",
      "         │       │       │   └───+\n",
      "         │       │       │       ├──(2-2)\n",
      "         │       │       │       └───+\n",
      "         │       │       │           ├───+\n",
      "         │       │       │           │   ├──(2-3)\n",
      "         │       │       │           │   └──(2-4)\n",
      "         │       │       │           │       ├──(1-1)\n",
      "         │       │       │           │       └───+\n",
      "         │       │       │           │           ├──(1-2)\n",
      "         │       │       │           │           │   ├──(0-1)\n",
      "         │       │       │           │           │   └──(0-2)\n",
      "         │       │       │           │           └──(1-3)\n",
      "         │       │       │           └──(2-5)\n",
      "         │       │       └──(3-4)\n",
      "         │       │           ├──(2-6)\n",
      "         │       │           └──(2-6)\n",
      "         │       └──(4-6)\n",
      "         └──(4-4)\n",
      "\n"
     ]
    }
   ],
   "source": [
    "print(show_tree(nodes[-1][1]))"
   ]
  },
  {
   "cell_type": "code",
   "execution_count": 14,
   "metadata": {},
   "outputs": [
    {
     "data": {
      "text/plain": [
       "<matplotlib.colorbar.Colorbar at 0x122b73e10>"
      ]
     },
     "execution_count": 14,
     "metadata": {},
     "output_type": "execute_result"
    },
    {
     "data": {
      "image/png": "[encoded data removed]",
      "text/plain": [
       "<matplotlib.figure.Figure at 0x1221b3048>"
      ]
     },
     "metadata": {},
     "output_type": "display_data"
    }
   ],
   "source": [
    "plt.imshow(sum([(level > 0).astype(int) for level in levels]), zorder=1)\n",
    "plt.colorbar()"
   ]
  },
  {
   "cell_type": "code",
   "execution_count": null,
   "metadata": {},
   "outputs": [],
   "source": []
  }
 ],
 "metadata": {
  "kernelspec": {
   "display_name": "Python 3",
   "language": "python",
   "name": "python3"
  },
  "language_info": {
   "codemirror_mode": {
    "name": "ipython",
    "version": 3
   },
   "file_extension": ".py",
   "mimetype": "text/x-python",
   "name": "python",
   "nbconvert_exporter": "python",
   "pygments_lexer": "ipython3",
   "version": "3.6.0"
  }
 },
 "nbformat": 4,
 "nbformat_minor": 2
}
