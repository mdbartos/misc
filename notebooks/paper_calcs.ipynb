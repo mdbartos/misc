{
 "metadata": {
  "name": "",
  "signature": "sha256:177a074aa8f387474f5ca2c5d61834420dbcc8437222e813a06ea2ac1a8162b4"
 },
 "nbformat": 3,
 "nbformat_minor": 0,
 "worksheets": [
  {
   "cells": [
    {
     "cell_type": "code",
     "collapsed": false,
     "input": [
      "%pylab inline"
     ],
     "language": "python",
     "metadata": {},
     "outputs": [
      {
       "output_type": "stream",
       "stream": "stdout",
       "text": [
        "Populating the interactive namespace from numpy and matplotlib\n"
       ]
      }
     ],
     "prompt_number": 1
    },
    {
     "cell_type": "code",
     "collapsed": false,
     "input": [
      "import numpy as np\n",
      "import pandas as pd\n",
      "from pylab import *\n",
      "import os\n",
      "import datetime\n",
      "import pickle\n",
      "import datetime"
     ],
     "language": "python",
     "metadata": {},
     "outputs": [],
     "prompt_number": 2
    },
    {
     "cell_type": "code",
     "collapsed": false,
     "input": [
      "gen = pd.read_excel('/home/tabris/Desktop/EIA_form_data/eia_form_860/eia8602012/GeneratorY2012.xlsx', skiprows=1)\n",
      "plant = pd.read_excel('/home/tabris/Desktop/EIA_form_data/eia_form_860/eia8602012/PlantY2012.xlsx', skiprows=1)"
     ],
     "language": "python",
     "metadata": {},
     "outputs": [],
     "prompt_number": 3
    },
    {
     "cell_type": "code",
     "collapsed": false,
     "input": [
      "wecc_pcodes = plant.loc[plant['NERC Region'] == 'WECC']['Plant Code'].values"
     ],
     "language": "python",
     "metadata": {},
     "outputs": [],
     "prompt_number": 4
    },
    {
     "cell_type": "code",
     "collapsed": false,
     "input": [
      "wecc_gen = gen.loc[gen['Plant Code'].isin(wecc_pcodes)]"
     ],
     "language": "python",
     "metadata": {},
     "outputs": [],
     "prompt_number": 5
    },
    {
     "cell_type": "code",
     "collapsed": false,
     "input": [
      "'''\n",
      "Prime Mover Types:\n",
      "\tBT = Binary cycle turbine\n",
      "\tCA = Combined cycle steam turbine\n",
      "\tCC = Combined cycle - total unit\n",
      "\tCE = Compressed air energy storage\n",
      "c\tCS = Combined cycle - single shaft\n",
      "c\tCT = Combined cycle combustion turbine\n",
      "\tFC = Fuel cell\n",
      "c\tGT = Combustion (gas) turbine\n",
      "\tHY = Hydraulic turbine\n",
      "c\tIC = Internal combustion (diesel)\n",
      "c\tIG = Integrated gasification combustion turbine\n",
      "\tOT = Other turbine\n",
      "\tPS = Hydraulic turbine - reversible (pumped storage)\n",
      "s\tPV = Photovoltaic\n",
      "\tST = Steam turbine (boiler, nuclear, geothermal, and solar steam)\n",
      "w\tWT = Wind turbine \n",
      "'''\n",
      "print ''"
     ],
     "language": "python",
     "metadata": {},
     "outputs": [
      {
       "output_type": "stream",
       "stream": "stdout",
       "text": [
        "\n"
       ]
      }
     ],
     "prompt_number": 6
    },
    {
     "cell_type": "heading",
     "level": 1,
     "metadata": {},
     "source": [
      "Fraction of Alternative Gen"
     ]
    },
    {
     "cell_type": "code",
     "collapsed": false,
     "input": [
      "totgen = wecc_gen['Nameplate Capacity (MW)'].sum()"
     ],
     "language": "python",
     "metadata": {},
     "outputs": [],
     "prompt_number": 7
    },
    {
     "cell_type": "code",
     "collapsed": false,
     "input": [
      "altgen = wecc_gen.loc[wecc_gen['Prime Mover'].isin(['BT', 'CT', 'FC', 'GT', 'HY', 'IC', 'IG', 'OT', 'PV', 'WT'])]['Nameplate Capacity (MW)'].sum()"
     ],
     "language": "python",
     "metadata": {},
     "outputs": [],
     "prompt_number": 8
    },
    {
     "cell_type": "code",
     "collapsed": false,
     "input": [
      "wecc_use = wecc_gen.loc[(wecc_gen['Status'].isin(['OP', 'SB'])) & (wecc_gen['Prime Mover'] != 'PS')]\n",
      "usegen = wecc_gen.loc[(wecc_gen['Status'].isin(['OP', 'SB'])) & (wecc_gen['Prime Mover'] != 'PS')]['Nameplate Capacity (MW)'].sum()"
     ],
     "language": "python",
     "metadata": {},
     "outputs": [],
     "prompt_number": 9
    },
    {
     "cell_type": "code",
     "collapsed": false,
     "input": [
      "print altgen\n",
      "print totgen\n",
      "print usegen\n",
      "print altgen/totgen\n",
      "print altgen/usegen"
     ],
     "language": "python",
     "metadata": {},
     "outputs": [
      {
       "output_type": "stream",
       "stream": "stdout",
       "text": [
        "124444.9\n",
        "221195.8\n",
        "214915.8\n",
        "0.562600646124\n",
        "0.579040256696\n"
       ]
      }
     ],
     "prompt_number": 10
    },
    {
     "cell_type": "code",
     "collapsed": false,
     "input": [
      "summergen = wecc_use['Summer Capacity (MW)'].sum()\n",
      "wintergen = wecc_use['Winter Capacity (MW)'].sum()\n",
      "print summergen\n",
      "print wintergen"
     ],
     "language": "python",
     "metadata": {},
     "outputs": [
      {
       "output_type": "stream",
       "stream": "stdout",
       "text": [
        "199320.0\n",
        "203404.7\n"
       ]
      }
     ],
     "prompt_number": 11
    },
    {
     "cell_type": "heading",
     "level": 1,
     "metadata": {},
     "source": [
      "Get Results"
     ]
    },
    {
     "cell_type": "code",
     "collapsed": false,
     "input": [
      "class sum_regions():\n",
      "\tdef __init__(self):\n",
      "\t\tself.ct = pd.read_pickle('/home/chesterlab/Bartos/post/d/ct_region.p') \n",
      "\t\tself.rc = pd.read_pickle('/home/chesterlab/Bartos/post/d/rc_region.p')\n",
      "\t\tself.op = pd.read_pickle('/home/chesterlab/Bartos/post/d/op_region.p')\n",
      "\t\tself.hy = pd.read_pickle('/home/chesterlab/Bartos/post/d/hyb_region.p')\n",
      "\t\tself.pv = pd.read_pickle('/home/chesterlab/Bartos/post/d/pv_region.p') \n",
      "#\t\tself.wn = pd.read_pickle('/home/chesterlab/Bartos/post/d/wn_region.p')\n",
      "#\t\tself.wn_lb = pd.read_pickle('/home/chesterlab/Bartos/post/d/wn_lb_region.p')  \n",
      "#\t\tself.wn_ub = pd.read_pickle('/home/chesterlab/Bartos/post/d/wn_ub_region.p')  \n",
      "\t\tself.hy['crb'] = self.hy['pnw']\n",
      "\t\tdel self.hy['pnw']\n",
      "\t\t\n",
      "\t\tself.regs = ['color', 'mo', 'crb', 'cali', 'grb', 'ark']\n",
      "\t\tself.tech_d = {'ct' : self.ct, 'rc' : self.rc, 'op' : self.op, 'hy' : self.hy, 'pv' : self.pv}\n",
      "\t\t\n",
      "\t\tself.df_d = {}\n",
      "\t\tself.reg_techs = {}\n",
      "\n",
      "\tdef rename_pv_wind(self):\n",
      "\t\tfor i in self.tech_d['pv'].keys():\n",
      "\t\t\tfor j in self.tech_d['pv'][i].keys():\n",
      "\t\t\t\tself.tech_d['pv'][i][j].rename(columns={'CAP_MW':'SUM_CAP'}, inplace=True)\n",
      "#\t\tfor i in self.tech_d['wn'].keys():\n",
      "#\t\t\tfor j in self.tech_d['wn'][i].keys():\n",
      "#\t\t\t\tself.tech_d['wn'][i][j].rename(columns={'CAP_MW':'SUM_CAP'}, inplace=True)\n",
      "#\t\tfor i in self.tech_d['wn_lb'].keys():\n",
      "#\t\t\tfor j in self.tech_d['wn_lb'][i].keys():\n",
      "#\t\t\t\tself.tech_d['wn_lb'][i][j].rename(columns={'CAP_MW':'SUM_CAP'}, inplace=True)\n",
      "#\t\tfor i in self.tech_d['wn_ub'].keys():\n",
      "#\t\t\tfor j in self.tech_d['wn_ub'][i].keys():\n",
      "#\t\t\t\tself.tech_d['wn_ub'][i][j].rename(columns={'CAP_MW':'SUM_CAP'}, inplace=True)  \n",
      "\n",
      "\tdef fix_hydro(self):\n",
      "\t\tfor i in self.tech_d['hy'].keys():\n",
      "\t\t\tfor j in self.tech_d['hy'][i].keys():\n",
      "\t\t\t\tg = self.tech_d['hy'][i][j].groupby('YEAR').mean()\n",
      "\t\t\t\tfor h in g.index:\n",
      "\t\t\t\t\tself.tech_d['hy'][i][j].loc[self.tech_d['hy'][i][j]['YEAR'] == h, 'SUM_CAP'] = g.loc[h, 'SUM_CAP']\n",
      "\tdef fix_indices(self):\n",
      "\t\tfor i in self.tech_d.keys():\n",
      "\t\t\tfor j in self.tech_d[i].keys():\n",
      "\t\t\t\tfor k in self.tech_d[i][j].keys():\n",
      "\t\t\t\t\tself.tech_d[i][j][k].index = pd.to_datetime(self.tech_d[i][j][k].index)\n",
      "\n",
      "\tdef combine_regions(self):\n",
      "        \n",
      "\t\tself.df_d = {}\n",
      "        \n",
      "\t\tfor i in self.regs:\n",
      "\t\t\tself.df_d.update({i : {}})\n",
      "\t\t\tself.reg_techs.update({i : []})\n",
      "\t\t\tfor j in self.tech_d.keys():\n",
      "\t\t\t\tif i in self.tech_d[j].keys():\n",
      "\t\t\t\t\tself.reg_techs[i].append(j)\n",
      "\n",
      "\t\tfor i in self.reg_techs.keys():\n",
      "\t\t\tfor scen in ['hist', 'ukmo_a1b', 'ukmo_a2', 'ukmo_b1', 'echam_a1b', 'echam_a2', 'echam_b1']:\n",
      "\t\t\t\tscen_li = [self.tech_d[k][i][scen]['SUM_CAP'] for k in self.reg_techs[i]]\n",
      "\t\t\t\tscen_df = pd.concat(scen_li, axis=1)\n",
      "\t\t\t\tscen_df['TOT_CAP'] = scen_df.sum(axis=1)\n",
      "\t\t\t\tif scen == 'hist':\n",
      "\t\t\t\t\tscen_df = scen_df.loc[:datetime.date(2009, 12, 31)]\n",
      "\t\t\t\telse:\n",
      "\t\t\t\t\tscen_df = scen_df.loc[:datetime.date(2090, 12, 31)]\t\n",
      "\t\t\t\tself.df_d[i].update({scen : scen_df['TOT_CAP']})\n",
      "                \n",
      "\tdef combine_tech(self, tech):\n",
      "\t\tself.df_d.update({tech : {}})\n",
      "\t\tfor scen in ['hist', 'echam_a1b', 'echam_a2', 'echam_b1', 'ukmo_a1b', 'ukmo_a2', 'ukmo_b1']:\n",
      "\t\t\tdf = pd.concat([self.tech_d[tech][j][scen] for j in self.tech_d[tech].keys()], axis=1)\n",
      "\t\t\tdf['TOT_CAP'] = df['SUM_CAP'].sum(axis=1)\n",
      "\t\t\tself.df_d[tech].update({ scen : df['TOT_CAP'] })\n",
      "\n",
      "\tdef plot_sum(self, wreg, typ, returnplot=False, **kwargs):\n",
      "        \n",
      "\t\tdf_d = self.df_d[wreg]\n",
      "\n",
      "\t\tfor i in df_d.keys():\n",
      "\t\t\tdf_d[i] = pd.DataFrame(df_d[i])\t\n",
      "\t\t\tdf_d[i]['date'] = df_d[i].index\n",
      "\t\t\tdf_d[i]['date'] = pd.to_datetime(df_d[i]['date'])\n",
      "\t\t\tmkyear = lambda x: x['date'].year\n",
      "\t\t\tmkmonth = lambda x: x['date'].month\n",
      "\t\t\tmkday = lambda x: x['date'].day\n",
      "\t\t\tdf_d[i]['YEAR'] = df_d[i].apply(mkyear, axis=1)\n",
      "\t\t\tdf_d[i]['MONTH'] = df_d[i].apply(mkmonth, axis=1)\n",
      "\t\t\tdf_d[i]['DAY'] = df_d[i].apply(mkday, axis=1)\n",
      "\t\t\tdf_d[i] = df_d[i][['YEAR', 'MONTH', 'DAY', 'TOT_CAP']]\n",
      "\n",
      "\t\tif typ == 'annual':\n",
      "\t\n",
      "\t\t\tg = df_d['hist'].groupby(['MONTH', 'DAY']).mean().reset_index() \n",
      "\t\t\thist, = plot(g.index, g['TOT_CAP'], label='historical')\n",
      "\t\t\tg = df_d['ukmo_a1b'].groupby(['MONTH', 'DAY']).mean().reset_index()\n",
      "\t\t\tukmo_a1b, = plot(g.index, g['TOT_CAP'], label='ukmo-a1b')\n",
      "\t\t\tg = df_d['ukmo_a2'].groupby(['MONTH', 'DAY']).mean().reset_index()\n",
      "\t\t\tukmo_a2, = plot(g.index, g['TOT_CAP'], label='ukmo-a2')\n",
      "\t\t\tg = df_d['ukmo_b1'].groupby(['MONTH', 'DAY']).mean().reset_index()\n",
      "\t\t\tukmo_b1, = plot(g.index, g['TOT_CAP'], label='ukmo-b1')\n",
      "\t\t\tg = df_d['echam_a1b'].groupby(['MONTH', 'DAY']).mean().reset_index()\n",
      "\t\t\techam_a1b, = plot(g.index, g['TOT_CAP'], label='echam-a1b')\n",
      "\t\t\tg = df_d['echam_a2'].groupby(['MONTH', 'DAY']).mean().reset_index()\n",
      "\t\t\techam_a2, = plot(g.index, g['TOT_CAP'], label='echam-a2')\n",
      "\t\t\tg = df_d['echam_b1'].groupby(['MONTH', 'DAY']).mean().reset_index()\n",
      "\t\t\techam_b1, = plot(g.index, g['TOT_CAP'], label='echam-b1')\n",
      "\t\n",
      "\t\t\tlegend(loc=3)\n",
      "\t\n",
      "\t\t\txlim([1,366])\n",
      "\t\t\ttitle('%s' % (wreg))\n",
      "\t\t\txlabel('Day of year')\n",
      "\t\t\tylabel('Useable capacity (MW)')\n",
      "\t\n",
      "\t\tif typ == 'century':\n",
      "\t\n",
      "\t\t\tg = df_d['hist'].groupby('YEAR').mean().reset_index() \n",
      "\t\t\thist, = plot(g['YEAR'], g['TOT_CAP'], label='historical')\n",
      "\t\t\tg = df_d['ukmo_a1b'].groupby('YEAR').mean().reset_index()\n",
      "\t\t\tukmo_a1b, = plot(g['YEAR'], g['TOT_CAP'], label='ukmo-a1b')\n",
      "\t\t\tg = df_d['ukmo_a2'].groupby('YEAR').mean().reset_index()\n",
      "\t\t\tukmo_a2, = plot(g['YEAR'], g['TOT_CAP'], label='ukmo-a2')\n",
      "\t\t\tg = df_d['ukmo_b1'].groupby('YEAR').mean().reset_index()\n",
      "\t\t\tukmo_b1, = plot(g['YEAR'], g['TOT_CAP'], label='ukmo-b1')\n",
      "\t\t\tg = df_d['echam_a1b'].groupby('YEAR').mean().reset_index()\n",
      "\t\t\techam_a1b, = plot(g['YEAR'], g['TOT_CAP'], label='echam-a1b')\n",
      "\t\t\tg = df_d['echam_a2'].groupby('YEAR').mean().reset_index()\n",
      "\t\t\techam_a2, = plot(g['YEAR'], g['TOT_CAP'], label='echam-a2')\n",
      "\t\t\tg = df_d['echam_b1'].groupby('YEAR').mean().reset_index()\n",
      "\t\t\techam_b1, = plot(g['YEAR'], g['TOT_CAP'], label='echam-b1')\n",
      "\t\n",
      "\t#\t\tlegend(loc=3)\n",
      "\t\n",
      "\t\t\txlim([1950, 2090])\n",
      "\t\t\taxvline(x=2010, linestyle='--', color='black')\n",
      "\t\t\ttitle('%s' % (wreg))\n",
      "\t\t\txlabel('Year')\n",
      "\t\t\tylabel('Useable capacity (MW)')\n",
      "\t\n",
      "\t\tif typ == 'period':\n",
      "\t\t\thist_mean = df_d['hist']['TOT_CAP'].mean()\n",
      "\t\t\tfor scen in ['hist', 'echam_a1b', 'echam_a2', 'echam_b1', 'ukmo_a1b', 'ukmo_a2', 'ukmo_b1']:\n",
      "\n",
      "\t\t\t\ta = df_d[scen]['TOT_CAP']\n",
      "\t\t\t\tmax_val = a.max()\n",
      "\t\t\t\tb = (max_val - a)/hist_mean\n",
      "\t\t\t\tc = b.order(ascending=False) #.reset_index()\n",
      "\t\t\t\tep = c.rank(method='min', ascending=False)/(1+len(a))\n",
      "\t\t\t\tt = (1/ep)/365\n",
      "\t\t\t\tplot(t, c, label=scen)\n",
      "\n",
      "\t\t\tlegend(loc=4)\n",
      "\t\t\t\n",
      "\t\t\txlim([0,100])\n",
      "\t\t\ttitle('%s' % (wreg))\n",
      "\t\t\txlabel('Return Period (years)')\n",
      "\t\t\tylabel('Reduction in Useable Capacity')\n",
      "\n",
      "\t\tif typ == 'annual_fill':\n",
      "\t\n",
      "\t\t\ttimeslicer = pd.date_range(start=kwargs['startdate'], end=kwargs['enddate'])\n",
      "\n",
      "\t\t\tcomb = pd.concat([self.df_d[wreg][i] for i in self.df_d[wreg].keys() if not 'hist' in i], axis=1)['TOT_CAP'].loc[timeslicer]\n",
      "        \n",
      "\t\t\thist = self.df_d[wreg]['hist'].groupby(['MONTH', 'DAY']).mean().reset_index()\n",
      "\n",
      "\t\t\ta1b = pd.DataFrame(pd.concat([self.df_d[wreg][i] for i in self.df_d[wreg].keys() if 'a1b' in i], axis=1)['TOT_CAP'].mean(axis=1)).loc[timeslicer]\n",
      "\n",
      "\t\t\ta2 = pd.DataFrame(pd.concat([self.df_d[wreg][i] for i in self.df_d[wreg].keys() if 'a2' in i], axis=1)['TOT_CAP'].mean(axis=1)).loc[timeslicer]\t\n",
      "\t\t\t\n",
      "\t\t\tb1 = pd.DataFrame(pd.concat([self.df_d[wreg][i] for i in self.df_d[wreg].keys() if 'b1' in i], axis=1)['TOT_CAP'].mean(axis=1)).loc[timeslicer]\n",
      "\n",
      "\n",
      "\t\t\tcomb['MONTH'] = [i.month for i in comb.index]\n",
      "\t\t\tcomb['DAY'] = [i.day for i in comb.index]\n",
      "\t\t\tcomb = comb.groupby(['MONTH', 'DAY']).mean()\n",
      "\n",
      "\t\t\ta1b['MONTH'] = [i.month for i in a1b.index]\n",
      "\t\t\ta1b['DAY'] = [i.day for i in a1b.index]\n",
      "\t\t\ta1b = a1b.groupby(['MONTH', 'DAY']).mean().reset_index()[0]\n",
      "\n",
      "\t\t\ta2['MONTH'] = [i.month for i in a2.index]\n",
      "\t\t\ta2['DAY'] = [i.day for i in a2.index]\n",
      "\t\t\ta2 = a2.groupby(['MONTH', 'DAY']).mean().reset_index()[0]\n",
      "\n",
      "\t\t\tb1['MONTH'] = [i.month for i in b1.index]\n",
      "\t\t\tb1['DAY'] = [i.day for i in b1.index]\n",
      "\t\t\tb1 = b1.groupby(['MONTH', 'DAY']).mean().reset_index()[0]\n",
      "\n",
      "\t\t\tcomb['max'] = comb.max(axis=1)\n",
      "\t\t\tcomb['min'] = comb.min(axis=1)\n",
      "\t\t\tcomb = comb.reset_index()\n",
      "\n",
      "\t\t\tif returnplot==True:\n",
      "\t\t\t\tx = comb.index\n",
      "\t\t\t\ty_upper = pd.rolling_mean(comb['max'], kwargs['smoothing']).fillna(comb['max']).values\n",
      "\t\t\t\ty_lower = pd.rolling_mean(comb['min'], kwargs['smoothing']).fillna(comb['min']).values\n",
      "\n",
      "\t\t\t\tplt.fill_between(x, y_upper, y_lower, facecolor=\"0.85\", linewidth=0)\n",
      "\t\t\t\tplt.plot(hist.index, pd.rolling_mean(hist['TOT_CAP'], kwargs['smoothing']).fillna(pd.rolling_mean(hist['TOT_CAP'].iloc[-(kwargs['smoothing']+1):].append(hist['TOT_CAP'].iloc[:kwargs['smoothing']]), kwargs['smoothing'])), color='black', label='hist')\n",
      "\t\t\t\tplt.plot(a1b.index, pd.rolling_mean(a1b, kwargs['smoothing']).fillna(pd.rolling_mean(a1b.iloc[-(kwargs['smoothing']+1):].append(a1b.iloc[:kwargs['smoothing']]), kwargs['smoothing'])), color='red', label='a1b')\n",
      "\t\t\t\tplt.plot(a2.index, pd.rolling_mean(a2, kwargs['smoothing']).fillna(pd.rolling_mean(a2.iloc[-(kwargs['smoothing']+1):].append(a2.iloc[:kwargs['smoothing']]), kwargs['smoothing'])), color='orange', label='a2')\n",
      "\t\t\t\tplt.plot(b1.index, pd.rolling_mean(b1, kwargs['smoothing']).fillna(pd.rolling_mean(b1.iloc[-(kwargs['smoothing']+1):].append(b1.iloc[:kwargs['smoothing']]), kwargs['smoothing'])), color='blue', label='b1')\n",
      "\n",
      "\t\t\t\txlim([1,366])\n",
      "\t\t\t\ttitle('%s' % (kwargs['ptitle']))\n",
      "\t\t\t\txlabel('Day of year')\n",
      "\t\t\t\tylabel('Useable capacity (MW)')\n",
      "\t\t\t\tplt.legend(loc=kwargs['legloc'])\n",
      "\n",
      "\t\t\telse:\n",
      "\t\t\t\treturn {'hist': hist, 'a1b':a1b, 'a2':a2, 'b1':b1, 'comb':comb}\n",
      "\n",
      "\t\tif typ == 'century_fill':\n",
      "\t\n",
      "\t\t\tg = df_d['hist'].groupby('YEAR').mean()['TOT_CAP']\n",
      "\t\t\ta1b = pd.DataFrame(pd.concat([self.df_d[wreg][i] for i in self.df_d[wreg].keys() if 'a1b' in i], axis=1)['TOT_CAP'].mean(axis=1))\n",
      "\t\t\ta2 = pd.DataFrame(pd.concat([self.df_d[wreg][i] for i in self.df_d[wreg].keys() if 'a2' in i], axis=1)['TOT_CAP'].mean(axis=1))\t\n",
      "\t\t\tb1 = pd.DataFrame(pd.concat([self.df_d[wreg][i] for i in self.df_d[wreg].keys() if 'b1' in i], axis=1)['TOT_CAP'].mean(axis=1))\n",
      "            \n",
      "\t\t\tcomb = pd.concat([self.df_d[wreg][i] for i in self.df_d[wreg].keys() if not 'hist' in i], axis=1)['TOT_CAP']\n",
      "\t\t\tcomb['YEAR'] = [i.year for i in comb.index]\n",
      "\t\t\tcomb = comb.groupby('YEAR').mean()\n",
      "\n",
      "\t\t\ta1b['YEAR'] = [i.year for i in a1b.index]\n",
      "\t\t\ta1b = a1b.groupby('YEAR').mean()\n",
      "\t\t\ta1b = g.iloc[(len(g)-kwargs['smoothing']):].append(a1b)\n",
      "\t\t\ta1b = pd.rolling_mean(a1b , kwargs['smoothing'] ) \n",
      "\n",
      "\t\t\ta2['YEAR'] = [i.year for i in a2.index]\n",
      "\t\t\ta2 = a2.groupby('YEAR').mean()\n",
      "\t\t\ta2 = g.iloc[(len(g)-kwargs['smoothing']):].append(a2)\n",
      "\t\t\ta2 = pd.rolling_mean(a2 , kwargs['smoothing'] ) \n",
      "\n",
      "\t\t\tb1['YEAR'] = [i.year for i in b1.index]\n",
      "\t\t\tb1 = b1.groupby('YEAR').mean()\n",
      "\t\t\tb1 = g.iloc[(len(g)-kwargs['smoothing']):].append(b1)\n",
      "\t\t\tb1 = pd.rolling_mean(b1 , kwargs['smoothing'] )       \n",
      "            \n",
      "            \n",
      "\t\t\tcomb['max'] = comb.max(axis=1)\n",
      "\t\t\tplotmax = g.iloc[(len(g)-kwargs['smoothing']):].append(comb['max'])\n",
      "\t\t\tcomb['min'] = comb.min(axis=1)\n",
      "\t\t\tplotmin = g.iloc[(len(g)-kwargs['smoothing']):].append(comb['min'])\n",
      "  \n",
      "\t\t\tif returnplot==True:\n",
      "\t\t\t\ty_upper = pd.rolling_mean(plotmax, kwargs['smoothing'])\n",
      "\t\t\t\ty_lower = pd.rolling_mean(plotmin, kwargs['smoothing'])\n",
      "\t\t\t\tx = y_upper.index\n",
      "\n",
      "\t\t\t\tplt.fill_between(x, y_upper, y_lower, facecolor=\"0.85\", linewidth=0)\n",
      "\t\t\t\tplt.plot(g.index, g, color='black', label='hist')\n",
      "\t\t\t\tplt.plot(a1b.index, a1b, color='red', label='a1b')\n",
      "\t\t\t\tplt.plot(a2.index, a2, color='orange', label='a2')\n",
      "\t\t\t\tplt.plot(b1.index, b1, color='blue', label='b1')\n",
      "            \n",
      "\t#\t\tlegend(loc=3)\n",
      "\t\n",
      "\t\t\t\txlim([1950, 2090])\n",
      "\t\t\t\taxvline(x=2010, linestyle='--', color='black')\n",
      "\t\t\t\ttitle('%s' % (wreg))\n",
      "\t\t\t\txlabel('Year')\n",
      "\t\t\t\tylabel('Useable capacity (MW)') \n",
      "                \n",
      "\t\t\telse:\n",
      "\t\t\t\treturn {'hist': hist, 'a1b':a1b, 'a2':a2, 'b1':b1, 'comb':comb}"
     ],
     "language": "python",
     "metadata": {},
     "outputs": [],
     "prompt_number": 12
    },
    {
     "cell_type": "code",
     "collapsed": false,
     "input": [
      "b = sum_regions()"
     ],
     "language": "python",
     "metadata": {},
     "outputs": [],
     "prompt_number": 13
    },
    {
     "cell_type": "code",
     "collapsed": false,
     "input": [
      "b.fix_indices()\n",
      "b.fix_hydro()\n",
      "del b.tech_d['op']['mo']\n",
      "b.rename_pv_wind()"
     ],
     "language": "python",
     "metadata": {},
     "outputs": [],
     "prompt_number": 14
    },
    {
     "cell_type": "code",
     "collapsed": false,
     "input": [
      "for t in b.tech_d.keys():\n",
      "    b.combine_tech(t)"
     ],
     "language": "python",
     "metadata": {},
     "outputs": [],
     "prompt_number": 15
    },
    {
     "cell_type": "code",
     "collapsed": false,
     "input": [
      "rc_d = b.plot_sum('rc', 'annual_fill', startdate=datetime.date(2040,1,1), enddate=datetime.date(2060,1,1), smoothing=14, ptitle='Steam Turbine (Recirculating) Capacity', legloc=4)\n",
      "op_d = b.plot_sum('op', 'annual_fill', startdate=datetime.date(2040,1,1), enddate=datetime.date(2060,1,1), smoothing=14, ptitle='Steam Turbine (Recirculating) Capacity', legloc=4)\n",
      "ct_d = b.plot_sum('ct', 'annual_fill', startdate=datetime.date(2040,1,1), enddate=datetime.date(2060,1,1), smoothing=14, ptitle='Steam Turbine (Recirculating) Capacity', legloc=4)\n",
      "hy_d = b.plot_sum('hy', 'annual_fill', startdate=datetime.date(2040,1,1), enddate=datetime.date(2060,1,1), smoothing=14, ptitle='Steam Turbine (Recirculating) Capacity', legloc=4)\n",
      "pv_d = b.plot_sum('pv', 'annual_fill', startdate=datetime.date(2040,1,1), enddate=datetime.date(2060,1,1), smoothing=14, ptitle='Steam Turbine (Recirculating) Capacity', legloc=4)"
     ],
     "language": "python",
     "metadata": {},
     "outputs": [],
     "prompt_number": 16
    },
    {
     "cell_type": "code",
     "collapsed": false,
     "input": [],
     "language": "python",
     "metadata": {},
     "outputs": [],
     "prompt_number": 16
    },
    {
     "cell_type": "code",
     "collapsed": false,
     "input": [
      "gen_d = {}\n",
      "\n",
      "iterli = [i for i in rc_d.keys() if i != 'comb']\n",
      "\n",
      "for i in rc_d.keys():\n",
      "    gen_d.update({i : rc_d[i] + op_d[i] + ct_d[i] + hy_d[i] + pv_d[i]})"
     ],
     "language": "python",
     "metadata": {},
     "outputs": [],
     "prompt_number": 17
    },
    {
     "cell_type": "code",
     "collapsed": false,
     "input": [
      "gen_d['hist']['MONTH'] = gen_d['hist']['MONTH']/5\n",
      "gen_d['hist']['DAY'] = gen_d['hist']['DAY']/5\n",
      "del gen_d['hist']['YEAR']\n",
      "gen_d['hist']['TOT_CAP'].mean()"
     ],
     "language": "python",
     "metadata": {},
     "outputs": [
      {
       "metadata": {},
       "output_type": "pyout",
       "prompt_number": 18,
       "text": [
        "95421.186680341489"
       ]
      }
     ],
     "prompt_number": 18
    },
    {
     "cell_type": "code",
     "collapsed": false,
     "input": [
      "gen_d['comb']['MONTH'] = gen_d['comb']['MONTH']/5\n",
      "gen_d['comb']['DAY'] = gen_d['comb']['DAY']/5"
     ],
     "language": "python",
     "metadata": {},
     "outputs": [],
     "prompt_number": 19
    },
    {
     "cell_type": "code",
     "collapsed": false,
     "input": [
      "summer_idx = gen_d['hist'].loc[gen_d['hist']['MONTH'].isin([6,7,8])].index\n",
      "\n",
      "a1b_pct = (gen_d['hist']['TOT_CAP'] - gen_d['a1b']).loc[summer_idx].mean()/(gen_d['hist']['TOT_CAP'].loc[summer_idx].mean())\n",
      "a2_pct = (gen_d['hist']['TOT_CAP'] - gen_d['a2']).loc[summer_idx].mean()/(gen_d['hist']['TOT_CAP'].loc[summer_idx].mean())\n",
      "b1_pct = (gen_d['hist']['TOT_CAP'] - gen_d['b1']).loc[summer_idx].mean()/(gen_d['hist']['TOT_CAP'].loc[summer_idx].mean())\n",
      "\n",
      "min_pct = (gen_d['hist']['TOT_CAP'] - gen_d['comb']['min']).loc[summer_idx].mean()/(gen_d['hist']['TOT_CAP'].loc[summer_idx].mean())\n",
      "max_pct = (gen_d['hist']['TOT_CAP'] - gen_d['comb']['max']).loc[summer_idx].mean()/(gen_d['hist']['TOT_CAP'].loc[summer_idx].mean())\n",
      "\n",
      "print min_pct*100\n",
      "print max_pct*100"
     ],
     "language": "python",
     "metadata": {},
     "outputs": [
      {
       "output_type": "stream",
       "stream": "stdout",
       "text": [
        "3.37976278511\n",
        "0.849963562303\n"
       ]
      }
     ],
     "prompt_number": 20
    },
    {
     "cell_type": "code",
     "collapsed": false,
     "input": [
      "print gen_d['hist'].loc[gen_d['hist']['MONTH'].isin([6,7,8])]['TOT_CAP']\n",
      "print gen_d['hist']['TOT_CAP'].max()/summergen"
     ],
     "language": "python",
     "metadata": {},
     "outputs": [
      {
       "output_type": "stream",
       "stream": "stdout",
       "text": [
        "152    93495.034394\n",
        "153    93306.324747\n",
        "154    93237.219017\n",
        "155    93162.431110\n",
        "156    93178.690297\n",
        "157    93245.899731\n",
        "158    93331.834987\n",
        "159    93354.337985\n",
        "160    93263.712158\n",
        "161    93201.142312\n",
        "162    93075.226955\n",
        "163    92901.482135\n",
        "164    92737.600917\n",
        "165    92560.683509\n",
        "166    92463.754231\n",
        "...\n",
        "229    91447.625854\n",
        "230    91486.544266\n",
        "231    91598.643892\n",
        "232    91629.400689\n",
        "233    91613.618673\n",
        "234    91580.335096\n",
        "235    91570.327817\n",
        "236    91590.679088\n",
        "237    91553.771795\n",
        "238    91556.520522\n",
        "239    91558.755776\n",
        "240    91491.165065\n",
        "241    91453.112391\n",
        "242    91540.670363\n",
        "243    91626.767350\n",
        "Name: TOT_CAP, Length: 92, dtype: float64\n",
        "0.501662509267\n"
       ]
      }
     ],
     "prompt_number": 21
    },
    {
     "cell_type": "code",
     "collapsed": false,
     "input": [
      "#print gen_d['hist'].loc[gen_d['hist']['MONTH'].isin([6,7,8])]['TOT_CAP']\n",
      "#print gen_d['hist']['TOT_CAP'].max()/summergen\n",
      "\n",
      "plot(gen_d['hist']['TOT_CAP'], color='black')\n",
      "fill_between(gen_d['comb'].index, gen_d['comb']['max'], gen_d['comb']['min'], facecolor='0.85', linewidth=0)\n",
      "plot(gen_d['a1b'], color='r')\n",
      "plot(gen_d['a2'], color='orange')\n",
      "plot(gen_d['b1'], color='blue')\n",
      "xlim(0,366)\n",
      "#gen_d['hist']['TOT_CAP'].max()/wintergen"
     ],
     "language": "python",
     "metadata": {},
     "outputs": [
      {
       "metadata": {},
       "output_type": "pyout",
       "prompt_number": 22,
       "text": [
        "(0, 366)"
       ]
      },
      {
       "metadata": {},
       "output_type": "display_data",
       "png": "[encoded data removed]",
       "text": [
        "<matplotlib.figure.Figure at 0x7f6992d1f8d0>"
       ]
      }
     ],
     "prompt_number": 22
    },
    {
     "cell_type": "heading",
     "level": 1,
     "metadata": {},
     "source": [
      "Vulnerable Cap vs. Total Cap"
     ]
    },
    {
     "cell_type": "code",
     "collapsed": false,
     "input": [
      "modeled_summergen = gen_d['hist'].loc[summer_idx]['TOT_CAP'].mean()\n",
      "modeled_wintergen = gen_d['hist'].loc[~gen_d['hist']['MONTH'].isin([6,7,8])]['TOT_CAP'].mean()\n",
      "\n",
      "print modeled_summergen/summergen\n",
      "print modeled_wintergen/wintergen"
     ],
     "language": "python",
     "metadata": {},
     "outputs": [
      {
       "output_type": "stream",
       "stream": "stdout",
       "text": [
        "0.4596192193\n",
        "0.475408964332\n"
       ]
      }
     ],
     "prompt_number": 23
    },
    {
     "cell_type": "heading",
     "level": 1,
     "metadata": {},
     "source": [
      "PV Losses"
     ]
    },
    {
     "cell_type": "code",
     "collapsed": false,
     "input": [
      "summer_idx = pv_d['hist'].loc[pv_d['hist']['MONTH'].isin([6,7,8])].index\n",
      "\n",
      "a1b_pct = (pv_d['hist']['TOT_CAP'] - pv_d['a1b']).loc[summer_idx].mean()/(pv_d['hist']['TOT_CAP'].loc[summer_idx].mean())\n",
      "a2_pct = (pv_d['hist']['TOT_CAP'] - pv_d['a2']).loc[summer_idx].mean()/(pv_d['hist']['TOT_CAP'].loc[summer_idx].mean())\n",
      "b1_pct = (pv_d['hist']['TOT_CAP'] - pv_d['b1']).loc[summer_idx].mean()/(pv_d['hist']['TOT_CAP'].loc[summer_idx].mean())\n",
      "\n",
      "min_pct = (pv_d['hist']['TOT_CAP'] - pv_d['comb']['min']).loc[summer_idx].mean()/(pv_d['hist']['TOT_CAP'].loc[summer_idx].mean())\n",
      "max_pct = (pv_d['hist']['TOT_CAP'] - pv_d['comb']['max']).loc[summer_idx].mean()/(pv_d['hist']['TOT_CAP'].loc[summer_idx].mean())\n",
      "\n",
      "print min_pct*100\n",
      "print max_pct*100"
     ],
     "language": "python",
     "metadata": {},
     "outputs": [
      {
       "output_type": "stream",
       "stream": "stdout",
       "text": [
        "1.73874626808\n",
        "0.670361288028\n"
       ]
      }
     ],
     "prompt_number": 24
    },
    {
     "cell_type": "heading",
     "level": 1,
     "metadata": {},
     "source": [
      "PRM Estimation"
     ]
    },
    {
     "cell_type": "code",
     "collapsed": false,
     "input": [
      "pload = 273238.0/1.18\n",
      "pload"
     ],
     "language": "python",
     "metadata": {},
     "outputs": [
      {
       "metadata": {},
       "output_type": "pyout",
       "prompt_number": 2,
       "text": [
        "231557.62711864407"
       ]
      }
     ],
     "prompt_number": 2
    },
    {
     "cell_type": "code",
     "collapsed": false,
     "input": [
      "(273238-(8096) - pload)/pload"
     ],
     "language": "python",
     "metadata": {},
     "outputs": [
      {
       "metadata": {},
       "output_type": "pyout",
       "prompt_number": 3,
       "text": [
        "0.14503678112122032"
       ]
      }
     ],
     "prompt_number": 3
    },
    {
     "cell_type": "code",
     "collapsed": false,
     "input": [
      "100*(0.18 - ((273238-(8096) - pload)/pload))/0.18"
     ],
     "language": "python",
     "metadata": {},
     "outputs": [
      {
       "metadata": {},
       "output_type": "pyout",
       "prompt_number": 4,
       "text": [
        "19.424010488210932"
       ]
      }
     ],
     "prompt_number": 4
    },
    {
     "cell_type": "heading",
     "level": 1,
     "metadata": {},
     "source": [
      "Upper Bound"
     ]
    },
    {
     "cell_type": "code",
     "collapsed": false,
     "input": [
      "0.061*0.41*(273238 - 201000)"
     ],
     "language": "python",
     "metadata": {},
     "outputs": [
      {
       "metadata": {},
       "output_type": "pyout",
       "prompt_number": 5,
       "text": [
        "1806.6723799999997"
       ]
      }
     ],
     "prompt_number": 5
    },
    {
     "cell_type": "code",
     "collapsed": false,
     "input": [
      "0.083*0.41*(273238 - 201000)"
     ],
     "language": "python",
     "metadata": {},
     "outputs": [
      {
       "metadata": {},
       "output_type": "pyout",
       "prompt_number": 6,
       "text": [
        "2458.2591399999997"
       ]
      }
     ],
     "prompt_number": 6
    },
    {
     "cell_type": "code",
     "collapsed": false,
     "input": [
      "(273238-(8096) - pload)/pload"
     ],
     "language": "python",
     "metadata": {},
     "outputs": [
      {
       "metadata": {},
       "output_type": "pyout",
       "prompt_number": 7,
       "text": [
        "0.14503678112122032"
       ]
      }
     ],
     "prompt_number": 7
    },
    {
     "cell_type": "code",
     "collapsed": false,
     "input": [
      "#CT Relative Impacts: 3% above historical, 10-year\n",
      "\n",
      "(273238-(8096)-(0.083*0.41*(273238 - 201000)) - pload)/pload"
     ],
     "language": "python",
     "metadata": {},
     "outputs": [
      {
       "metadata": {},
       "output_type": "pyout",
       "prompt_number": 30,
       "text": [
        "0.13442059382223562"
       ]
      }
     ],
     "prompt_number": 30
    },
    {
     "cell_type": "code",
     "collapsed": false,
     "input": [
      "100*(0.18 - ((273238-(8096)-(0.083*0.41*(273238 - 201000))- pload)/pload))/0.18"
     ],
     "language": "python",
     "metadata": {},
     "outputs": [
      {
       "metadata": {},
       "output_type": "pyout",
       "prompt_number": 31,
       "text": [
        "25.321892320980208"
       ]
      }
     ],
     "prompt_number": 31
    },
    {
     "cell_type": "heading",
     "level": 1,
     "metadata": {},
     "source": [
      "Lower Bound"
     ]
    },
    {
     "cell_type": "code",
     "collapsed": false,
     "input": [
      "100*(0.18 - ((273238-(6643) - pload)/pload))/0.18"
     ],
     "language": "python",
     "metadata": {},
     "outputs": [
      {
       "metadata": {},
       "output_type": "pyout",
       "prompt_number": 32,
       "text": [
        "15.937957222478413"
       ]
      }
     ],
     "prompt_number": 32
    },
    {
     "cell_type": "code",
     "collapsed": false,
     "input": [
      "100*(0.18 - ((273238-(6643)-(0.061*0.41*(273238 - 201000))- pload)/pload))/0.18"
     ],
     "language": "python",
     "metadata": {},
     "outputs": [
      {
       "metadata": {},
       "output_type": "pyout",
       "prompt_number": 33,
       "text": [
        "20.272545075477552"
       ]
      }
     ],
     "prompt_number": 33
    },
    {
     "cell_type": "heading",
     "level": 1,
     "metadata": {},
     "source": [
      "Extreme Events"
     ]
    },
    {
     "cell_type": "code",
     "collapsed": false,
     "input": [
      "hist_all = pd.DataFrame(index=[b.tech_d['rc']['cali']['hist'].index])\n",
      "\n",
      "hist_all['SUM_CAP'] = 0.0\n",
      "\n",
      "for i in b.tech_d.keys():\n",
      "    for j in b.tech_d[i].keys():\n",
      "        hist_all['SUM_CAP'] = hist_all['SUM_CAP'] + b.tech_d[i][j]['hist']['SUM_CAP'].dropna()\n",
      "        "
     ],
     "language": "python",
     "metadata": {},
     "outputs": [],
     "prompt_number": 34
    },
    {
     "cell_type": "code",
     "collapsed": false,
     "input": [],
     "language": "python",
     "metadata": {},
     "outputs": [],
     "prompt_number": 34
    },
    {
     "cell_type": "code",
     "collapsed": false,
     "input": [
      "ukmo_a1b_all = pd.DataFrame(index=[b.tech_d['rc']['cali']['ukmo_a1b'].index])\n",
      "\n",
      "ukmo_a1b_all['SUM_CAP'] = 0.0\n",
      "\n",
      "for i in b.tech_d.keys():\n",
      "    for j in b.tech_d[i].keys():\n",
      "        ukmo_a1b_all['SUM_CAP'] = ukmo_a1b_all['SUM_CAP'] + b.tech_d[i][j]['ukmo_a1b']['SUM_CAP'].dropna()\n",
      "        \n",
      "ukmo_a2_all = pd.DataFrame(index=[b.tech_d['rc']['cali']['ukmo_a2'].index])\n",
      "\n",
      "ukmo_a2_all['SUM_CAP'] = 0.0\n",
      "\n",
      "for i in b.tech_d.keys():\n",
      "    for j in b.tech_d[i].keys():\n",
      "        ukmo_a2_all['SUM_CAP'] = ukmo_a2_all['SUM_CAP'] + b.tech_d[i][j]['ukmo_a2']['SUM_CAP'].dropna()\n",
      "\n",
      "ukmo_b1_all = pd.DataFrame(index=[b.tech_d['rc']['cali']['ukmo_b1'].index])\n",
      "\n",
      "ukmo_b1_all['SUM_CAP'] = 0.0\n",
      "\n",
      "for i in b.tech_d.keys():\n",
      "    for j in b.tech_d[i].keys():\n",
      "        ukmo_b1_all['SUM_CAP'] = ukmo_b1_all['SUM_CAP'] + b.tech_d[i][j]['ukmo_b1']['SUM_CAP'].dropna()\n",
      "\n",
      "echam_a1b_all = pd.DataFrame(index=[b.tech_d['rc']['cali']['echam_a1b'].index])\n",
      "\n",
      "echam_a1b_all['SUM_CAP'] = 0.0\n",
      "\n",
      "for i in b.tech_d.keys():\n",
      "    for j in b.tech_d[i].keys():\n",
      "        echam_a1b_all['SUM_CAP'] = echam_a1b_all['SUM_CAP'] + b.tech_d[i][j]['echam_a1b']['SUM_CAP'].dropna()\n",
      "\n",
      "echam_a2_all = pd.DataFrame(index=[b.tech_d['rc']['cali']['echam_a2'].index])\n",
      "\n",
      "echam_a2_all['SUM_CAP'] = 0.0\n",
      "\n",
      "for i in b.tech_d.keys():\n",
      "    for j in b.tech_d[i].keys():\n",
      "        echam_a2_all['SUM_CAP'] = echam_a2_all['SUM_CAP'] + b.tech_d[i][j]['echam_a2']['SUM_CAP'].dropna()\n",
      "\n",
      "\n",
      "echam_b1_all = pd.DataFrame(index=[b.tech_d['rc']['cali']['echam_b1'].index])\n",
      "\n",
      "echam_b1_all['SUM_CAP'] = 0.0\n",
      "\n",
      "for i in b.tech_d.keys():\n",
      "    for j in b.tech_d[i].keys():\n",
      "        echam_b1_all['SUM_CAP'] = echam_b1_all['SUM_CAP'] + b.tech_d[i][j]['echam_b1']['SUM_CAP'].dropna()\n"
     ],
     "language": "python",
     "metadata": {},
     "outputs": [],
     "prompt_number": 35
    },
    {
     "cell_type": "code",
     "collapsed": false,
     "input": [
      "plot(pd.rolling_mean(hist_all['SUM_CAP'], 365).index, pd.rolling_mean(hist_all['SUM_CAP'], 365))\n",
      "plot(pd.rolling_mean(ukmo_a1b_all['SUM_CAP'], 365).index, pd.rolling_mean(ukmo_a1b_all['SUM_CAP'], 365))\n",
      "plot(pd.rolling_mean(ukmo_a2_all['SUM_CAP'], 365).index, pd.rolling_mean(ukmo_a2_all['SUM_CAP'], 365))\n",
      "plot(pd.rolling_mean(ukmo_b1_all['SUM_CAP'], 365).index, pd.rolling_mean(ukmo_b1_all['SUM_CAP'], 365))\n",
      "#plot(pd.rolling_mean(echam_a1b_all['SUM_CAP'], 365).index, pd.rolling_mean(echam_a1b_all['SUM_CAP'], 365))\n",
      "#plot(pd.rolling_mean(echam_a2_all['SUM_CAP'], 365).index, pd.rolling_mean(echam_a2_all['SUM_CAP'], 365))\n",
      "#plot(pd.rolling_mean(echam_b1_all['SUM_CAP'], 365).index, pd.rolling_mean(echam_b1_all['SUM_CAP'], 365))"
     ],
     "language": "python",
     "metadata": {},
     "outputs": [
      {
       "metadata": {},
       "output_type": "pyout",
       "prompt_number": 36,
       "text": [
        "[<matplotlib.lines.Line2D at 0x7f699aa7b610>]"
       ]
      },
      {
       "metadata": {},
       "output_type": "display_data",
       "png": "[encoded data removed]",
       "text": [
        "<matplotlib.figure.Figure at 0x7f699ffd8f90>"
       ]
      }
     ],
     "prompt_number": 36
    },
    {
     "cell_type": "code",
     "collapsed": false,
     "input": [
      "hist_all['month'] = [i.month for i in hist_all.index]\n",
      "hist_all['day'] = [i.day for i in hist_all.index]\n",
      "ukmo_a1b_all['month'] = [i.month for i in ukmo_a1b_all.index]\n",
      "ukmo_a1b_all['day'] = [i.day for i in ukmo_a1b_all.index]\n",
      "ukmo_a2_all['month'] = [i.month for i in ukmo_a2_all.index]\n",
      "ukmo_a2_all['day'] = [i.day for i in ukmo_a2_all.index]\n",
      "ukmo_b1_all['month'] = [i.month for i in ukmo_b1_all.index]\n",
      "ukmo_b1_all['day'] = [i.day for i in ukmo_b1_all.index]\n",
      "echam_a1b_all['month'] = [i.month for i in echam_a1b_all.index]\n",
      "echam_a1b_all['day'] = [i.day for i in echam_a1b_all.index]\n",
      "echam_a2_all['month'] = [i.month for i in echam_a2_all.index]\n",
      "echam_a2_all['day'] = [i.day for i in echam_a2_all.index]\n",
      "echam_b1_all['month'] = [i.month for i in echam_b1_all.index]\n",
      "echam_b1_all['day'] = [i.day for i in echam_b1_all.index]\n",
      "\n",
      "\n",
      "ukmo_a1b_clip = ukmo_a1b_all.loc[datetime.date(2040,1,1):datetime.date(2060,1,1)]\n",
      "ukmo_a2_clip = ukmo_a2_all.loc[datetime.date(2040,1,1):datetime.date(2060,1,1)]\n",
      "ukmo_b1_clip = ukmo_b1_all.loc[datetime.date(2040,1,1):datetime.date(2060,1,1)]\n",
      "echam_a1b_clip = echam_a1b_all.loc[datetime.date(2040,1,1):datetime.date(2060,1,1)]\n",
      "echam_a2_clip = echam_a2_all.loc[datetime.date(2040,1,1):datetime.date(2060,1,1)]\n",
      "echam_b1_clip = echam_b1_all.loc[datetime.date(2040,1,1):datetime.date(2060,1,1)]"
     ],
     "language": "python",
     "metadata": {},
     "outputs": [],
     "prompt_number": 37
    },
    {
     "cell_type": "code",
     "collapsed": false,
     "input": [
      "quant_hist = [hist_all['SUM_CAP'].quantile(i/100.0) for i in range(1,101)]\n",
      "plot(range(len(quant_hist)), quant_hist)\n",
      "\n",
      "quant_ukmo_a1b = [ukmo_a1b_clip['SUM_CAP'].quantile(i/100.0) for i in range(1,101)]\n",
      "plot(range(len(quant_ukmo_a1b)), quant_ukmo_a1b)\n",
      "quant_ukmo_a2 = [ukmo_a2_clip['SUM_CAP'].quantile(i/100.0) for i in range(1,101)]\n",
      "plot(range(len(quant_ukmo_a2)), quant_ukmo_a2)\n",
      "quant_ukmo_b1 = [ukmo_b1_clip['SUM_CAP'].quantile(i/100.0) for i in range(1,101)]\n",
      "plot(range(len(quant_ukmo_b1)), quant_ukmo_b1)\n",
      "\n",
      "quant_echam_a1b = [echam_a1b_clip['SUM_CAP'].quantile(i/100.0) for i in range(1,101)]\n",
      "plot(range(len(quant_echam_a1b)), quant_echam_a1b)\n",
      "quant_echam_a2 = [echam_a2_clip['SUM_CAP'].quantile(i/100.0) for i in range(1,101)]\n",
      "plot(range(len(quant_echam_a2)), quant_echam_a2)\n",
      "quant_echam_b1 = [echam_b1_clip['SUM_CAP'].quantile(i/100.0) for i in range(1,101)]\n",
      "plot(range(len(quant_echam_b1)), quant_echam_b1)"
     ],
     "language": "python",
     "metadata": {},
     "outputs": [
      {
       "metadata": {},
       "output_type": "pyout",
       "prompt_number": 38,
       "text": [
        "[<matplotlib.lines.Line2D at 0x7f69adf7d350>]"
       ]
      },
      {
       "metadata": {},
       "output_type": "display_data",
       "png": "[encoded data removed]",
       "text": [
        "<matplotlib.figure.Figure at 0x7f699e54c6d0>"
       ]
      }
     ],
     "prompt_number": 38
    },
    {
     "cell_type": "code",
     "collapsed": false,
     "input": [
      "#print hist_all['SUM_CAP'].quantile(0.1)\n",
      "hist_20 = hist_all['SUM_CAP'].quantile(0.05)/hist_all.loc[hist_all['month'].isin([6,7,8])]['SUM_CAP'].mean()\n",
      "ukmo_a1b_20 = ukmo_a1b_clip['SUM_CAP'].quantile(0.05)/hist_all.loc[hist_all['month'].isin([6,7,8])]['SUM_CAP'].mean()\n",
      "ukmo_a2_20 = ukmo_a2_clip['SUM_CAP'].quantile(0.05)/hist_all.loc[hist_all['month'].isin([6,7,8])]['SUM_CAP'].mean()\n",
      "ukmo_b1_20 = ukmo_b1_clip['SUM_CAP'].quantile(0.05)/hist_all.loc[hist_all['month'].isin([6,7,8])]['SUM_CAP'].mean()\n",
      "echam_a1b_20 = echam_a1b_clip['SUM_CAP'].quantile(0.05)/hist_all.loc[hist_all['month'].isin([6,7,8])]['SUM_CAP'].mean()\n",
      "echam_a2_20 = echam_a2_clip['SUM_CAP'].quantile(0.05)/hist_all.loc[hist_all['month'].isin([6,7,8])]['SUM_CAP'].mean()\n",
      "echam_b1_20 = echam_b1_clip['SUM_CAP'].quantile(0.05)/hist_all.loc[hist_all['month'].isin([6,7,8])]['SUM_CAP'].mean()"
     ],
     "language": "python",
     "metadata": {},
     "outputs": [],
     "prompt_number": 39
    },
    {
     "cell_type": "code",
     "collapsed": false,
     "input": [
      "print 100*(hist_20)\n",
      "print 100*(ukmo_a1b_20)\n",
      "print 100*(ukmo_a2_20)\n",
      "print 100*(ukmo_b1_20)\n",
      "print 100*(echam_a1b_20)\n",
      "print 100*(echam_a2_20)\n",
      "print 100*(echam_b1_20)"
     ],
     "language": "python",
     "metadata": {},
     "outputs": [
      {
       "output_type": "stream",
       "stream": "stdout",
       "text": [
        "97.9466575764\n",
        "95.4500485575\n",
        "95.3413574567\n",
        "96.0641749254\n",
        "96.7553299986\n",
        "96.4508611711\n",
        "95.8368237762\n"
       ]
      }
     ],
     "prompt_number": 40
    },
    {
     "cell_type": "code",
     "collapsed": false,
     "input": [
      "print 100*(hist_20 - ukmo_a1b_20)\n",
      "print 100*(hist_20 - ukmo_a2_20)\n",
      "print 100*(hist_20 - ukmo_b1_20)\n",
      "print 100*(hist_20 - echam_a1b_20)\n",
      "print 100*(hist_20 - echam_a2_20)\n",
      "print 100*(hist_20 - echam_b1_20)"
     ],
     "language": "python",
     "metadata": {},
     "outputs": [
      {
       "output_type": "stream",
       "stream": "stdout",
       "text": [
        "2.4966090189\n",
        "2.60530011966\n",
        "1.88248265096\n",
        "1.19132757779\n",
        "1.49579640527\n",
        "2.10983380018\n"
       ]
      }
     ],
     "prompt_number": 41
    },
    {
     "cell_type": "code",
     "collapsed": false,
     "input": [
      "a = hist_all['SUM_CAP']\n",
      "max_val = hist_all['SUM_CAP'].max()\n",
      "b1 = (max_val - a)\n",
      "c = b1.order(ascending=False) #.reset_index()\n",
      "ep = c.rank(method='min', ascending=False)/(1+len(a))\n",
      "t = (1/ep)/365\n",
      "plot(t, c, label='hist')\n",
      "\n",
      "a2 = ukmo_a1b_clip['SUM_CAP']\n",
      "max_val2 = hist_all['SUM_CAP'].max()\n",
      "b2 = (max_val2 - a2)\n",
      "c2 = b2.order(ascending=False) #.reset_index()\n",
      "ep2 = c2.rank(method='min', ascending=False)/(1+len(a2))\n",
      "t2 = (1/ep2)/365\n",
      "plot(t2, c2, label='ukmo_a1b')\n",
      "\n",
      "legend(loc=4)\n",
      "\n",
      "xlim([0,20])\n",
      "title('Return Period')\n",
      "xlabel('Return Period (years)')\n",
      "ylabel('Reduction in Useable Capacity')"
     ],
     "language": "python",
     "metadata": {},
     "outputs": [
      {
       "metadata": {},
       "output_type": "pyout",
       "prompt_number": 42,
       "text": [
        "<matplotlib.text.Text at 0x7f699545dd90>"
       ]
      },
      {
       "metadata": {},
       "output_type": "display_data",
       "png": "[encoded data removed]",
       "text": [
        "<matplotlib.figure.Figure at 0x7f69990086d0>"
       ]
      }
     ],
     "prompt_number": 42
    },
    {
     "cell_type": "code",
     "collapsed": false,
     "input": [
      "t"
     ],
     "language": "python",
     "metadata": {},
     "outputs": [
      {
       "metadata": {},
       "output_type": "pyout",
       "prompt_number": 43,
       "text": [
        "1977-08-02    61.043836\n",
        "1977-08-03    30.521918\n",
        "1977-08-01    20.347945\n",
        "1977-07-31    15.260959\n",
        "1977-07-16    12.208767\n",
        "1977-09-07    10.173973\n",
        "1977-07-17     8.720548\n",
        "1977-07-30     7.630479\n",
        "1977-07-18     6.782648\n",
        "1977-09-08     6.104384\n",
        "1977-09-06     5.549440\n",
        "1977-08-04     5.086986\n",
        "1977-07-15     4.695680\n",
        "1977-07-29     4.360274\n",
        "2001-07-03     4.069589\n",
        "...\n",
        "1974-01-04    0.002742\n",
        "1971-01-06    0.002741\n",
        "1997-01-15    0.002741\n",
        "1971-01-05    0.002741\n",
        "1998-12-23    0.002741\n",
        "1972-12-10    0.002741\n",
        "1974-01-03    0.002741\n",
        "1983-12-24    0.002741\n",
        "1983-12-21    0.002741\n",
        "1983-12-23    0.002740\n",
        "1998-12-22    0.002740\n",
        "1983-12-22    0.002740\n",
        "1997-01-14    0.002740\n",
        "1997-01-13    0.002740\n",
        "1949-01-01         NaN\n",
        "Name: SUM_CAP, Length: 22280"
       ]
      }
     ],
     "prompt_number": 43
    },
    {
     "cell_type": "code",
     "collapsed": false,
     "input": [
      "#c.iloc[5] ~ 10th percentile\n",
      "\n",
      "print c.iloc[2]\n",
      "print c2.iloc[2]\n",
      "print 100*(c2.iloc[2] - c.iloc[2])/c2.iloc[2]\n",
      "c2.iloc[2] - c.iloc[2]"
     ],
     "language": "python",
     "metadata": {},
     "outputs": [
      {
       "output_type": "stream",
       "stream": "stdout",
       "text": [
        "19420.1952715\n",
        "20586.7625194\n",
        "5.6665891333\n"
       ]
      },
      {
       "metadata": {},
       "output_type": "pyout",
       "prompt_number": 44,
       "text": [
        "1166.5672478204069"
       ]
      }
     ],
     "prompt_number": 44
    },
    {
     "cell_type": "code",
     "collapsed": false,
     "input": [
      "100*(c2.iloc[5] - c.iloc[5])/hist_all['SUM_CAP'].quantile(1/3650.0)"
     ],
     "language": "python",
     "metadata": {},
     "outputs": [
      {
       "metadata": {},
       "output_type": "pyout",
       "prompt_number": 45,
       "text": [
        "1.203292869338394"
       ]
      }
     ],
     "prompt_number": 45
    },
    {
     "cell_type": "code",
     "collapsed": false,
     "input": [
      "hist_all['month'] = [i.month for i in hist_all.index]\n",
      "hist_all['day'] = [i.day for i in hist_all.index]\n",
      "ukmo_a1b_all['month'] = [i.month for i in ukmo_a1b_all.index]\n",
      "ukmo_a1b_all['day'] = [i.day for i in ukmo_a1b_all.index]\n",
      "ukmo_a2_all['month'] = [i.month for i in ukmo_a2_all.index]\n",
      "ukmo_a2_all['day'] = [i.day for i in ukmo_a2_all.index]\n",
      "ukmo_b1_all['month'] = [i.month for i in ukmo_b1_all.index]\n",
      "ukmo_b1_all['day'] = [i.day for i in ukmo_b1_all.index]\n",
      "echam_a1b_all['month'] = [i.month for i in echam_a1b_all.index]\n",
      "echam_a1b_all['day'] = [i.day for i in echam_a1b_all.index]\n",
      "echam_a2_all['month'] = [i.month for i in echam_a2_all.index]\n",
      "echam_a2_all['day'] = [i.day for i in echam_a2_all.index]\n",
      "echam_b1_all['month'] = [i.month for i in echam_b1_all.index]\n",
      "echam_b1_all['day'] = [i.day for i in echam_b1_all.index]\n",
      "\n",
      "\n",
      "ukmo_a1b_clip = ukmo_a1b_all.loc[datetime.date(2040,1,1):datetime.date(2060,1,1)]\n",
      "ukmo_a2_clip = ukmo_a2_all.loc[datetime.date(2040,1,1):datetime.date(2060,1,1)]\n",
      "ukmo_b1_clip = ukmo_b1_all.loc[datetime.date(2040,1,1):datetime.date(2060,1,1)]\n",
      "echam_a1b_clip = echam_a1b_all.loc[datetime.date(2040,1,1):datetime.date(2060,1,1)]\n",
      "echam_a2_clip = echam_a2_all.loc[datetime.date(2040,1,1):datetime.date(2060,1,1)]\n",
      "echam_b1_clip = echam_b1_all.loc[datetime.date(2040,1,1):datetime.date(2060,1,1)]"
     ],
     "language": "python",
     "metadata": {},
     "outputs": [],
     "prompt_number": 46
    },
    {
     "cell_type": "code",
     "collapsed": false,
     "input": [
      "plot(hist_all.groupby(['month', 'day']).mean().reset_index()['SUM_CAP'])\n",
      "plot(ukmo_a1b_clip.groupby(['month', 'day']).mean().reset_index()['SUM_CAP'])\n",
      "plot(ukmo_a2_clip.groupby(['month', 'day']).mean().reset_index()['SUM_CAP'])\n",
      "plot(ukmo_b1_clip.groupby(['month', 'day']).mean().reset_index()['SUM_CAP'])\n",
      "plot(echam_a1b_clip.groupby(['month', 'day']).mean().reset_index()['SUM_CAP'])\n",
      "plot(echam_a2_clip.groupby(['month', 'day']).mean().reset_index()['SUM_CAP'])\n",
      "plot(echam_b1_clip.groupby(['month', 'day']).mean().reset_index()['SUM_CAP'])"
     ],
     "language": "python",
     "metadata": {},
     "outputs": [
      {
       "metadata": {},
       "output_type": "pyout",
       "prompt_number": 47,
       "text": [
        "[<matplotlib.lines.Line2D at 0x7f69a18934d0>]"
       ]
      },
      {
       "metadata": {},
       "output_type": "display_data",
       "png": "[encoded data removed]",
       "text": [
        "<matplotlib.figure.Figure at 0x7f69964d7610>"
       ]
      }
     ],
     "prompt_number": 47
    },
    {
     "cell_type": "code",
     "collapsed": false,
     "input": [
      "plot(hist_all.groupby(['month', 'day']).quantile(1.0/3650).reset_index()['SUM_CAP'])\n",
      "plot(ukmo_a1b_clip.groupby(['month', 'day']).quantile(1.0/3650).reset_index()['SUM_CAP'])\n",
      "plot(ukmo_a2_clip.groupby(['month', 'day']).quantile(1.0/3650).reset_index()['SUM_CAP'])\n",
      "plot(ukmo_b1_clip.groupby(['month', 'day']).quantile(1.0/3650).reset_index()['SUM_CAP'])\n",
      "plot(echam_a1b_clip.groupby(['month', 'day']).quantile(1.0/3650).reset_index()['SUM_CAP'])\n",
      "plot(echam_a2_clip.groupby(['month', 'day']).quantile(1.0/3650).reset_index()['SUM_CAP'])\n",
      "plot(echam_b1_clip.groupby(['month', 'day']).quantile(1.0/3650).reset_index()['SUM_CAP'])"
     ],
     "language": "python",
     "metadata": {},
     "outputs": [
      {
       "metadata": {},
       "output_type": "pyout",
       "prompt_number": 48,
       "text": [
        "[<matplotlib.lines.Line2D at 0x7f699a761d50>]"
       ]
      },
      {
       "metadata": {},
       "output_type": "display_data",
       "png": "[encoded data removed]",
       "text": [
        "<matplotlib.figure.Figure at 0x7f6993ecbd50>"
       ]
      }
     ],
     "prompt_number": 48
    },
    {
     "cell_type": "heading",
     "level": 1,
     "metadata": {},
     "source": [
      "Need to distinguish between \"percent increases to reductions\" and \"percent reductions\""
     ]
    },
    {
     "cell_type": "heading",
     "level": 1,
     "metadata": {},
     "source": [
      "USE THESE"
     ]
    },
    {
     "cell_type": "code",
     "collapsed": false,
     "input": [
      "print hist_all.loc[hist_all['month'].isin([6,7,8])]['SUM_CAP'].mean()\n",
      "print ukmo_a1b_clip.loc[ukmo_a1b_clip['month'].isin([6,7,8])]['SUM_CAP'].mean()\n",
      "print ukmo_a2_clip.loc[ukmo_a2_clip['month'].isin([6,7,8])]['SUM_CAP'].mean()\n",
      "print ukmo_b1_clip.loc[ukmo_b1_clip['month'].isin([6,7,8])]['SUM_CAP'].mean()\n",
      "print echam_a1b_clip.loc[echam_a1b_clip['month'].isin([6,7,8])]['SUM_CAP'].mean()\n",
      "print echam_a2_clip.loc[echam_a2_clip['month'].isin([6,7,8])]['SUM_CAP'].mean()\n",
      "print echam_b1_clip.loc[echam_b1_clip['month'].isin([6,7,8])]['SUM_CAP'].mean()"
     ],
     "language": "python",
     "metadata": {},
     "outputs": [
      {
       "output_type": "stream",
       "stream": "stdout",
       "text": [
        "91611.2915262\n",
        "89222.3132852\n",
        "88892.6456957\n",
        "89954.7329957\n",
        "90306.2353829\n",
        "90568.8216191\n",
        "90140.8726347\n"
       ]
      }
     ],
     "prompt_number": 49
    },
    {
     "cell_type": "code",
     "collapsed": false,
     "input": [
      "print hist_all.loc[hist_all['month'].isin([6,7,8])]['SUM_CAP'].quantile(1.0/3650)\n",
      "print hist_all.loc[hist_all['month'].isin([6,7,8])]['SUM_CAP'].mean() - ukmo_a1b_clip.loc[ukmo_a1b_clip['month'].isin([6,7,8])]['SUM_CAP'].quantile(1.0/3650)\n",
      "print hist_all.loc[hist_all['month'].isin([6,7,8])]['SUM_CAP'].mean() - ukmo_a2_clip.loc[ukmo_a2_clip['month'].isin([6,7,8])]['SUM_CAP'].quantile(1.0/3650)\n",
      "print hist_all.loc[hist_all['month'].isin([6,7,8])]['SUM_CAP'].mean() - ukmo_b1_clip.loc[ukmo_b1_clip['month'].isin([6,7,8])]['SUM_CAP'].quantile(1.0/3650)\n",
      "print hist_all.loc[hist_all['month'].isin([6,7,8])]['SUM_CAP'].mean() - echam_a1b_clip.loc[echam_a1b_clip['month'].isin([6,7,8])]['SUM_CAP'].quantile(1.0/3650)\n",
      "print hist_all.loc[hist_all['month'].isin([6,7,8])]['SUM_CAP'].mean() - echam_a2_clip.loc[echam_a2_clip['month'].isin([6,7,8])]['SUM_CAP'].quantile(1.0/3650)\n",
      "print hist_all.loc[hist_all['month'].isin([6,7,8])]['SUM_CAP'].mean() - echam_b1_clip.loc[echam_b1_clip['month'].isin([6,7,8])]['SUM_CAP'].quantile(1.0/3650)"
     ],
     "language": "python",
     "metadata": {},
     "outputs": [
      {
       "output_type": "stream",
       "stream": "stdout",
       "text": [
        "85943.313448\n",
        "6962.6743665\n",
        "7576.42748957\n",
        "7270.14603865\n",
        "6643.51718559\n",
        "8096.51649244\n",
        "7695.16077813\n"
       ]
      }
     ],
     "prompt_number": 50
    },
    {
     "cell_type": "code",
     "collapsed": false,
     "input": [
      "print hist_all.loc[hist_all['month'].isin([6,7,8])]['SUM_CAP'].mean()\n",
      "print 1 - ukmo_a1b_clip.loc[ukmo_a1b_clip['month'].isin([6,7,8])]['SUM_CAP'].mean()/hist_all.loc[hist_all['month'].isin([6,7,8])]['SUM_CAP'].mean()\n",
      "print 1 - ukmo_a2_clip.loc[ukmo_a2_clip['month'].isin([6,7,8])]['SUM_CAP'].mean()/hist_all.loc[hist_all['month'].isin([6,7,8])]['SUM_CAP'].mean()\n",
      "print 1 - ukmo_b1_clip.loc[ukmo_b1_clip['month'].isin([6,7,8])]['SUM_CAP'].mean()/hist_all.loc[hist_all['month'].isin([6,7,8])]['SUM_CAP'].mean()\n",
      "print 1 - echam_a1b_clip.loc[echam_a1b_clip['month'].isin([6,7,8])]['SUM_CAP'].mean()/hist_all.loc[hist_all['month'].isin([6,7,8])]['SUM_CAP'].mean()\n",
      "print 1 - echam_a2_clip.loc[echam_a2_clip['month'].isin([6,7,8])]['SUM_CAP'].mean()/hist_all.loc[hist_all['month'].isin([6,7,8])]['SUM_CAP'].mean()\n",
      "print 1 - echam_b1_clip.loc[echam_b1_clip['month'].isin([6,7,8])]['SUM_CAP'].mean()/hist_all.loc[hist_all['month'].isin([6,7,8])]['SUM_CAP'].mean()"
     ],
     "language": "python",
     "metadata": {},
     "outputs": [
      {
       "output_type": "stream",
       "stream": "stdout",
       "text": [
        "91611.2915262\n",
        "0.026077333931\n",
        "0.0296758814905\n",
        "0.0180824710891\n",
        "0.0142455817568\n",
        "0.0113792731197\n",
        "0.0160506294259\n"
       ]
      }
     ],
     "prompt_number": 51
    },
    {
     "cell_type": "code",
     "collapsed": false,
     "input": [
      "print 1 - hist_all.loc[hist_all['month'].isin([6,7,8])]['SUM_CAP'].quantile(1.0/3650)/hist_all.loc[hist_all['month'].isin([6,7,8])]['SUM_CAP'].mean()\n",
      "print 1 - ukmo_a1b_clip.loc[ukmo_a1b_clip['month'].isin([6,7,8])]['SUM_CAP'].quantile(1.0/3650)/hist_all.loc[hist_all['month'].isin([6,7,8])]['SUM_CAP'].mean()\n",
      "print 1 - ukmo_a2_clip.loc[ukmo_a2_clip['month'].isin([6,7,8])]['SUM_CAP'].quantile(1.0/3650)/hist_all.loc[hist_all['month'].isin([6,7,8])]['SUM_CAP'].mean()\n",
      "print 1 - ukmo_b1_clip.loc[ukmo_b1_clip['month'].isin([6,7,8])]['SUM_CAP'].quantile(1.0/3650)/hist_all.loc[hist_all['month'].isin([6,7,8])]['SUM_CAP'].mean()\n",
      "print 1 - echam_a1b_clip.loc[echam_a1b_clip['month'].isin([6,7,8])]['SUM_CAP'].quantile(1.0/3650)/hist_all.loc[hist_all['month'].isin([6,7,8])]['SUM_CAP'].mean()\n",
      "print 1 - echam_a2_clip.loc[echam_a2_clip['month'].isin([6,7,8])]['SUM_CAP'].quantile(1.0/3650)/hist_all.loc[hist_all['month'].isin([6,7,8])]['SUM_CAP'].mean()\n",
      "print 1 - echam_b1_clip.loc[echam_b1_clip['month'].isin([6,7,8])]['SUM_CAP'].quantile(1.0/3650)/hist_all.loc[hist_all['month'].isin([6,7,8])]['SUM_CAP'].mean()"
     ],
     "language": "python",
     "metadata": {},
     "outputs": [
      {
       "output_type": "stream",
       "stream": "stdout",
       "text": [
        "0.0618698632429\n",
        "0.0760023600859\n",
        "0.08270189584\n",
        "0.0793586240029\n",
        "0.0725185408361\n",
        "0.0883790235631\n",
        "0.083997951016\n"
       ]
      }
     ],
     "prompt_number": 52
    },
    {
     "cell_type": "code",
     "collapsed": false,
     "input": [
      "print hist_all.loc[hist_all['month'].isin([6,7,8])]['SUM_CAP'].quantile(1.0/3650)\n",
      "print 100*(hist_all.loc[hist_all['month'].isin([6,7,8])]['SUM_CAP'].quantile(1.0/3650) - ukmo_a1b_clip.loc[ukmo_a1b_clip['month'].isin([6,7,8])]['SUM_CAP'].quantile(1.0/3650))/hist_all.loc[hist_all['month'].isin([6,7,8])]['SUM_CAP'].quantile(1.0/3650)\n",
      "print 100*(hist_all.loc[hist_all['month'].isin([6,7,8])]['SUM_CAP'].quantile(1.0/3650) - ukmo_a2_clip.loc[ukmo_a2_clip['month'].isin([6,7,8])]['SUM_CAP'].quantile(1.0/3650))/hist_all.loc[hist_all['month'].isin([6,7,8])]['SUM_CAP'].quantile(1.0/3650)\n",
      "print 100*(hist_all.loc[hist_all['month'].isin([6,7,8])]['SUM_CAP'].quantile(1.0/3650) - ukmo_b1_clip.loc[ukmo_b1_clip['month'].isin([6,7,8])]['SUM_CAP'].quantile(1.0/3650))/hist_all.loc[hist_all['month'].isin([6,7,8])]['SUM_CAP'].quantile(1.0/3650)\n",
      "print 100*(hist_all.loc[hist_all['month'].isin([6,7,8])]['SUM_CAP'].quantile(1.0/3650) - echam_a1b_clip.loc[echam_a1b_clip['month'].isin([6,7,8])]['SUM_CAP'].quantile(1.0/3650))/hist_all.loc[hist_all['month'].isin([6,7,8])]['SUM_CAP'].quantile(1.0/3650)\n",
      "print 100*(hist_all.loc[hist_all['month'].isin([6,7,8])]['SUM_CAP'].quantile(1.0/3650) - echam_a2_clip.loc[echam_a2_clip['month'].isin([6,7,8])]['SUM_CAP'].quantile(1.0/3650))/hist_all.loc[hist_all['month'].isin([6,7,8])]['SUM_CAP'].quantile(1.0/3650)\n",
      "print 100*(hist_all.loc[hist_all['month'].isin([6,7,8])]['SUM_CAP'].quantile(1.0/3650) - echam_b1_clip.loc[echam_b1_clip['month'].isin([6,7,8])]['SUM_CAP'].quantile(1.0/3650))/hist_all.loc[hist_all['month'].isin([6,7,8])]['SUM_CAP'].quantile(1.0/3650)"
     ],
     "language": "python",
     "metadata": {},
     "outputs": [
      {
       "output_type": "stream",
       "stream": "stdout",
       "text": [
        "85943.313448\n",
        "1.50645377323\n",
        "2.220590916\n",
        "1.86421479012\n",
        "1.13509599319\n",
        "2.82574445501\n",
        "2.35874394245\n"
       ]
      }
     ],
     "prompt_number": 53
    },
    {
     "cell_type": "code",
     "collapsed": false,
     "input": [],
     "language": "python",
     "metadata": {},
     "outputs": [],
     "prompt_number": 53
    },
    {
     "cell_type": "heading",
     "level": 1,
     "metadata": {},
     "source": [
      "CT SUMMER VALUES"
     ]
    },
    {
     "cell_type": "code",
     "collapsed": false,
     "input": [
      "for t in b.tech_d.keys():\n",
      "    b.combine_tech(t)"
     ],
     "language": "python",
     "metadata": {},
     "outputs": [],
     "prompt_number": 54
    },
    {
     "cell_type": "code",
     "collapsed": false,
     "input": [
      "ct_d = {}\n",
      "\n",
      "for i in b.df_d['ct'].keys(): \n",
      "    ct_d[i] = pd.DataFrame(b.df_d['ct'][i])\n",
      "    if i == 'hist':\n",
      "        ct_d[i]['date'] = pd.date_range(start=datetime.date(1949,1,1), end=datetime.date(2009,12,31), freq='D')\n",
      "    else:\n",
      "        ct_d[i]['date'] = pd.date_range(start=datetime.date(2010,1,1), end=datetime.date(2099,12,31), freq='D')\n",
      "    ct_d[i].set_index('date')\n",
      "    ct_d[i]['month'] = [j.month for j in ct_d[i]['date']]"
     ],
     "language": "python",
     "metadata": {},
     "outputs": [],
     "prompt_number": 55
    },
    {
     "cell_type": "code",
     "collapsed": false,
     "input": [
      "ct_hist = ct_d['hist'].loc[ct_d['hist']['month'].isin([6,7,8])]['TOT_CAP'].mean()\n",
      "ct_ukmo_a1b = ct_d['ukmo_a1b'].loc[datetime.date(2040,1,1):datetime.date(2060,1,1)].loc[ct_d['ukmo_a1b']['month'].isin([6,7,8])]['TOT_CAP'].mean()\n",
      "ct_ukmo_a2 = ct_d['ukmo_a2'].loc[datetime.date(2040,1,1):datetime.date(2060,1,1)].loc[ct_d['ukmo_a2']['month'].isin([6,7,8])]['TOT_CAP'].mean()\n",
      "ct_ukmo_b1 = ct_d['ukmo_b1'].loc[datetime.date(2040,1,1):datetime.date(2060,1,1)].loc[ct_d['ukmo_b1']['month'].isin([6,7,8])]['TOT_CAP'].mean()\n",
      "ct_echam_a1b = ct_d['echam_a1b'].loc[datetime.date(2040,1,1):datetime.date(2060,1,1)].loc[ct_d['echam_a1b']['month'].isin([6,7,8])]['TOT_CAP'].mean()\n",
      "ct_echam_a2 = ct_d['echam_a2'].loc[datetime.date(2040,1,1):datetime.date(2060,1,1)].loc[ct_d['echam_a2']['month'].isin([6,7,8])]['TOT_CAP'].mean()\n",
      "ct_echam_b1 = ct_d['echam_b1'].loc[datetime.date(2040,1,1):datetime.date(2060,1,1)].loc[ct_d['echam_b1']['month'].isin([6,7,8])]['TOT_CAP'].mean()"
     ],
     "language": "python",
     "metadata": {},
     "outputs": [],
     "prompt_number": 56
    },
    {
     "cell_type": "code",
     "collapsed": false,
     "input": [
      "print ct_d['hist'].loc[ct_d['hist']['month'].isin([6,7,8])]['TOT_CAP'].mean()\n",
      "print 1 - ct_d['ukmo_a1b'].loc[datetime.date(2040,1,1):datetime.date(2060,1,1)].loc[ct_d['ukmo_a1b']['month'].isin([6,7,8])]['TOT_CAP'].mean()/ct_d['hist'].loc[ct_d['hist']['month'].isin([6,7,8])]['TOT_CAP'].mean()\n",
      "print 1 - ct_d['ukmo_a2'].loc[datetime.date(2040,1,1):datetime.date(2060,1,1)].loc[ct_d['ukmo_a2']['month'].isin([6,7,8])]['TOT_CAP'].mean()/ct_d['hist'].loc[ct_d['hist']['month'].isin([6,7,8])]['TOT_CAP'].mean()\n",
      "print 1 - ct_d['ukmo_b1'].loc[datetime.date(2040,1,1):datetime.date(2060,1,1)].loc[ct_d['ukmo_b1']['month'].isin([6,7,8])]['TOT_CAP'].mean()/ct_d['hist'].loc[ct_d['hist']['month'].isin([6,7,8])]['TOT_CAP'].mean()\n",
      "print 1 - ct_d['echam_a1b'].loc[datetime.date(2040,1,1):datetime.date(2060,1,1)].loc[ct_d['echam_a1b']['month'].isin([6,7,8])]['TOT_CAP'].mean()/ct_d['hist'].loc[ct_d['hist']['month'].isin([6,7,8])]['TOT_CAP'].mean()\n",
      "print 1 - ct_d['echam_a2'].loc[datetime.date(2040,1,1):datetime.date(2060,1,1)].loc[ct_d['echam_a2']['month'].isin([6,7,8])]['TOT_CAP'].mean()/ct_d['hist'].loc[ct_d['hist']['month'].isin([6,7,8])]['TOT_CAP'].mean()\n",
      "print 1 - ct_d['echam_b1'].loc[datetime.date(2040,1,1):datetime.date(2060,1,1)].loc[ct_d['echam_b1']['month'].isin([6,7,8])]['TOT_CAP'].mean()/ct_d['hist'].loc[ct_d['hist']['month'].isin([6,7,8])]['TOT_CAP'].mean()"
     ],
     "language": "python",
     "metadata": {},
     "outputs": [
      {
       "output_type": "stream",
       "stream": "stdout",
       "text": [
        "44226.0307827\n",
        "0.0350634765185\n",
        "0.0316574931357\n",
        "0.0249622254054\n",
        "0.0192669467536\n",
        "0.0157343181659\n",
        "0.0146545354667"
       ]
      },
      {
       "output_type": "stream",
       "stream": "stdout",
       "text": [
        "\n"
       ]
      }
     ],
     "prompt_number": 57
    },
    {
     "cell_type": "heading",
     "level": 1,
     "metadata": {},
     "source": [
      "RC SUMMER VALUES"
     ]
    },
    {
     "cell_type": "code",
     "collapsed": false,
     "input": [
      "rc_d = {}\n",
      "\n",
      "for i in b.df_d['rc'].keys(): \n",
      "    rc_d[i] = pd.DataFrame(b.df_d['rc'][i])\n",
      "    if i == 'hist':\n",
      "        rc_d[i]['date'] = pd.date_range(start=datetime.date(1949,1,1), end=datetime.date(2009,12,31), freq='D')\n",
      "    else:\n",
      "        rc_d[i]['date'] = pd.date_range(start=datetime.date(2010,1,1), end=datetime.date(2090,12,31), freq='D')\n",
      "    rc_d[i].set_index('date')\n",
      "    rc_d[i]['month'] = [j.month for j in rc_d[i]['date']]"
     ],
     "language": "python",
     "metadata": {},
     "outputs": [],
     "prompt_number": 58
    },
    {
     "cell_type": "code",
     "collapsed": false,
     "input": [
      "rc_hist =  rc_d['hist'].loc[rc_d['hist']['month'].isin([6,7,8])]['TOT_CAP'].mean()\n",
      "rc_ukmo_a1b = rc_d['ukmo_a1b'].loc[datetime.date(2040,1,1):datetime.date(2060,1,1)].loc[rc_d['ukmo_a1b']['month'].isin([6,7,8])]['TOT_CAP'].mean()\n",
      "rc_ukmo_a2 = rc_d['ukmo_a2'].loc[datetime.date(2040,1,1):datetime.date(2060,1,1)].loc[rc_d['ukmo_a2']['month'].isin([6,7,8])]['TOT_CAP'].mean()\n",
      "rc_ukmo_b1 = rc_d['ukmo_b1'].loc[datetime.date(2040,1,1):datetime.date(2060,1,1)].loc[rc_d['ukmo_b1']['month'].isin([6,7,8])]['TOT_CAP'].mean()\n",
      "rc_echam_a1b = rc_d['echam_a1b'].loc[datetime.date(2040,1,1):datetime.date(2060,1,1)].loc[rc_d['echam_a1b']['month'].isin([6,7,8])]['TOT_CAP'].mean()\n",
      "rc_echam_a2 = rc_d['echam_a2'].loc[datetime.date(2040,1,1):datetime.date(2060,1,1)].loc[rc_d['echam_a2']['month'].isin([6,7,8])]['TOT_CAP'].mean()\n",
      "rc_echam_b1 = rc_d['echam_b1'].loc[datetime.date(2040,1,1):datetime.date(2060,1,1)].loc[rc_d['echam_b1']['month'].isin([6,7,8])]['TOT_CAP'].mean()\n"
     ],
     "language": "python",
     "metadata": {},
     "outputs": [],
     "prompt_number": 59
    },
    {
     "cell_type": "code",
     "collapsed": false,
     "input": [
      "print rc_d['hist'].loc[rc_d['hist']['month'].isin([6,7,8])]['TOT_CAP'].mean()\n",
      "print 1 - rc_d['ukmo_a1b'].loc[datetime.date(2040,1,1):datetime.date(2060,1,1)].loc[rc_d['ukmo_a1b']['month'].isin([6,7,8])]['TOT_CAP'].mean()/rc_d['hist'].loc[rc_d['hist']['month'].isin([6,7,8])]['TOT_CAP'].mean()\n",
      "print 1 - rc_d['ukmo_a2'].loc[datetime.date(2040,1,1):datetime.date(2060,1,1)].loc[rc_d['ukmo_a2']['month'].isin([6,7,8])]['TOT_CAP'].mean()/rc_d['hist'].loc[rc_d['hist']['month'].isin([6,7,8])]['TOT_CAP'].mean()\n",
      "print 1 - rc_d['ukmo_b1'].loc[datetime.date(2040,1,1):datetime.date(2060,1,1)].loc[rc_d['ukmo_b1']['month'].isin([6,7,8])]['TOT_CAP'].mean()/rc_d['hist'].loc[rc_d['hist']['month'].isin([6,7,8])]['TOT_CAP'].mean()\n",
      "print 1 - rc_d['echam_a1b'].loc[datetime.date(2040,1,1):datetime.date(2060,1,1)].loc[rc_d['echam_a1b']['month'].isin([6,7,8])]['TOT_CAP'].mean()/rc_d['hist'].loc[rc_d['hist']['month'].isin([6,7,8])]['TOT_CAP'].mean()\n",
      "print 1 - rc_d['echam_a2'].loc[datetime.date(2040,1,1):datetime.date(2060,1,1)].loc[rc_d['echam_a2']['month'].isin([6,7,8])]['TOT_CAP'].mean()/rc_d['hist'].loc[rc_d['hist']['month'].isin([6,7,8])]['TOT_CAP'].mean()\n",
      "print 1 - rc_d['echam_b1'].loc[datetime.date(2040,1,1):datetime.date(2060,1,1)].loc[rc_d['echam_b1']['month'].isin([6,7,8])]['TOT_CAP'].mean()/rc_d['hist'].loc[rc_d['hist']['month'].isin([6,7,8])]['TOT_CAP'].mean()"
     ],
     "language": "python",
     "metadata": {},
     "outputs": [
      {
       "output_type": "stream",
       "stream": "stdout",
       "text": [
        "27623.0408158\n",
        "0.0193612411544\n",
        "0.0168641081437\n",
        "0.0157245285666\n",
        "0.0221378808378\n",
        "0.01322911576\n",
        "0.0178943236358"
       ]
      },
      {
       "output_type": "stream",
       "stream": "stdout",
       "text": [
        "\n"
       ]
      }
     ],
     "prompt_number": 60
    },
    {
     "cell_type": "heading",
     "level": 1,
     "metadata": {},
     "source": [
      "OP Summer Values"
     ]
    },
    {
     "cell_type": "code",
     "collapsed": false,
     "input": [
      "op_d = {}\n",
      "\n",
      "for i in b.df_d['op'].keys(): \n",
      "    op_d[i] = pd.DataFrame(b.df_d['op'][i])\n",
      "    if i == 'hist':\n",
      "        op_d[i]['date'] = pd.date_range(start=datetime.date(1949,1,1), end=datetime.date(2009,12,31), freq='D')\n",
      "    else:\n",
      "        op_d[i]['date'] = pd.date_range(start=datetime.date(2010,1,1), end=datetime.date(2090,12,31), freq='D')\n",
      "    op_d[i].set_index('date')\n",
      "    op_d[i]['month'] = [j.month for j in op_d[i]['date']]"
     ],
     "language": "python",
     "metadata": {},
     "outputs": [],
     "prompt_number": 61
    },
    {
     "cell_type": "code",
     "collapsed": false,
     "input": [
      "op_hist =  op_d['hist'].loc[op_d['hist']['month'].isin([6,7,8])]['TOT_CAP'].mean()\n",
      "op_ukmo_a1b = op_d['ukmo_a1b'].loc[datetime.date(2040,1,1):datetime.date(2060,1,1)].loc[op_d['ukmo_a1b']['month'].isin([6,7,8])]['TOT_CAP'].mean()\n",
      "op_ukmo_a2 = op_d['ukmo_a2'].loc[datetime.date(2040,1,1):datetime.date(2060,1,1)].loc[op_d['ukmo_a2']['month'].isin([6,7,8])]['TOT_CAP'].mean()\n",
      "op_ukmo_b1 = op_d['ukmo_b1'].loc[datetime.date(2040,1,1):datetime.date(2060,1,1)].loc[op_d['ukmo_b1']['month'].isin([6,7,8])]['TOT_CAP'].mean()\n",
      "op_echam_a1b = op_d['echam_a1b'].loc[datetime.date(2040,1,1):datetime.date(2060,1,1)].loc[op_d['echam_a1b']['month'].isin([6,7,8])]['TOT_CAP'].mean()\n",
      "op_echam_a2 = op_d['echam_a2'].loc[datetime.date(2040,1,1):datetime.date(2060,1,1)].loc[op_d['echam_a2']['month'].isin([6,7,8])]['TOT_CAP'].mean()\n",
      "op_echam_b1 = op_d['echam_b1'].loc[datetime.date(2040,1,1):datetime.date(2060,1,1)].loc[op_d['echam_b1']['month'].isin([6,7,8])]['TOT_CAP'].mean()\n"
     ],
     "language": "python",
     "metadata": {},
     "outputs": [],
     "prompt_number": 62
    },
    {
     "cell_type": "heading",
     "level": 1,
     "metadata": {},
     "source": [
      "Thermo Summer Values"
     ]
    },
    {
     "cell_type": "code",
     "collapsed": false,
     "input": [
      "thermo_hist = rc_hist + ct_hist + op_hist"
     ],
     "language": "python",
     "metadata": {},
     "outputs": [],
     "prompt_number": 63
    },
    {
     "cell_type": "code",
     "collapsed": false,
     "input": [
      "print 1 - (rc_ukmo_a1b + ct_ukmo_a1b + op_ukmo_a1b)/thermo_hist\n",
      "print 1 - (rc_ukmo_a2 + ct_ukmo_a2 + op_ukmo_a2)/thermo_hist\n",
      "print 1 - (rc_ukmo_b1 + ct_ukmo_b1 + op_ukmo_b1)/thermo_hist\n",
      "print 1 - (rc_echam_a1b + ct_echam_a1b + op_echam_a1b)/thermo_hist\n",
      "print 1 - (rc_echam_a2 + ct_echam_a2 + op_echam_a2)/thermo_hist\n",
      "print 1 - (rc_echam_b1 + ct_echam_b1 + op_echam_b1)/thermo_hist\n"
     ],
     "language": "python",
     "metadata": {},
     "outputs": [
      {
       "output_type": "stream",
       "stream": "stdout",
       "text": [
        "0.0297579606976\n",
        "0.0265973418685\n",
        "0.0214478961096\n",
        "0.0200885112865\n",
        "0.014664995051\n",
        "0.0156613845434\n"
       ]
      }
     ],
     "prompt_number": 64
    },
    {
     "cell_type": "heading",
     "level": 1,
     "metadata": {},
     "source": [
      "CT EHE"
     ]
    },
    {
     "cell_type": "code",
     "collapsed": false,
     "input": [
      "ehect_ukmo_a1b = ct_d['ukmo_a1b'].loc[datetime.date(2040,1,1):datetime.date(2060,1,1)].loc[ct_d['ukmo_a1b']['month'].isin([6,7,8])]['TOT_CAP'].quantile(1.0/3650)\n",
      "ehect_ukmo_a2 = ct_d['ukmo_a2'].loc[datetime.date(2040,1,1):datetime.date(2060,1,1)].loc[ct_d['ukmo_a2']['month'].isin([6,7,8])]['TOT_CAP'].quantile(1.0/3650)\n",
      "ehect_ukmo_b1 = ct_d['ukmo_b1'].loc[datetime.date(2040,1,1):datetime.date(2060,1,1)].loc[ct_d['ukmo_b1']['month'].isin([6,7,8])]['TOT_CAP'].quantile(1.0/3650)\n",
      "ehect_echam_a1b = ct_d['echam_a1b'].loc[datetime.date(2040,1,1):datetime.date(2060,1,1)].loc[ct_d['echam_a1b']['month'].isin([6,7,8])]['TOT_CAP'].quantile(1.0/3650)\n",
      "ehect_echam_a2 = ct_d['echam_a2'].loc[datetime.date(2040,1,1):datetime.date(2060,1,1)].loc[ct_d['echam_a2']['month'].isin([6,7,8])]['TOT_CAP'].quantile(1.0/3650)\n",
      "ehect_echam_b1 = ct_d['echam_b1'].loc[datetime.date(2040,1,1):datetime.date(2060,1,1)].loc[ct_d['echam_b1']['month'].isin([6,7,8])]['TOT_CAP'].quantile(1.0/3650)"
     ],
     "language": "python",
     "metadata": {},
     "outputs": [],
     "prompt_number": 65
    },
    {
     "cell_type": "code",
     "collapsed": false,
     "input": [
      "print 1 - ehect_ukmo_a1b/ct_hist\n",
      "print 1 - ehect_ukmo_a2/ct_hist\n",
      "print 1 - ehect_ukmo_b1/ct_hist\n",
      "print 1 - ehect_echam_a1b/ct_hist\n",
      "print 1 - ehect_echam_a2/ct_hist\n",
      "print 1 - ehect_echam_b1/ct_hist"
     ],
     "language": "python",
     "metadata": {},
     "outputs": [
      {
       "output_type": "stream",
       "stream": "stdout",
       "text": [
        "0.0834311996148\n",
        "0.0794463162093\n",
        "0.0745365014126\n",
        "0.072024239274\n",
        "0.0736421114754\n",
        "0.0618593061106\n"
       ]
      }
     ],
     "prompt_number": 66
    },
    {
     "cell_type": "code",
     "collapsed": false,
     "input": [
      "st_d = {}\n",
      "\n",
      "for i in rc_d.keys():\n",
      "    st_d.update({i : rc_d[i][['TOT_CAP', 'month']] + op_d[i][['TOT_CAP', 'month']]})"
     ],
     "language": "python",
     "metadata": {},
     "outputs": [],
     "prompt_number": 76
    },
    {
     "cell_type": "code",
     "collapsed": false,
     "input": [
      "for i in st_d.keys():\n",
      "    st_d[i]['month'] = st_d[i]['month']/2"
     ],
     "language": "python",
     "metadata": {},
     "outputs": [],
     "prompt_number": 78
    },
    {
     "cell_type": "code",
     "collapsed": false,
     "input": [
      "st_hist = st_d['hist'].loc[st_d['hist']['month'].isin([6,7,8])]['TOT_CAP'].mean()\n",
      "ehest_hist = st_d['hist'].loc[st_d['hist']['month'].isin([6,7,8])]['TOT_CAP'].quantile(1.0/3650)\n",
      "ehest_ukmo_a1b = st_d['ukmo_a1b'].loc[datetime.date(2040,1,1):datetime.date(2060,1,1)].loc[st_d['ukmo_a1b']['month'].isin([6,7,8])]['TOT_CAP'].quantile(1.0/3650)\n",
      "ehest_ukmo_a2 = st_d['ukmo_a2'].loc[datetime.date(2040,1,1):datetime.date(2060,1,1)].loc[st_d['ukmo_a2']['month'].isin([6,7,8])]['TOT_CAP'].quantile(1.0/3650)\n",
      "ehest_ukmo_b1 = st_d['ukmo_b1'].loc[datetime.date(2040,1,1):datetime.date(2060,1,1)].loc[st_d['ukmo_b1']['month'].isin([6,7,8])]['TOT_CAP'].quantile(1.0/3650)\n",
      "ehest_echam_a1b = st_d['echam_a1b'].loc[datetime.date(2040,1,1):datetime.date(2060,1,1)].loc[st_d['echam_a1b']['month'].isin([6,7,8])]['TOT_CAP'].quantile(1.0/3650)\n",
      "ehest_echam_a2 = st_d['echam_a2'].loc[datetime.date(2040,1,1):datetime.date(2060,1,1)].loc[st_d['echam_a2']['month'].isin([6,7,8])]['TOT_CAP'].quantile(1.0/3650)\n",
      "ehest_echam_b1 = st_d['echam_b1'].loc[datetime.date(2040,1,1):datetime.date(2060,1,1)].loc[st_d['echam_b1']['month'].isin([6,7,8])]['TOT_CAP'].quantile(1.0/3650)"
     ],
     "language": "python",
     "metadata": {},
     "outputs": [],
     "prompt_number": 86
    },
    {
     "cell_type": "code",
     "collapsed": false,
     "input": [
      "print (st_hist - ehest_hist)/st_hist\n",
      "print (st_hist - ehest_ukmo_a1b)/st_hist\n",
      "print (st_hist - ehest_ukmo_a2)/st_hist\n",
      "print (st_hist - ehest_ukmo_b1)/st_hist\n",
      "print (st_hist - ehest_echam_a1b)/st_hist\n",
      "print (st_hist - ehest_echam_a2)/st_hist\n",
      "print (st_hist - ehest_echam_b1)/st_hist"
     ],
     "language": "python",
     "metadata": {},
     "outputs": [
      {
       "output_type": "stream",
       "stream": "stdout",
       "text": [
        "0.0248107359246\n",
        "0.0939620979561\n",
        "0.0858535108866\n",
        "0.0735248282908\n",
        "0.0935489533405\n",
        "0.0807902621916\n",
        "0.0948859630386\n"
       ]
      }
     ],
     "prompt_number": 92
    },
    {
     "cell_type": "code",
     "collapsed": false,
     "input": [],
     "language": "python",
     "metadata": {},
     "outputs": []
    }
   ],
   "metadata": {}
  }
 ]
}